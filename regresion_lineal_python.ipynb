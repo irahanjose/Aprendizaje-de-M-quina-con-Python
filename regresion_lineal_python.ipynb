{
  "nbformat": 4,
  "nbformat_minor": 0,
  "metadata": {
    "colab": {
      "name": "regresion_lineal_python.ipynb",
      "provenance": [],
      "collapsed_sections": [],
      "include_colab_link": true
    },
    "kernelspec": {
      "name": "python3",
      "display_name": "Python 3"
    },
    "language_info": {
      "name": "python"
    }
  },
  "cells": [
    {
      "cell_type": "markdown",
      "metadata": {
        "id": "view-in-github",
        "colab_type": "text"
      },
      "source": [
        "<a href=\"https://colab.research.google.com/github/irahanjose/Aprendizaje-de-M-quina-con-Python/blob/main/regresion_lineal_python.ipynb\" target=\"_parent\"><img src=\"https://colab.research.google.com/assets/colab-badge.svg\" alt=\"Open In Colab\"/></a>"
      ]
    },
    {
      "cell_type": "markdown",
      "metadata": {
        "id": "Vswpx6tLUeO4"
      },
      "source": [
        "# Regresión lineal: implementación desde cero en Python"
      ]
    },
    {
      "cell_type": "markdown",
      "metadata": {
        "id": "KekemDcyUdF3"
      },
      "source": [
        "## 1. Configuración Google Drive"
      ]
    },
    {
      "cell_type": "code",
      "metadata": {
        "id": "7vdb-PLiU0oS",
        "colab": {
          "base_uri": "https://localhost:8080/"
        },
        "outputId": "04b73436-64ef-41ec-b87c-8a8f8fa76bee"
      },
      "source": [
        "from google.colab import drive\n",
        "drive.mount('/gdrive')"
      ],
      "execution_count": null,
      "outputs": [
        {
          "output_type": "stream",
          "text": [
            "Mounted at /gdrive\n"
          ],
          "name": "stdout"
        }
      ]
    },
    {
      "cell_type": "code",
      "metadata": {
        "id": "8pgsYo3FU0oU"
      },
      "source": [
        "ruta = '/gdrive/MyDrive/Colab Notebooks/01_2021-07-FundamentosDL/1.4/dataset.csv'"
      ],
      "execution_count": null,
      "outputs": []
    },
    {
      "cell_type": "markdown",
      "metadata": {
        "id": "Relh2SncVM6Q"
      },
      "source": [
        "## 2. Lectura y visualización del set de datos"
      ]
    },
    {
      "cell_type": "code",
      "metadata": {
        "id": "bVrZoXjmVQMp"
      },
      "source": [
        "import pandas as pd\n",
        "import matplotlib.pyplot as plt\n",
        "import numpy as np\n",
        "np.random.seed(100)"
      ],
      "execution_count": null,
      "outputs": []
    },
    {
      "cell_type": "code",
      "metadata": {
        "id": "TzRpfLirVTP5"
      },
      "source": [
        "data = pd.read_csv(ruta)"
      ],
      "execution_count": null,
      "outputs": []
    },
    {
      "cell_type": "code",
      "metadata": {
        "id": "YjpD9XGjVYYZ",
        "colab": {
          "base_uri": "https://localhost:8080/",
          "height": 205
        },
        "outputId": "d3a3729e-97bf-4eb4-c340-f0f269d40d7c"
      },
      "source": [
        "data.head()"
      ],
      "execution_count": null,
      "outputs": [
        {
          "output_type": "execute_result",
          "data": {
            "text/html": [
              "<div>\n",
              "<style scoped>\n",
              "    .dataframe tbody tr th:only-of-type {\n",
              "        vertical-align: middle;\n",
              "    }\n",
              "\n",
              "    .dataframe tbody tr th {\n",
              "        vertical-align: top;\n",
              "    }\n",
              "\n",
              "    .dataframe thead th {\n",
              "        text-align: right;\n",
              "    }\n",
              "</style>\n",
              "<table border=\"1\" class=\"dataframe\">\n",
              "  <thead>\n",
              "    <tr style=\"text-align: right;\">\n",
              "      <th></th>\n",
              "      <th>Area</th>\n",
              "      <th>Precio</th>\n",
              "    </tr>\n",
              "  </thead>\n",
              "  <tbody>\n",
              "    <tr>\n",
              "      <th>0</th>\n",
              "      <td>152.272727</td>\n",
              "      <td>65928.86015</td>\n",
              "    </tr>\n",
              "    <tr>\n",
              "      <th>1</th>\n",
              "      <td>102.272727</td>\n",
              "      <td>44477.41849</td>\n",
              "    </tr>\n",
              "    <tr>\n",
              "      <th>2</th>\n",
              "      <td>222.727273</td>\n",
              "      <td>95848.62198</td>\n",
              "    </tr>\n",
              "    <tr>\n",
              "      <th>3</th>\n",
              "      <td>79.545455</td>\n",
              "      <td>44964.89827</td>\n",
              "    </tr>\n",
              "    <tr>\n",
              "      <th>4</th>\n",
              "      <td>86.363636</td>\n",
              "      <td>34367.39122</td>\n",
              "    </tr>\n",
              "  </tbody>\n",
              "</table>\n",
              "</div>"
            ],
            "text/plain": [
              "         Area       Precio\n",
              "0  152.272727  65928.86015\n",
              "1  102.272727  44477.41849\n",
              "2  222.727273  95848.62198\n",
              "3   79.545455  44964.89827\n",
              "4   86.363636  34367.39122"
            ]
          },
          "metadata": {
            "tags": []
          },
          "execution_count": 5
        }
      ]
    },
    {
      "cell_type": "code",
      "metadata": {
        "id": "J4_PtVuBVZXR",
        "colab": {
          "base_uri": "https://localhost:8080/"
        },
        "outputId": "d2ddb8ab-8f57-497b-cbab-ee6ce1d6bc96"
      },
      "source": [
        "data.shape"
      ],
      "execution_count": null,
      "outputs": [
        {
          "output_type": "execute_result",
          "data": {
            "text/plain": [
              "(100, 2)"
            ]
          },
          "metadata": {
            "tags": []
          },
          "execution_count": 6
        }
      ]
    },
    {
      "cell_type": "code",
      "metadata": {
        "id": "jFrErFrRVajp"
      },
      "source": [
        "x1 = data['Area'].values\n",
        "y = data['Precio'].values"
      ],
      "execution_count": null,
      "outputs": []
    },
    {
      "cell_type": "code",
      "metadata": {
        "id": "v5S_D28PVfhA",
        "colab": {
          "base_uri": "https://localhost:8080/",
          "height": 288
        },
        "outputId": "7f84b720-0fca-49c9-c78e-7e30f747cbb6"
      },
      "source": [
        "plt.scatter(x1,y)\n",
        "plt.xlabel('$x_1$ (área en $m^2)$')\n",
        "plt.ylabel('y (precio (en U$)');"
      ],
      "execution_count": null,
      "outputs": [
        {
          "output_type": "display_data",
          "data": {
            "image/png": "[encoded data removed]",
            "text/plain": [
              "<Figure size 432x288 with 1 Axes>"
            ]
          },
          "metadata": {
            "tags": [],
            "needs_background": "light"
          }
        }
      ]
    },
    {
      "cell_type": "markdown",
      "metadata": {
        "id": "MWRfTBchVqLI"
      },
      "source": [
        "## 3. Funciones para construir el modelo lineal"
      ]
    },
    {
      "cell_type": "markdown",
      "metadata": {
        "id": "0-Qtn32GVyIB"
      },
      "source": [
        "###3.1 Pérdida\n",
        "\n",
        "$L(\\omega ,b)=\\frac{1}{2m}\\sum_{i=1}^m [w x_1^{(i)}+b-y^{(i)}]^2$"
      ]
    },
    {
      "cell_type": "code",
      "metadata": {
        "id": "of3k_K85V0m8"
      },
      "source": [
        "def calcular_perdida(x,y,w,b,m):\n",
        "\terrores_individuales = np.square([w*x+b-y])\n",
        "\tperdida = np.sum(errores_individuales)/(2*m)\n",
        "\n",
        "\treturn perdida"
      ],
      "execution_count": null,
      "outputs": []
    },
    {
      "cell_type": "markdown",
      "metadata": {
        "id": "JzpZUVhFdRx9"
      },
      "source": [
        "### 3.2 Gradiente descendente\n",
        "\n",
        "Los parámetros (coeficientes) se actualizan así:\n",
        "\n",
        "$\\omega \\leftarrow \\omega - \\alpha \\frac{\\partial L(\\omega ,b)}{\\partial \\omega}$\n",
        "\n",
        "$b \\leftarrow b - \\alpha \\frac{\\partial L(\\omega ,b)}{\\partial b}$\n",
        "\n",
        "donde las derivadas parciales son:\n",
        "\n",
        "$\\frac{\\partial L(\\omega ,b)}{\\partial \\omega} = \\frac{1}{m} \\sum_{i=1}^m x_1^{(i)} [w \\cdot x_1^{(i)} + b - y^{(i)}]$\n",
        "\n",
        "$\\frac{\\partial L(\\omega ,b)}{\\partial b} = \\frac{1}{m} \\sum_{i=1}^m [w \\cdot x_1^{(i)} + b - y^{(i)}]$"
      ]
    },
    {
      "cell_type": "code",
      "metadata": {
        "id": "CAgQlPIYd54K"
      },
      "source": [
        "def gradiente_descendente(w,b,alpha,x,y,m):\n",
        "  # dL_w y dL_b\n",
        "  dL_w = np.sum(x*(w*x+b-y))/m\n",
        "  dL_b = np.sum(w*x+b-y)/m\n",
        "\n",
        "  # Actualización de pesos\n",
        "  w = w - alpha*dL_w\n",
        "  b = b - alpha*dL_b\n",
        "\n",
        "  return w,b"
      ],
      "execution_count": null,
      "outputs": []
    },
    {
      "cell_type": "markdown",
      "metadata": {
        "id": "j1eKT8FSfD_r"
      },
      "source": [
        "### 3.3 Predicción con el modelo ya entrenado\n",
        "\n",
        "$\\hat{y} = w \\cdot x_1 + b$"
      ]
    },
    {
      "cell_type": "code",
      "metadata": {
        "id": "_o7xvdcRfUUQ"
      },
      "source": [
        "def predecir(x,w,b):\n",
        "\ty_pred = w*x + b\n",
        "\n",
        "\treturn y_pred"
      ],
      "execution_count": null,
      "outputs": []
    },
    {
      "cell_type": "markdown",
      "metadata": {
        "id": "S5DljwkZfc8Z"
      },
      "source": [
        "## 4. Entrenamiento"
      ]
    },
    {
      "cell_type": "code",
      "metadata": {
        "id": "d51A1GnOfe82"
      },
      "source": [
        "# Modificar estos hiper-parámetros para observar diferentes comportamientos\n",
        "\n",
        "nits = 20\t\t\t\t# Número de iteraciones\n",
        "alpha = 0.00001 # Tasa de aprendizaje (0.00001)\n"
      ],
      "execution_count": null,
      "outputs": []
    },
    {
      "cell_type": "code",
      "metadata": {
        "id": "KBzuyKgVfpTX"
      },
      "source": [
        "def entrenar(x,y,nits,alpha):\n",
        "\tm = x.shape[0] \t# Número de datos de entrenamiento\n",
        "\n",
        "\t# Inicializar pesos (acá np.random.seed(100) garantiza que siempre inicializo en los mismos valores)\n",
        "\tw = np.random.rand()\n",
        "\tb = np.random.rand()\n",
        "\n",
        "\t# Pérdida inicial\n",
        "\tperdida = []\n",
        "\tperdida_i = calcular_perdida(x,y,w,b,m)\n",
        "\tperdida.append(perdida_i)\n",
        "\n",
        "\t# Imprimir valores iniciales\n",
        "\tprint('Inicialización. '  + 'Loss: '\n",
        "\t\t\t+ str(perdida_i) + ', w: ' + str(w) + ', b: ' + str(b))\n",
        "\n",
        "\t# Entrenamiento\n",
        "\tfor it in range(nits):\n",
        "\t\t# Aplicar gradiente descendente\n",
        "\t\tw, b = gradiente_descendente(w,b,alpha,x1,y,m)\n",
        "\n",
        "\t\t# Actualizar pérdida\n",
        "\t\tperdida_it = calcular_perdida(x1,y,w,b,m)\n",
        "\t\tperdida.append(perdida_it)\n",
        "\n",
        "\t\t# Imprimir en pantalla\n",
        "\t\tprint('Iteración: ' + str(it) + '. ' + 'Loss: '\n",
        "\t\t\t+ str(perdida_it) + ', w: ' + str(w) + ', b: ' + str(b))\n",
        "\n",
        "\treturn w, b, perdida"
      ],
      "execution_count": null,
      "outputs": []
    },
    {
      "cell_type": "code",
      "metadata": {
        "id": "Lx2-6zyZfuHl",
        "colab": {
          "base_uri": "https://localhost:8080/"
        },
        "outputId": "a11e6720-3b1d-4f56-9a01-f81ca33a0530"
      },
      "source": [
        "# Ejecutar entrenamiento\n",
        "w, b, perdida = entrenar(x1,y,nits,alpha)"
      ],
      "execution_count": null,
      "outputs": [
        {
          "output_type": "stream",
          "text": [
            "Inicialización. Loss: 2341164322.665721, w: 0.6707490847267786, b: 0.8258527551050476\n",
            "Iteración: 0. Loss: 1.0026306821138152e+18, w: 9295041.687019069, b: 55191.44718089758\n",
            "Iteración: 1. Loss: 4.374956086891147e+26, w: -194154252804.1562, b: -1150200615.2540967\n",
            "Iteración: 2. Loss: 1.909002098629283e+35, w: 4055676092582926.5, b: 24026473819727.17\n",
            "Iteración: 3. Loss: 8.329887066730871e+43, w: -8.471876506820248e+19, b: -5.018875138097e+17\n",
            "Iteración: 4. Loss: 3.634727200892658e+52, w: 1.7696850021647324e+24, b: 1.0483896988438677e+22\n",
            "Iteración: 5. Loss: 1.58600491448125e+61, w: -3.696683968853368e+28, b: -2.1899747062818685e+26\n",
            "Iteración: 6. Loss: 6.920496229100536e+69, w: 7.72198009750971e+32, b: 4.5746245117089807e+30\n",
            "Iteración: 7. Loss: 3.019742727131439e+78, w: -1.6130396087072517e+37, b: -9.555904624423149e+34\n",
            "Iteración: 8. Loss: 1.3176578436266858e+87, w: 3.369468382983193e+41, b: 1.9961269598705996e+39\n",
            "Iteración: 9. Loss: 5.749569912931707e+95, w: -7.038461500038632e+45, b: -4.169697162672103e+43\n",
            "Iteración: 10. Loss: 2.5088117027940124e+104, w: 1.4702598349851672e+50, b: 8.710054409326182e+47\n",
            "Iteración: 11. Loss: 1.094714257829907e+113, w: -3.071216603740386e+54, b: -1.8194378357397355e+52\n",
            "Iteración: 12. Loss: 4.776760667057833e+121, w: 6.415445217671873e+58, b: 3.800612352750371e+56\n",
            "Iteración: 13. Loss: 2.0843286096942478e+130, w: -1.3401183521482435e+63, b: -7.939075450745416e+60\n",
            "Iteración: 14. Loss: 9.094920294312826e+138, w: 2.799364871540827e+67, b: 1.6583885217080005e+65\n",
            "Iteración: 15. Loss: 3.96854770285177e+147, w: -5.847575828996576e+71, b: -3.464197444646556e+69\n",
            "Iteración: 16. Loss: 1.7316667282569104e+156, w: 1.2214964695561053e+76, b: 7.236340446408815e+73\n",
            "Iteración: 17. Loss: 7.556088227431836e+164, w: -2.5515763604797246e+80, b: -1.5115946447352341e+78\n",
            "Iteración: 18. Loss: 3.297081844276414e+173, w: 5.32997195294793e+84, b: 3.157560630147213e+82\n",
            "Iteración: 19. Loss: 1.4386741341097222e+182, w: -1.1133745185611628e+89, b: -6.595808716166764e+86\n"
          ],
          "name": "stdout"
        }
      ]
    },
    {
      "cell_type": "code",
      "metadata": {
        "id": "I2Kl-4HAfyUE",
        "colab": {
          "base_uri": "https://localhost:8080/",
          "height": 290
        },
        "outputId": "dd3182b8-3f6a-4e3c-f2e7-0f4ce1b71576"
      },
      "source": [
        "# Dibujar comportamiento del error\n",
        "plt.plot(perdida)\n",
        "plt.xlabel('Iteración')\n",
        "plt.ylabel('Pérdida')\n",
        "plt.show()"
      ],
      "execution_count": null,
      "outputs": [
        {
          "output_type": "display_data",
          "data": {
            "image/png": "[encoded data removed]",
            "text/plain": [
              "<Figure size 432x288 with 1 Axes>"
            ]
          },
          "metadata": {
            "tags": [],
            "needs_background": "light"
          }
        }
      ]
    },
    {
      "cell_type": "code",
      "metadata": {
        "id": "1rWgFXvUf3PY",
        "colab": {
          "base_uri": "https://localhost:8080/",
          "height": 315
        },
        "outputId": "4fc978f6-6cc3-4e87-ab57-625436b3e4f1"
      },
      "source": [
        "# Dibujar recta resultante\n",
        "x_pred = np.linspace(x1.min(),x1.max(),x1.shape[0])\n",
        "y_pred = predecir(x_pred,w,b)\n",
        "\n",
        "plt.scatter(x1,y)\n",
        "plt.plot(x_pred,y_pred,'r--')\n",
        "plt.xlabel('$x_1$ (área en $m^2$)')\n",
        "plt.ylabel('y (precio (en U$)')"
      ],
      "execution_count": null,
      "outputs": [
        {
          "output_type": "execute_result",
          "data": {
            "text/plain": [
              "Text(0, 0.5, 'y (precio (en U$)')"
            ]
          },
          "metadata": {
            "tags": []
          },
          "execution_count": 35
        },
        {
          "output_type": "display_data",
          "data": {
            "image/png": "[encoded data removed]",
            "text/plain": [
              "<Figure size 432x288 with 1 Axes>"
            ]
          },
          "metadata": {
            "tags": [],
            "needs_background": "light"
          }
        }
      ]
    },
    {
      "cell_type": "code",
      "metadata": {
        "id": "A6gdjofdf6lX"
      },
      "source": [
        ""
      ],
      "execution_count": null,
      "outputs": []
    }
  ]
}