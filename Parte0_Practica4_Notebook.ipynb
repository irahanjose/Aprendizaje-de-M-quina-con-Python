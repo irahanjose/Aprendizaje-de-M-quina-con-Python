{
  "nbformat": 4,
  "nbformat_minor": 0,
  "metadata": {
    "colab": {
      "name": "Parte0_Practica4_Notebook.ipynb",
      "provenance": [],
      "collapsed_sections": [],
      "include_colab_link": true
    },
    "kernelspec": {
      "name": "python3",
      "display_name": "Python 3"
    }
  },
  "cells": [
    {
      "cell_type": "markdown",
      "metadata": {
        "id": "view-in-github",
        "colab_type": "text"
      },
      "source": [
        "<a href=\"https://colab.research.google.com/github/irahanjose/Aprendizaje-de-M-quina-con-Python/blob/main/Parte0_Practica4_Notebook.ipynb\" target=\"_parent\"><img src=\"https://colab.research.google.com/assets/colab-badge.svg\" alt=\"Open In Colab\"/></a>"
      ]
    },
    {
      "cell_type": "markdown",
      "metadata": {
        "id": "AEzQrJKjPRdy"
      },
      "source": [
        "## **Evaluación de Modelos de Aprendizaje** \n",
        "\n",
        "## Recuerda: Haz una copia del Colab para que trabajes\n",
        "\n",
        "\n",
        "Hecho con 💗 por alan@machinelearningenespanol.com\n",
        "\n",
        "---"
      ]
    },
    {
      "cell_type": "markdown",
      "metadata": {
        "id": "5K9pbl_hPmHD"
      },
      "source": [
        "Ya en la primera práctica evaluamos un modelo 📈. ¿Recuerdas qué función usamos para calcular la exactiud?\n",
        "\n",
        "Lo que no hemos hecho es usar dos conjuntos de datos 2️⃣: conjunto de entrenamiento, y conjunto de evaluación.\n",
        "\n",
        "Ejecuta las siguientes celdas para observar el resultado de usar solo un conjunto de datos para entrenamiento y evaluación, y el resultado de utilizar dos conjuntos de datos: Entrenamiento o *train* y Evaluación o *test*.\n",
        "\n",
        "---\n",
        "\n",
        "Puedes encontrar diferentes funciones para medir y evaluar modelos de aprendizaje supervisado (clasificación y regresión) y de aprendizaje no supervisado (agrupamiento o clusterización), en la documentación de sklearn: [model_evaluation](https://scikit-learn.org/stable/modules/model_evaluation.html)"
      ]
    },
    {
      "cell_type": "markdown",
      "metadata": {
        "id": "QLmB-BuVGCaq"
      },
      "source": [
        "¿Cómo funciona *accuracy_score(~)*?"
      ]
    },
    {
      "cell_type": "code",
      "metadata": {
        "id": "eQLvR8vyq9tm",
        "colab": {
          "base_uri": "https://localhost:8080/"
        },
        "outputId": "c47c7676-d6b0-451b-ed7f-5d3ee8a540b0"
      },
      "source": [
        "import numpy as np\n",
        "y_true = np.array([0, 1, 1, 1, 1, 0])\n",
        "y_pred = np.array([1, 1, 1, 1, 0, 0])\n",
        "from sklearn.metrics import accuracy_score  \n",
        "print(\"Función Sklearn: \", accuracy_score(y_true, y_pred))\n",
        "print(\"Cálculos propios: \", 4/6 )"
      ],
      "execution_count": null,
      "outputs": [
        {
          "output_type": "stream",
          "name": "stdout",
          "text": [
            "Función Sklearn:  0.6666666666666666\n",
            "Cálculos propios:  0.6666666666666666\n"
          ]
        }
      ]
    },
    {
      "cell_type": "markdown",
      "metadata": {
        "id": "fjM-Gk64GTsC"
      },
      "source": [
        "Código de la primera práctica donde usamos el mismo conjunto de datos para entrenar y para evaluar. ¿Cuál es la exactitud? 🤓"
      ]
    },
    {
      "cell_type": "code",
      "metadata": {
        "id": "pUqfYD6lPsKK",
        "colab": {
          "base_uri": "https://localhost:8080/"
        },
        "outputId": "a899b59f-3e5c-4c85-f09d-5230116183da"
      },
      "source": [
        "import pandas as pd  # Pandas ofrece estructuras de datos y operaciones para manipular tablas numéricas.\n",
        "url = 'https://raw.githubusercontent.com/AlanCIO/Disruptora_DatasetLab0/master/CreditScoringClean.csv'\n",
        "df = pd.read_csv(url)\n",
        "\n",
        "# Primero aislamos los atributos de las etiquetas\n",
        "# Los atributos son los valores de los ejemplos, y la etiqueta es el valor o clase que intentamos predecir\n",
        "X = df.iloc[:,0:-1] # Atributos\n",
        "y = df.iloc[:,-1]   # Etiqueta 'CreditScore' 0: Negar préstamo, 1:Asignar préstamo\n",
        "\n",
        "# Entrenar un modelo: Gaussian Näive Bayes\n",
        "from sklearn.naive_bayes import GaussianNB  # Importar el modelo de sklearn\n",
        "clf = GaussianNB()                          # Crear el modelo\n",
        "clf = clf.fit(X, y)                         # Entrenar el modelo\n",
        "\n",
        "# Evaluar el modelo: Gaussian Näive Bayes\n",
        "from sklearn.metrics import accuracy_score  \n",
        "y_pred = clf.predict(X)                # usar los ejemplos de prueba para predecir\n",
        "accuracy_score(y, y_pred)              # comparar las predicciones con los valores reales de las etiquetas de prueba"
      ],
      "execution_count": null,
      "outputs": [
        {
          "output_type": "execute_result",
          "data": {
            "text/plain": [
              "0.7347368421052631"
            ]
          },
          "metadata": {},
          "execution_count": 4
        }
      ]
    },
    {
      "cell_type": "markdown",
      "metadata": {
        "id": "1cd20-yFCUiE"
      },
      "source": [
        "Modifiquemos el código anterior para usar ahora **dos conjuntos** uno de entrenamiento y uno de prueba."
      ]
    },
    {
      "cell_type": "code",
      "metadata": {
        "id": "-svmn1J8G2vk",
        "colab": {
          "base_uri": "https://localhost:8080/"
        },
        "outputId": "e7bfb047-0b6d-404f-b8c6-e5303adada26"
      },
      "source": [
        "import pandas as pd  # Pandas ofrece estructuras de datos y operaciones para manipular tablas numéricas.\n",
        "url = 'https://raw.githubusercontent.com/AlanCIO/Disruptora_DatasetLab0/master/CreditScoringClean.csv'\n",
        "df = pd.read_csv(url)\n",
        "\n",
        "# Primero aislamos los atributos de las etiquetas\n",
        "# Los atributos son los valores de los ejemplos, y la etiqueta es el valor o clase que intentamos predecir\n",
        "X = df.iloc[:,0:-1] # Atributos\n",
        "y = df.iloc[:,-1]   # Etiqueta 'CreditScore' 0: Negar préstamo, 1:Asignar préstamo\n",
        "\n",
        "# *****************  C Ó D I G O   N U E V O  ********************************************\n",
        "# Dividir datos para entrenar y para evaluar\n",
        "from sklearn.model_selection import train_test_split\n",
        "X_train, X_test, y_train, y_test = train_test_split(X, y, test_size=0.30, random_state=22)\n",
        "\n",
        "# Entrenar un modelo: Gaussian Näive Bayes\n",
        "from sklearn.naive_bayes import GaussianNB  # Importar el modelo de sklearn\n",
        "clf = GaussianNB()                          # Crear el modelo\n",
        "clf = clf.fit(X_train, y_train)             # Entrenar el modelo USANDO LOS DATOS DE ENTRENAMIENTO\n",
        "\n",
        "# Evaluar el modelo USANDO LOS DATOS DE PRUEBA\n",
        "from sklearn.metrics import accuracy_score  \n",
        "y_pred = clf.predict(X_test)\n",
        "print(\"Exactitud evaluando con datos de prueba: \",accuracy_score(y_test, y_pred))"
      ],
      "execution_count": null,
      "outputs": [
        {
          "output_type": "stream",
          "name": "stdout",
          "text": [
            "Exactitud evaluando con datos de prueba:  0.7192982456140351\n"
          ]
        }
      ]
    },
    {
      "cell_type": "markdown",
      "metadata": {
        "id": "m85jkXc4Cqqw"
      },
      "source": [
        "Se obtuvieron mejores resultados cuando entrenamos y evaluamos con los mismos datos, 0.73. Cuando usamos dos conjuntos de datos el valor de exactitud fue de 0.69. El valor de 0.69, aun cuando fue peor, es un valor más confiable. ¡Necesitamos mejorar el modelo! 🦾\n",
        "\n",
        "---\n",
        "\n",
        "Modifica la siguiente celda para que entrenes el modelo con un conjunto de datos, y lo evalúes con otro."
      ]
    },
    {
      "cell_type": "code",
      "metadata": {
        "id": "VabSKOi69D8f",
        "colab": {
          "base_uri": "https://localhost:8080/"
        },
        "outputId": "2d4ff4a4-82dd-41b7-a00a-79062a6bb9dc"
      },
      "source": [
        "import numpy as np\n",
        "from sklearn import datasets\n",
        "from sklearn import svm\n",
        "\n",
        "IrisDataset = datasets.load_iris()\n",
        "X = IrisDataset.data\n",
        "y = IrisDataset.target\n",
        "\n",
        "clf = svm.SVC()\n",
        "clf.fit(X, y)\n",
        "y_pred = clf.predict(X)   \n",
        "accuracy_score(y, y_pred)"
      ],
      "execution_count": null,
      "outputs": [
        {
          "output_type": "execute_result",
          "data": {
            "text/plain": [
              "0.9733333333333334"
            ]
          },
          "metadata": {},
          "execution_count": 11
        }
      ]
    },
    {
      "cell_type": "markdown",
      "metadata": {
        "id": "-hMZNleJgid_"
      },
      "source": [
        "**Evaluación en Agrupamiento (clusterización)**\n",
        "\n",
        "Como la clasificación tiene etiquetas, es necesario un conjunto de datos de entrenamiento y prueba (test)  para verificar el modelo creado, pero no hay necesidad de un conjunto de datos de entrenamiento y prueba (test) en la agrupación. ¿Por qué?\n",
        "\n",
        "En el curso Cómo resolver problemas con aprendizaje no supervisado, vermos con mas detalle cómo usar k-medios para clusterización, y también aprenderás a evaluar los resultados."
      ]
    },
    {
      "cell_type": "code",
      "metadata": {
        "id": "oTMXR_nSVVn6"
      },
      "source": [
        ""
      ],
      "execution_count": null,
      "outputs": []
    }
  ]
}