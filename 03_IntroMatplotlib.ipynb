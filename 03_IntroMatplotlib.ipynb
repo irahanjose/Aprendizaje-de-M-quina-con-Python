{
  "nbformat": 4,
  "nbformat_minor": 5,
  "metadata": {
    "kernelspec": {
      "display_name": "Python 3",
      "language": "python",
      "name": "python3"
    },
    "language_info": {
      "codemirror_mode": {
        "name": "ipython",
        "version": 3
      },
      "file_extension": ".py",
      "mimetype": "text/x-python",
      "name": "python",
      "nbconvert_exporter": "python",
      "pygments_lexer": "ipython3",
      "version": "3.8.5"
    },
    "colab": {
      "name": "03-IntroMatplotlib.ipynb",
      "provenance": [],
      "collapsed_sections": [],
      "include_colab_link": true
    }
  },
  "cells": [
    {
      "cell_type": "markdown",
      "metadata": {
        "id": "view-in-github",
        "colab_type": "text"
      },
      "source": [
        "<a href=\"https://colab.research.google.com/github/irahanjose/Aprendizaje-de-M-quina-con-Python/blob/main/03_IntroMatplotlib.ipynb\" target=\"_parent\"><img src=\"https://colab.research.google.com/assets/colab-badge.svg\" alt=\"Open In Colab\"/></a>"
      ]
    },
    {
      "cell_type": "markdown",
      "metadata": {
        "id": "fa34c5b3"
      },
      "source": [
        "# Lo esencial de Matplotlib para Deep Learning"
      ],
      "id": "fa34c5b3"
    },
    {
      "cell_type": "code",
      "metadata": {
        "id": "43300f50"
      },
      "source": [
        "import matplotlib.pyplot as plt"
      ],
      "id": "43300f50",
      "execution_count": null,
      "outputs": []
    },
    {
      "cell_type": "markdown",
      "metadata": {
        "id": "8e0c44a4"
      },
      "source": [
        "## 1. Plots (líneas continuas)"
      ],
      "id": "8e0c44a4"
    },
    {
      "cell_type": "code",
      "metadata": {
        "id": "0fcbe090"
      },
      "source": [
        "# Datos a graficar\n",
        "import numpy as np\n",
        "\n",
        "npts = 20\n",
        "x = np.linspace(0,10,npts) # Vector con un total de \"npts\" datos y con valores del 0 al 10\n",
        "y = 5*x + 2"
      ],
      "id": "0fcbe090",
      "execution_count": null,
      "outputs": []
    },
    {
      "cell_type": "code",
      "metadata": {
        "id": "02973e89",
        "colab": {
          "base_uri": "https://localhost:8080/",
          "height": 265
        },
        "outputId": "aaef524c-0d07-4968-846d-4beb14fd6e03"
      },
      "source": [
        "# Graficar y (eje vertical) vs. x (eje horizontal)\n",
        "plt.plot(x,y);"
      ],
      "id": "02973e89",
      "execution_count": null,
      "outputs": [
        {
          "output_type": "display_data",
          "data": {
            "image/png": "[encoded data removed]",
            "text/plain": [
              "<Figure size 432x288 with 1 Axes>"
            ]
          },
          "metadata": {
            "tags": [],
            "needs_background": "light"
          }
        }
      ]
    },
    {
      "cell_type": "code",
      "metadata": {
        "id": "c9a62371",
        "colab": {
          "base_uri": "https://localhost:8080/",
          "height": 295
        },
        "outputId": "e3a5d437-12cd-4fb4-a082-a9107d9451f7"
      },
      "source": [
        "# \"Embellecer\" la gráfica\n",
        "plt.plot(x,y,'r--')\n",
        "plt.title('y versus x')\n",
        "plt.xlabel('x')\n",
        "plt.ylabel('y')\n",
        "plt.grid()"
      ],
      "id": "c9a62371",
      "execution_count": null,
      "outputs": [
        {
          "output_type": "display_data",
          "data": {
            "image/png": "[encoded data removed]",
            "text/plain": [
              "<Figure size 432x288 with 1 Axes>"
            ]
          },
          "metadata": {
            "tags": [],
            "needs_background": "light"
          }
        }
      ]
    },
    {
      "cell_type": "markdown",
      "metadata": {
        "id": "3183d372"
      },
      "source": [
        "## 2. Scatterplots (dibujar puntos)"
      ],
      "id": "3183d372"
    },
    {
      "cell_type": "code",
      "metadata": {
        "id": "2a5099c6",
        "colab": {
          "base_uri": "https://localhost:8080/",
          "height": 295
        },
        "outputId": "f0288347-705b-4355-d68d-5bfa46489f2e"
      },
      "source": [
        "plt.scatter(x,y,s=75,c='r')\n",
        "plt.title('y versus x')\n",
        "plt.xlabel('x')\n",
        "plt.ylabel('y')\n",
        "plt.grid()"
      ],
      "id": "2a5099c6",
      "execution_count": null,
      "outputs": [
        {
          "output_type": "display_data",
          "data": {
            "image/png": "[encoded data removed]",
            "text/plain": [
              "<Figure size 432x288 with 1 Axes>"
            ]
          },
          "metadata": {
            "tags": [],
            "needs_background": "light"
          }
        }
      ]
    },
    {
      "cell_type": "code",
      "metadata": {
        "id": "pi2sAANQMpHe"
      },
      "source": [
        ""
      ],
      "id": "pi2sAANQMpHe",
      "execution_count": null,
      "outputs": []
    }
  ]
}