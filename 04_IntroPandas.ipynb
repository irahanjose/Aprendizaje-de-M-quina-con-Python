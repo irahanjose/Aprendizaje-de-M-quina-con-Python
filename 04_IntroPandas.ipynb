{
  "nbformat": 4,
  "nbformat_minor": 5,
  "metadata": {
    "kernelspec": {
      "display_name": "Python 3",
      "language": "python",
      "name": "python3"
    },
    "language_info": {
      "codemirror_mode": {
        "name": "ipython",
        "version": 3
      },
      "file_extension": ".py",
      "mimetype": "text/x-python",
      "name": "python",
      "nbconvert_exporter": "python",
      "pygments_lexer": "ipython3",
      "version": "3.8.5"
    },
    "colab": {
      "name": "04-IntroPandas.ipynb",
      "provenance": [],
      "collapsed_sections": [],
      "include_colab_link": true
    }
  },
  "cells": [
    {
      "cell_type": "markdown",
      "metadata": {
        "id": "view-in-github",
        "colab_type": "text"
      },
      "source": [
        "<a href=\"https://colab.research.google.com/github/irahanjose/Aprendizaje-de-M-quina-con-Python/blob/main/04_IntroPandas.ipynb\" target=\"_parent\"><img src=\"https://colab.research.google.com/assets/colab-badge.svg\" alt=\"Open In Colab\"/></a>"
      ]
    },
    {
      "cell_type": "markdown",
      "metadata": {
        "id": "4a232de3"
      },
      "source": [
        "# Lo esencial de Pandas para Deep Learning"
      ],
      "id": "4a232de3"
    },
    {
      "cell_type": "code",
      "metadata": {
        "id": "0cdd1ebe"
      },
      "source": [
        "import pandas as pd"
      ],
      "id": "0cdd1ebe",
      "execution_count": null,
      "outputs": []
    },
    {
      "cell_type": "markdown",
      "metadata": {
        "id": "423b9346"
      },
      "source": [
        "## 1. Lectura y visualización inicial"
      ],
      "id": "423b9346"
    },
    {
      "cell_type": "code",
      "metadata": {
        "id": "QXdV87R9PKEe"
      },
      "source": [
        "# Configuración Google Drive"
      ],
      "id": "QXdV87R9PKEe",
      "execution_count": null,
      "outputs": []
    },
    {
      "cell_type": "code",
      "metadata": {
        "id": "TvFn35XrPQyJ",
        "colab": {
          "base_uri": "https://localhost:8080/"
        },
        "outputId": "15832400-cfbf-486a-db55-45dcfa60d9e9"
      },
      "source": [
        "from google.colab import drive\n",
        "drive.mount('/gdrive')"
      ],
      "id": "TvFn35XrPQyJ",
      "execution_count": null,
      "outputs": [
        {
          "output_type": "stream",
          "text": [
            "Mounted at /gdrive\n"
          ],
          "name": "stdout"
        }
      ]
    },
    {
      "cell_type": "code",
      "metadata": {
        "id": "ff5654c5"
      },
      "source": [
        "# Lectura del set\n",
        "ruta = '/gdrive/MyDrive/Colab Notebooks/01_2021-07-FundamentosDL/0.9-0.12/data/world-happiness-report-2021.csv'\n",
        "data = pd.read_csv(ruta) # Dataframe"
      ],
      "id": "ff5654c5",
      "execution_count": null,
      "outputs": []
    },
    {
      "cell_type": "code",
      "metadata": {
        "id": "5320b069",
        "colab": {
          "base_uri": "https://localhost:8080/",
          "height": 658
        },
        "outputId": "636ca43b-374b-41b9-c37d-0bf82d4e3508"
      },
      "source": [
        "data.head(10)  # Mostrar las 10 primeras filas del dataset"
      ],
      "id": "5320b069",
      "execution_count": null,
      "outputs": [
        {
          "output_type": "execute_result",
          "data": {
            "text/html": [
              "<div>\n",
              "<style scoped>\n",
              "    .dataframe tbody tr th:only-of-type {\n",
              "        vertical-align: middle;\n",
              "    }\n",
              "\n",
              "    .dataframe tbody tr th {\n",
              "        vertical-align: top;\n",
              "    }\n",
              "\n",
              "    .dataframe thead th {\n",
              "        text-align: right;\n",
              "    }\n",
              "</style>\n",
              "<table border=\"1\" class=\"dataframe\">\n",
              "  <thead>\n",
              "    <tr style=\"text-align: right;\">\n",
              "      <th></th>\n",
              "      <th>Country name</th>\n",
              "      <th>Regional indicator</th>\n",
              "      <th>Ladder score</th>\n",
              "      <th>Standard error of ladder score</th>\n",
              "      <th>upperwhisker</th>\n",
              "      <th>lowerwhisker</th>\n",
              "      <th>Logged GDP per capita</th>\n",
              "      <th>Social support</th>\n",
              "      <th>Healthy life expectancy</th>\n",
              "      <th>Freedom to make life choices</th>\n",
              "      <th>Generosity</th>\n",
              "      <th>Perceptions of corruption</th>\n",
              "      <th>Ladder score in Dystopia</th>\n",
              "      <th>Explained by: Log GDP per capita</th>\n",
              "      <th>Explained by: Social support</th>\n",
              "      <th>Explained by: Healthy life expectancy</th>\n",
              "      <th>Explained by: Freedom to make life choices</th>\n",
              "      <th>Explained by: Generosity</th>\n",
              "      <th>Explained by: Perceptions of corruption</th>\n",
              "      <th>Dystopia + residual</th>\n",
              "    </tr>\n",
              "  </thead>\n",
              "  <tbody>\n",
              "    <tr>\n",
              "      <th>0</th>\n",
              "      <td>Finland</td>\n",
              "      <td>Western Europe</td>\n",
              "      <td>7.842</td>\n",
              "      <td>0.032</td>\n",
              "      <td>7.904</td>\n",
              "      <td>7.780</td>\n",
              "      <td>10.775</td>\n",
              "      <td>0.954</td>\n",
              "      <td>72.0</td>\n",
              "      <td>0.949</td>\n",
              "      <td>-0.098</td>\n",
              "      <td>0.186</td>\n",
              "      <td>2.43</td>\n",
              "      <td>1.446</td>\n",
              "      <td>1.106</td>\n",
              "      <td>0.741</td>\n",
              "      <td>0.691</td>\n",
              "      <td>0.124</td>\n",
              "      <td>0.481</td>\n",
              "      <td>3.253</td>\n",
              "    </tr>\n",
              "    <tr>\n",
              "      <th>1</th>\n",
              "      <td>Denmark</td>\n",
              "      <td>Western Europe</td>\n",
              "      <td>7.620</td>\n",
              "      <td>0.035</td>\n",
              "      <td>7.687</td>\n",
              "      <td>7.552</td>\n",
              "      <td>10.933</td>\n",
              "      <td>0.954</td>\n",
              "      <td>72.7</td>\n",
              "      <td>0.946</td>\n",
              "      <td>0.030</td>\n",
              "      <td>0.179</td>\n",
              "      <td>2.43</td>\n",
              "      <td>1.502</td>\n",
              "      <td>1.108</td>\n",
              "      <td>0.763</td>\n",
              "      <td>0.686</td>\n",
              "      <td>0.208</td>\n",
              "      <td>0.485</td>\n",
              "      <td>2.868</td>\n",
              "    </tr>\n",
              "    <tr>\n",
              "      <th>2</th>\n",
              "      <td>Switzerland</td>\n",
              "      <td>Western Europe</td>\n",
              "      <td>7.571</td>\n",
              "      <td>0.036</td>\n",
              "      <td>7.643</td>\n",
              "      <td>7.500</td>\n",
              "      <td>11.117</td>\n",
              "      <td>0.942</td>\n",
              "      <td>74.4</td>\n",
              "      <td>0.919</td>\n",
              "      <td>0.025</td>\n",
              "      <td>0.292</td>\n",
              "      <td>2.43</td>\n",
              "      <td>1.566</td>\n",
              "      <td>1.079</td>\n",
              "      <td>0.816</td>\n",
              "      <td>0.653</td>\n",
              "      <td>0.204</td>\n",
              "      <td>0.413</td>\n",
              "      <td>2.839</td>\n",
              "    </tr>\n",
              "    <tr>\n",
              "      <th>3</th>\n",
              "      <td>Iceland</td>\n",
              "      <td>Western Europe</td>\n",
              "      <td>7.554</td>\n",
              "      <td>0.059</td>\n",
              "      <td>7.670</td>\n",
              "      <td>7.438</td>\n",
              "      <td>10.878</td>\n",
              "      <td>0.983</td>\n",
              "      <td>73.0</td>\n",
              "      <td>0.955</td>\n",
              "      <td>0.160</td>\n",
              "      <td>0.673</td>\n",
              "      <td>2.43</td>\n",
              "      <td>1.482</td>\n",
              "      <td>1.172</td>\n",
              "      <td>0.772</td>\n",
              "      <td>0.698</td>\n",
              "      <td>0.293</td>\n",
              "      <td>0.170</td>\n",
              "      <td>2.967</td>\n",
              "    </tr>\n",
              "    <tr>\n",
              "      <th>4</th>\n",
              "      <td>Netherlands</td>\n",
              "      <td>Western Europe</td>\n",
              "      <td>7.464</td>\n",
              "      <td>0.027</td>\n",
              "      <td>7.518</td>\n",
              "      <td>7.410</td>\n",
              "      <td>10.932</td>\n",
              "      <td>0.942</td>\n",
              "      <td>72.4</td>\n",
              "      <td>0.913</td>\n",
              "      <td>0.175</td>\n",
              "      <td>0.338</td>\n",
              "      <td>2.43</td>\n",
              "      <td>1.501</td>\n",
              "      <td>1.079</td>\n",
              "      <td>0.753</td>\n",
              "      <td>0.647</td>\n",
              "      <td>0.302</td>\n",
              "      <td>0.384</td>\n",
              "      <td>2.798</td>\n",
              "    </tr>\n",
              "    <tr>\n",
              "      <th>5</th>\n",
              "      <td>Norway</td>\n",
              "      <td>Western Europe</td>\n",
              "      <td>7.392</td>\n",
              "      <td>0.035</td>\n",
              "      <td>7.462</td>\n",
              "      <td>7.323</td>\n",
              "      <td>11.053</td>\n",
              "      <td>0.954</td>\n",
              "      <td>73.3</td>\n",
              "      <td>0.960</td>\n",
              "      <td>0.093</td>\n",
              "      <td>0.270</td>\n",
              "      <td>2.43</td>\n",
              "      <td>1.543</td>\n",
              "      <td>1.108</td>\n",
              "      <td>0.782</td>\n",
              "      <td>0.703</td>\n",
              "      <td>0.249</td>\n",
              "      <td>0.427</td>\n",
              "      <td>2.580</td>\n",
              "    </tr>\n",
              "    <tr>\n",
              "      <th>6</th>\n",
              "      <td>Sweden</td>\n",
              "      <td>Western Europe</td>\n",
              "      <td>7.363</td>\n",
              "      <td>0.036</td>\n",
              "      <td>7.433</td>\n",
              "      <td>7.293</td>\n",
              "      <td>10.867</td>\n",
              "      <td>0.934</td>\n",
              "      <td>72.7</td>\n",
              "      <td>0.945</td>\n",
              "      <td>0.086</td>\n",
              "      <td>0.237</td>\n",
              "      <td>2.43</td>\n",
              "      <td>1.478</td>\n",
              "      <td>1.062</td>\n",
              "      <td>0.763</td>\n",
              "      <td>0.685</td>\n",
              "      <td>0.244</td>\n",
              "      <td>0.448</td>\n",
              "      <td>2.683</td>\n",
              "    </tr>\n",
              "    <tr>\n",
              "      <th>7</th>\n",
              "      <td>Luxembourg</td>\n",
              "      <td>Western Europe</td>\n",
              "      <td>7.324</td>\n",
              "      <td>0.037</td>\n",
              "      <td>7.396</td>\n",
              "      <td>7.252</td>\n",
              "      <td>11.647</td>\n",
              "      <td>0.908</td>\n",
              "      <td>72.6</td>\n",
              "      <td>0.907</td>\n",
              "      <td>-0.034</td>\n",
              "      <td>0.386</td>\n",
              "      <td>2.43</td>\n",
              "      <td>1.751</td>\n",
              "      <td>1.003</td>\n",
              "      <td>0.760</td>\n",
              "      <td>0.639</td>\n",
              "      <td>0.166</td>\n",
              "      <td>0.353</td>\n",
              "      <td>2.653</td>\n",
              "    </tr>\n",
              "    <tr>\n",
              "      <th>8</th>\n",
              "      <td>New Zealand</td>\n",
              "      <td>North America and ANZ</td>\n",
              "      <td>7.277</td>\n",
              "      <td>0.040</td>\n",
              "      <td>7.355</td>\n",
              "      <td>7.198</td>\n",
              "      <td>10.643</td>\n",
              "      <td>0.948</td>\n",
              "      <td>73.4</td>\n",
              "      <td>0.929</td>\n",
              "      <td>0.134</td>\n",
              "      <td>0.242</td>\n",
              "      <td>2.43</td>\n",
              "      <td>1.400</td>\n",
              "      <td>1.094</td>\n",
              "      <td>0.785</td>\n",
              "      <td>0.665</td>\n",
              "      <td>0.276</td>\n",
              "      <td>0.445</td>\n",
              "      <td>2.612</td>\n",
              "    </tr>\n",
              "    <tr>\n",
              "      <th>9</th>\n",
              "      <td>Austria</td>\n",
              "      <td>Western Europe</td>\n",
              "      <td>7.268</td>\n",
              "      <td>0.036</td>\n",
              "      <td>7.337</td>\n",
              "      <td>7.198</td>\n",
              "      <td>10.906</td>\n",
              "      <td>0.934</td>\n",
              "      <td>73.3</td>\n",
              "      <td>0.908</td>\n",
              "      <td>0.042</td>\n",
              "      <td>0.481</td>\n",
              "      <td>2.43</td>\n",
              "      <td>1.492</td>\n",
              "      <td>1.062</td>\n",
              "      <td>0.782</td>\n",
              "      <td>0.640</td>\n",
              "      <td>0.215</td>\n",
              "      <td>0.292</td>\n",
              "      <td>2.784</td>\n",
              "    </tr>\n",
              "  </tbody>\n",
              "</table>\n",
              "</div>"
            ],
            "text/plain": [
              "  Country name  ... Dystopia + residual\n",
              "0      Finland  ...               3.253\n",
              "1      Denmark  ...               2.868\n",
              "2  Switzerland  ...               2.839\n",
              "3      Iceland  ...               2.967\n",
              "4  Netherlands  ...               2.798\n",
              "5       Norway  ...               2.580\n",
              "6       Sweden  ...               2.683\n",
              "7   Luxembourg  ...               2.653\n",
              "8  New Zealand  ...               2.612\n",
              "9      Austria  ...               2.784\n",
              "\n",
              "[10 rows x 20 columns]"
            ]
          },
          "metadata": {
            "tags": []
          },
          "execution_count": 5
        }
      ]
    },
    {
      "cell_type": "code",
      "metadata": {
        "id": "a6e9b5af",
        "colab": {
          "base_uri": "https://localhost:8080/"
        },
        "outputId": "7cd01def-6759-40a2-ce28-b50fb616413e"
      },
      "source": [
        "data.shape #Tamaño del dataset (filas x columnas)"
      ],
      "id": "a6e9b5af",
      "execution_count": null,
      "outputs": [
        {
          "output_type": "execute_result",
          "data": {
            "text/plain": [
              "(149, 20)"
            ]
          },
          "metadata": {
            "tags": []
          },
          "execution_count": 6
        }
      ]
    },
    {
      "cell_type": "markdown",
      "metadata": {
        "id": "516af662"
      },
      "source": [
        "## 2. Manipulación e Indexación de DataFrames"
      ],
      "id": "516af662"
    },
    {
      "cell_type": "code",
      "metadata": {
        "id": "f0ee60f7",
        "colab": {
          "base_uri": "https://localhost:8080/"
        },
        "outputId": "22e9934a-8232-4e74-b1f1-d40778a945e7"
      },
      "source": [
        "# Nombres de las columnas\n",
        "data.columns"
      ],
      "id": "f0ee60f7",
      "execution_count": null,
      "outputs": [
        {
          "output_type": "execute_result",
          "data": {
            "text/plain": [
              "Index(['Country name', 'Regional indicator', 'Ladder score',\n",
              "       'Standard error of ladder score', 'upperwhisker', 'lowerwhisker',\n",
              "       'Logged GDP per capita', 'Social support', 'Healthy life expectancy',\n",
              "       'Freedom to make life choices', 'Generosity',\n",
              "       'Perceptions of corruption', 'Ladder score in Dystopia',\n",
              "       'Explained by: Log GDP per capita', 'Explained by: Social support',\n",
              "       'Explained by: Healthy life expectancy',\n",
              "       'Explained by: Freedom to make life choices',\n",
              "       'Explained by: Generosity', 'Explained by: Perceptions of corruption',\n",
              "       'Dystopia + residual'],\n",
              "      dtype='object')"
            ]
          },
          "metadata": {
            "tags": []
          },
          "execution_count": 7
        }
      ]
    },
    {
      "cell_type": "code",
      "metadata": {
        "id": "7a97df75",
        "colab": {
          "base_uri": "https://localhost:8080/"
        },
        "outputId": "43a75e59-182b-46e3-aea0-20b109058542"
      },
      "source": [
        "data['Country name'] # Acceder a una columna en particular: data['Nombre columna']"
      ],
      "id": "7a97df75",
      "execution_count": null,
      "outputs": [
        {
          "output_type": "execute_result",
          "data": {
            "text/plain": [
              "0          Finland\n",
              "1          Denmark\n",
              "2      Switzerland\n",
              "3          Iceland\n",
              "4      Netherlands\n",
              "          ...     \n",
              "144        Lesotho\n",
              "145       Botswana\n",
              "146         Rwanda\n",
              "147       Zimbabwe\n",
              "148    Afghanistan\n",
              "Name: Country name, Length: 149, dtype: object"
            ]
          },
          "metadata": {
            "tags": []
          },
          "execution_count": 8
        }
      ]
    },
    {
      "cell_type": "code",
      "metadata": {
        "id": "7c356b69",
        "colab": {
          "base_uri": "https://localhost:8080/"
        },
        "outputId": "59318c0b-0806-4325-890d-cd8433cfe948"
      },
      "source": [
        "# Indexación basada en índice: extraer la fila con índice 144 (Lesotho)\n",
        "data.iloc[144]"
      ],
      "id": "7c356b69",
      "execution_count": null,
      "outputs": [
        {
          "output_type": "execute_result",
          "data": {
            "text/plain": [
              "Country name                                             Lesotho\n",
              "Regional indicator                            Sub-Saharan Africa\n",
              "Ladder score                                               3.512\n",
              "Standard error of ladder score                              0.12\n",
              "upperwhisker                                               3.748\n",
              "lowerwhisker                                               3.276\n",
              "Logged GDP per capita                                      7.926\n",
              "Social support                                             0.787\n",
              "Healthy life expectancy                                     48.7\n",
              "Freedom to make life choices                               0.715\n",
              "Generosity                                                -0.131\n",
              "Perceptions of corruption                                  0.915\n",
              "Ladder score in Dystopia                                    2.43\n",
              "Explained by: Log GDP per capita                           0.451\n",
              "Explained by: Social support                               0.731\n",
              "Explained by: Healthy life expectancy                      0.007\n",
              "Explained by: Freedom to make life choices                 0.405\n",
              "Explained by: Generosity                                   0.103\n",
              "Explained by: Perceptions of corruption                    0.015\n",
              "Dystopia + residual                                          1.8\n",
              "Name: 144, dtype: object"
            ]
          },
          "metadata": {
            "tags": []
          },
          "execution_count": 9
        }
      ]
    },
    {
      "cell_type": "code",
      "metadata": {
        "id": "25c83b62",
        "colab": {
          "base_uri": "https://localhost:8080/"
        },
        "outputId": "5db1fe88-6c21-455a-bd1a-3ceb732f203f"
      },
      "source": [
        "# Y tomar la columna \"Generosity\"\n",
        "data.iloc[144]['Generosity']"
      ],
      "id": "25c83b62",
      "execution_count": null,
      "outputs": [
        {
          "output_type": "execute_result",
          "data": {
            "text/plain": [
              "-0.131"
            ]
          },
          "metadata": {
            "tags": []
          },
          "execution_count": 10
        }
      ]
    },
    {
      "cell_type": "code",
      "metadata": {
        "id": "20c00f7b"
      },
      "source": [
        "# O tomar los tres primeros países del listado y las 5 primeras columnas\n",
        "nuevo_dataset = data.iloc[0:3,0:5]"
      ],
      "id": "20c00f7b",
      "execution_count": null,
      "outputs": []
    },
    {
      "cell_type": "code",
      "metadata": {
        "id": "942583e2",
        "colab": {
          "base_uri": "https://localhost:8080/"
        },
        "outputId": "bb1f2881-9f6b-4cd5-a0ed-b2be6ebf9141"
      },
      "source": [
        "nuevo_dataset.shape"
      ],
      "id": "942583e2",
      "execution_count": null,
      "outputs": [
        {
          "output_type": "execute_result",
          "data": {
            "text/plain": [
              "(3, 5)"
            ]
          },
          "metadata": {
            "tags": []
          },
          "execution_count": 12
        }
      ]
    },
    {
      "cell_type": "code",
      "metadata": {
        "id": "52d47008",
        "colab": {
          "base_uri": "https://localhost:8080/",
          "height": 143
        },
        "outputId": "a80eb3f9-fe06-4c4c-efb2-a8e9f2116c60"
      },
      "source": [
        "nuevo_dataset"
      ],
      "id": "52d47008",
      "execution_count": null,
      "outputs": [
        {
          "output_type": "execute_result",
          "data": {
            "text/html": [
              "<div>\n",
              "<style scoped>\n",
              "    .dataframe tbody tr th:only-of-type {\n",
              "        vertical-align: middle;\n",
              "    }\n",
              "\n",
              "    .dataframe tbody tr th {\n",
              "        vertical-align: top;\n",
              "    }\n",
              "\n",
              "    .dataframe thead th {\n",
              "        text-align: right;\n",
              "    }\n",
              "</style>\n",
              "<table border=\"1\" class=\"dataframe\">\n",
              "  <thead>\n",
              "    <tr style=\"text-align: right;\">\n",
              "      <th></th>\n",
              "      <th>Country name</th>\n",
              "      <th>Regional indicator</th>\n",
              "      <th>Ladder score</th>\n",
              "      <th>Standard error of ladder score</th>\n",
              "      <th>upperwhisker</th>\n",
              "    </tr>\n",
              "  </thead>\n",
              "  <tbody>\n",
              "    <tr>\n",
              "      <th>0</th>\n",
              "      <td>Finland</td>\n",
              "      <td>Western Europe</td>\n",
              "      <td>7.842</td>\n",
              "      <td>0.032</td>\n",
              "      <td>7.904</td>\n",
              "    </tr>\n",
              "    <tr>\n",
              "      <th>1</th>\n",
              "      <td>Denmark</td>\n",
              "      <td>Western Europe</td>\n",
              "      <td>7.620</td>\n",
              "      <td>0.035</td>\n",
              "      <td>7.687</td>\n",
              "    </tr>\n",
              "    <tr>\n",
              "      <th>2</th>\n",
              "      <td>Switzerland</td>\n",
              "      <td>Western Europe</td>\n",
              "      <td>7.571</td>\n",
              "      <td>0.036</td>\n",
              "      <td>7.643</td>\n",
              "    </tr>\n",
              "  </tbody>\n",
              "</table>\n",
              "</div>"
            ],
            "text/plain": [
              "  Country name Regional indicator  ...  Standard error of ladder score  upperwhisker\n",
              "0      Finland     Western Europe  ...                           0.032         7.904\n",
              "1      Denmark     Western Europe  ...                           0.035         7.687\n",
              "2  Switzerland     Western Europe  ...                           0.036         7.643\n",
              "\n",
              "[3 rows x 5 columns]"
            ]
          },
          "metadata": {
            "tags": []
          },
          "execution_count": 13
        }
      ]
    },
    {
      "cell_type": "code",
      "metadata": {
        "id": "ufiqSnrDNkre"
      },
      "source": [
        ""
      ],
      "id": "ufiqSnrDNkre",
      "execution_count": null,
      "outputs": []
    }
  ]
}