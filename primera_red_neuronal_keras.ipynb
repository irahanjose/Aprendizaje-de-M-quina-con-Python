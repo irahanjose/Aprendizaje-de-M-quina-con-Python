{
  "nbformat": 4,
  "nbformat_minor": 0,
  "metadata": {
    "colab": {
      "name": "primera_red_neuronal_keras.ipynb",
      "provenance": [],
      "collapsed_sections": [],
      "include_colab_link": true
    },
    "kernelspec": {
      "name": "python3",
      "display_name": "Python 3"
    },
    "language_info": {
      "name": "python"
    },
    "accelerator": "GPU"
  },
  "cells": [
    {
      "cell_type": "markdown",
      "metadata": {
        "id": "view-in-github",
        "colab_type": "text"
      },
      "source": [
        "<a href=\"https://colab.research.google.com/github/irahanjose/Aprendizaje-de-M-quina-con-Python/blob/main/primera_red_neuronal_keras.ipynb\" target=\"_parent\"><img src=\"https://colab.research.google.com/assets/colab-badge.svg\" alt=\"Open In Colab\"/></a>"
      ]
    },
    {
      "cell_type": "markdown",
      "metadata": {
        "id": "hsBgdWRwuMSy"
      },
      "source": [
        "# 1- El problema a resolver"
      ]
    },
    {
      "cell_type": "markdown",
      "metadata": {
        "id": "Nvcx_tP9m11R"
      },
      "source": [
        "Los físicos usan aceleradores de partículas, como el [Gran Colisionador de Hadrones](https://es.wikipedia.org/wiki/Gran_colisionador_de_hadrones) ubicado en la frontera entre Suiza y Francia, para descubrir nuevas partículas subatómicas.\n",
        "\n",
        "La detección de estas partículas usualmente es un problema de clasificación, para determinar si el dato observado corresponde a la señal de interés o al ruido de fondo.\n",
        "\n",
        "La idea es desarrollar un modelo de Deep Learning capaz de realizar esta clasificación."
      ]
    },
    {
      "cell_type": "markdown",
      "metadata": {
        "id": "6zp3ZbGVXenk"
      },
      "source": [
        "# 2- El set de datos"
      ]
    },
    {
      "cell_type": "markdown",
      "metadata": {
        "id": "SqxiQiQ5m8z2"
      },
      "source": [
        "El set de datos fue desarrollado por investigadores del Departamento de Física y Astronomía de la Universidad de California Irvine.\n",
        "\n",
        "En total contiene 11 millones de datos, cada uno representado por 28 características (*features*):\n",
        "\n",
        "- Las primeras 21 corresponden a propiedades cinemáticas medidas por los detectores de partículas en el acelerador.\n",
        "- Las 7 características restantes son calculadas a partir de las 21 anteriores, y fueron derivadas por los físicos para facilitar el proceso de clasificación.\n",
        "\n",
        "Cada dato está etiquetado en una de dos posibles características:\n",
        "\n",
        "- \"1\": presencia de señal (posiblemente una partícula)\n",
        "- \"0\": ruido de fondo (no corresponde a una partícula)\n",
        "\n",
        "Para más información se sugiere mirar los detalles en el artículo [Searching for Exotic Particles in High-Energy Physics with Deep Learning](https://arxiv.org/pdf/1402.4735.pdf).\n",
        "\n",
        "Teniendo en cuenta el elevado número de datos que contiene este set, para esta práctica se trabajará con una versión reducida del mismo (*HIGGS_subset.csv*) que contiene un total de 100.000 datos."
      ]
    },
    {
      "cell_type": "markdown",
      "metadata": {
        "id": "N-xlsnsAZFOU"
      },
      "source": [
        "## 2.1- Preparación de Google Drive y lectura del set de datos"
      ]
    },
    {
      "cell_type": "code",
      "metadata": {
        "id": "25ChWpXluO8H",
        "colab": {
          "base_uri": "https://localhost:8080/"
        },
        "outputId": "2dbf2cf2-81dc-4c32-f903-e4a29279de6d"
      },
      "source": [
        "from google.colab import drive\n",
        "drive.mount('/gdrive')"
      ],
      "execution_count": null,
      "outputs": [
        {
          "output_type": "stream",
          "text": [
            "Mounted at /gdrive\n"
          ],
          "name": "stdout"
        }
      ]
    },
    {
      "cell_type": "code",
      "metadata": {
        "id": "-mg9iOypZOb3",
        "colab": {
          "base_uri": "https://localhost:8080/",
          "height": 261
        },
        "outputId": "a3e5a0bb-a585-43ad-e52d-9b4a14279512"
      },
      "source": [
        "import pandas as pd\n",
        "\n",
        "ruta = '/gdrive/MyDrive/Colab Notebooks/01_2021-07-FundamentosDL/1.16/HIGGS_subset.csv'\n",
        "df = pd.read_csv(ruta)\n",
        "print(df.shape)\n",
        "df.head()"
      ],
      "execution_count": null,
      "outputs": [
        {
          "output_type": "stream",
          "text": [
            "(100000, 29)\n"
          ],
          "name": "stdout"
        },
        {
          "output_type": "execute_result",
          "data": {
            "text/html": [
              "<div>\n",
              "<style scoped>\n",
              "    .dataframe tbody tr th:only-of-type {\n",
              "        vertical-align: middle;\n",
              "    }\n",
              "\n",
              "    .dataframe tbody tr th {\n",
              "        vertical-align: top;\n",
              "    }\n",
              "\n",
              "    .dataframe thead th {\n",
              "        text-align: right;\n",
              "    }\n",
              "</style>\n",
              "<table border=\"1\" class=\"dataframe\">\n",
              "  <thead>\n",
              "    <tr style=\"text-align: right;\">\n",
              "      <th></th>\n",
              "      <th>1.00E+00</th>\n",
              "      <th>8.69E-01</th>\n",
              "      <th>-6.35E-01</th>\n",
              "      <th>2.26E-01</th>\n",
              "      <th>3.27E-01</th>\n",
              "      <th>-6.90E-01</th>\n",
              "      <th>7.54E-01</th>\n",
              "      <th>-2.49E-01</th>\n",
              "      <th>-1.09E+00</th>\n",
              "      <th>0.00E+00</th>\n",
              "      <th>1.37E+00</th>\n",
              "      <th>-6.54E-01</th>\n",
              "      <th>9.30E-01</th>\n",
              "      <th>1.11E+00</th>\n",
              "      <th>1.14E+00</th>\n",
              "      <th>-1.58E+00</th>\n",
              "      <th>-1.05E+00</th>\n",
              "      <th>0.000000000000000000e+00.1</th>\n",
              "      <th>6.58E-01</th>\n",
              "      <th>-1.05E-02</th>\n",
              "      <th>-4.58E-02</th>\n",
              "      <th>3.10E+00</th>\n",
              "      <th>1.35E+00</th>\n",
              "      <th>9.80E-01</th>\n",
              "      <th>9.78E-01</th>\n",
              "      <th>9.20E-01</th>\n",
              "      <th>7.22E-01</th>\n",
              "      <th>9.89E-01</th>\n",
              "      <th>8.77E-01</th>\n",
              "    </tr>\n",
              "  </thead>\n",
              "  <tbody>\n",
              "    <tr>\n",
              "      <th>0</th>\n",
              "      <td>0</td>\n",
              "      <td>0.320083</td>\n",
              "      <td>-0.258156</td>\n",
              "      <td>-0.748752</td>\n",
              "      <td>0.934500</td>\n",
              "      <td>-0.007166</td>\n",
              "      <td>0.358276</td>\n",
              "      <td>-1.813136</td>\n",
              "      <td>-0.723959</td>\n",
              "      <td>0.000000</td>\n",
              "      <td>0.648403</td>\n",
              "      <td>-0.555565</td>\n",
              "      <td>0.531426</td>\n",
              "      <td>2.214872</td>\n",
              "      <td>0.705822</td>\n",
              "      <td>0.090288</td>\n",
              "      <td>1.634711</td>\n",
              "      <td>2.548224</td>\n",
              "      <td>0.620932</td>\n",
              "      <td>-0.505984</td>\n",
              "      <td>-1.425281</td>\n",
              "      <td>0.000000</td>\n",
              "      <td>0.823101</td>\n",
              "      <td>0.814655</td>\n",
              "      <td>0.988860</td>\n",
              "      <td>0.795775</td>\n",
              "      <td>0.650955</td>\n",
              "      <td>0.718191</td>\n",
              "      <td>0.642627</td>\n",
              "    </tr>\n",
              "    <tr>\n",
              "      <th>1</th>\n",
              "      <td>1</td>\n",
              "      <td>1.015883</td>\n",
              "      <td>-0.520153</td>\n",
              "      <td>-0.281001</td>\n",
              "      <td>0.624704</td>\n",
              "      <td>-0.784161</td>\n",
              "      <td>0.872192</td>\n",
              "      <td>-1.489331</td>\n",
              "      <td>1.576804</td>\n",
              "      <td>0.000000</td>\n",
              "      <td>0.922747</td>\n",
              "      <td>-0.560422</td>\n",
              "      <td>1.431915</td>\n",
              "      <td>2.214872</td>\n",
              "      <td>0.843158</td>\n",
              "      <td>0.324221</td>\n",
              "      <td>0.292806</td>\n",
              "      <td>2.548224</td>\n",
              "      <td>0.526976</td>\n",
              "      <td>1.254604</td>\n",
              "      <td>-0.800450</td>\n",
              "      <td>0.000000</td>\n",
              "      <td>0.367025</td>\n",
              "      <td>1.140837</td>\n",
              "      <td>0.986885</td>\n",
              "      <td>0.659926</td>\n",
              "      <td>0.921141</td>\n",
              "      <td>0.750046</td>\n",
              "      <td>0.719383</td>\n",
              "    </tr>\n",
              "    <tr>\n",
              "      <th>2</th>\n",
              "      <td>0</td>\n",
              "      <td>0.341129</td>\n",
              "      <td>-2.031753</td>\n",
              "      <td>0.731169</td>\n",
              "      <td>1.457364</td>\n",
              "      <td>-0.898847</td>\n",
              "      <td>0.175428</td>\n",
              "      <td>-1.724016</td>\n",
              "      <td>-1.037181</td>\n",
              "      <td>0.000000</td>\n",
              "      <td>0.459422</td>\n",
              "      <td>1.315300</td>\n",
              "      <td>1.709330</td>\n",
              "      <td>0.000000</td>\n",
              "      <td>0.450820</td>\n",
              "      <td>-2.184424</td>\n",
              "      <td>1.415590</td>\n",
              "      <td>0.000000</td>\n",
              "      <td>1.662958</td>\n",
              "      <td>0.224402</td>\n",
              "      <td>0.227907</td>\n",
              "      <td>3.101961</td>\n",
              "      <td>1.097289</td>\n",
              "      <td>0.871776</td>\n",
              "      <td>0.987942</td>\n",
              "      <td>0.869959</td>\n",
              "      <td>0.626679</td>\n",
              "      <td>1.114897</td>\n",
              "      <td>1.149453</td>\n",
              "    </tr>\n",
              "    <tr>\n",
              "      <th>3</th>\n",
              "      <td>0</td>\n",
              "      <td>0.812743</td>\n",
              "      <td>-1.324652</td>\n",
              "      <td>1.291579</td>\n",
              "      <td>0.468025</td>\n",
              "      <td>-0.063256</td>\n",
              "      <td>1.467181</td>\n",
              "      <td>-1.758674</td>\n",
              "      <td>-1.740129</td>\n",
              "      <td>0.000000</td>\n",
              "      <td>2.255309</td>\n",
              "      <td>-0.860577</td>\n",
              "      <td>0.566936</td>\n",
              "      <td>2.214872</td>\n",
              "      <td>1.734612</td>\n",
              "      <td>-0.606963</td>\n",
              "      <td>-0.574351</td>\n",
              "      <td>0.000000</td>\n",
              "      <td>2.493950</td>\n",
              "      <td>-0.030442</td>\n",
              "      <td>-1.218299</td>\n",
              "      <td>0.000000</td>\n",
              "      <td>0.883288</td>\n",
              "      <td>0.787425</td>\n",
              "      <td>0.986954</td>\n",
              "      <td>0.869872</td>\n",
              "      <td>0.562826</td>\n",
              "      <td>0.919145</td>\n",
              "      <td>0.789303</td>\n",
              "    </tr>\n",
              "    <tr>\n",
              "      <th>4</th>\n",
              "      <td>1</td>\n",
              "      <td>0.342410</td>\n",
              "      <td>1.051832</td>\n",
              "      <td>-1.309716</td>\n",
              "      <td>2.484316</td>\n",
              "      <td>-0.511491</td>\n",
              "      <td>0.704459</td>\n",
              "      <td>0.134646</td>\n",
              "      <td>1.313476</td>\n",
              "      <td>2.173076</td>\n",
              "      <td>1.013775</td>\n",
              "      <td>-1.558023</td>\n",
              "      <td>0.942001</td>\n",
              "      <td>0.000000</td>\n",
              "      <td>0.557071</td>\n",
              "      <td>0.696513</td>\n",
              "      <td>0.682230</td>\n",
              "      <td>0.000000</td>\n",
              "      <td>1.008679</td>\n",
              "      <td>-0.849108</td>\n",
              "      <td>-1.172796</td>\n",
              "      <td>1.550981</td>\n",
              "      <td>1.728419</td>\n",
              "      <td>1.202410</td>\n",
              "      <td>0.985475</td>\n",
              "      <td>1.203403</td>\n",
              "      <td>0.886029</td>\n",
              "      <td>0.903616</td>\n",
              "      <td>1.090524</td>\n",
              "    </tr>\n",
              "  </tbody>\n",
              "</table>\n",
              "</div>"
            ],
            "text/plain": [
              "   1.00E+00  8.69E-01  -6.35E-01  ...  7.22E-01  9.89E-01  8.77E-01\n",
              "0         0  0.320083  -0.258156  ...  0.650955  0.718191  0.642627\n",
              "1         1  1.015883  -0.520153  ...  0.921141  0.750046  0.719383\n",
              "2         0  0.341129  -2.031753  ...  0.626679  1.114897  1.149453\n",
              "3         0  0.812743  -1.324652  ...  0.562826  0.919145  0.789303\n",
              "4         1  0.342410   1.051832  ...  0.886029  0.903616  1.090524\n",
              "\n",
              "[5 rows x 29 columns]"
            ]
          },
          "metadata": {
            "tags": []
          },
          "execution_count": 2
        }
      ]
    },
    {
      "cell_type": "code",
      "metadata": {
        "id": "DUYgXb7MkDrx",
        "colab": {
          "base_uri": "https://localhost:8080/"
        },
        "outputId": "574443aa-34d7-4d8a-ba69-ce8d5b740899"
      },
      "source": [
        "# Distribución de categorías\n",
        "df.iloc[:,0].value_counts()"
      ],
      "execution_count": null,
      "outputs": [
        {
          "output_type": "execute_result",
          "data": {
            "text/plain": [
              "1    52892\n",
              "0    47108\n",
              "Name: 1.00E+00, dtype: int64"
            ]
          },
          "metadata": {
            "tags": []
          },
          "execution_count": 3
        }
      ]
    },
    {
      "cell_type": "markdown",
      "metadata": {
        "id": "xZAC8RamadeG"
      },
      "source": [
        "## 2.2- Creación del set de entrenamiento"
      ]
    },
    {
      "cell_type": "code",
      "metadata": {
        "id": "rA4M7QZtZg23",
        "colab": {
          "base_uri": "https://localhost:8080/"
        },
        "outputId": "b94b0a49-e09e-4a3b-a926-17f5f2f7ec98"
      },
      "source": [
        "X = df.values[:,1:]\n",
        "Y = df.values[:,0]\n",
        "print(X.shape)\n",
        "print(Y.shape)"
      ],
      "execution_count": null,
      "outputs": [
        {
          "output_type": "stream",
          "text": [
            "(100000, 28)\n",
            "(100000,)\n"
          ],
          "name": "stdout"
        }
      ]
    },
    {
      "cell_type": "markdown",
      "metadata": {
        "id": "bHUnTaJta9XT"
      },
      "source": [
        "# 3- Creación y entrenamiento del modelo"
      ]
    },
    {
      "cell_type": "markdown",
      "metadata": {
        "id": "1ra-Zm4mnGxh"
      },
      "source": [
        "- Capa de entrada: 28 elementos\n",
        "- Capa de salida: 1 elemento (neurona de salida con activación sigmoidal)\n",
        "\n",
        "Cuando no se tiene un referente previo se sugiere crear un primer modelo lo más simple posible. Crearemos un modelo con **una** capa oculta y el número de neuronas el promedio de las capas de entrada y de salida:\n",
        "\n",
        "$n_{neuronas} = \\frac{28+1}{2} = 15$"
      ]
    },
    {
      "cell_type": "code",
      "metadata": {
        "id": "1ATUPn36a1us",
        "colab": {
          "base_uri": "https://localhost:8080/"
        },
        "outputId": "9deb04ba-9528-4e31-d8f0-174cbc5d40d4"
      },
      "source": [
        "from tensorflow.keras import Sequential\n",
        "from tensorflow.keras.layers import Dense\n",
        "import tensorflow as tf\n",
        "import numpy as np\n",
        "SEED = 42\n",
        "tf.random.set_seed(SEED)\n",
        "np.random.seed(SEED)\n",
        "\n",
        "DIM_ENTRADA = X.shape[1]   # 28\n",
        "DIM_SALIDA = 1\n",
        "\n",
        "modelo = Sequential()\n",
        "modelo.add(Dense(15, activation='relu', input_shape=(DIM_ENTRADA,)))\n",
        "modelo.add(Dense(DIM_SALIDA, activation='sigmoid'))\n",
        "\n",
        "modelo.summary()"
      ],
      "execution_count": null,
      "outputs": [
        {
          "output_type": "stream",
          "text": [
            "Model: \"sequential\"\n",
            "_________________________________________________________________\n",
            "Layer (type)                 Output Shape              Param #   \n",
            "=================================================================\n",
            "dense (Dense)                (None, 15)                435       \n",
            "_________________________________________________________________\n",
            "dense_1 (Dense)              (None, 1)                 16        \n",
            "=================================================================\n",
            "Total params: 451\n",
            "Trainable params: 451\n",
            "Non-trainable params: 0\n",
            "_________________________________________________________________\n"
          ],
          "name": "stdout"
        }
      ]
    },
    {
      "cell_type": "markdown",
      "metadata": {
        "id": "wqO2PUTLcl-Q"
      },
      "source": [
        "Verifiquemos el número de parámetros:\n",
        "\n",
        "$ \\text{Entrada a capa oculta: } 28x15 + 15 = 435$\n",
        "$ \\text{Capa oculta a salida: } 15x1 + 1 = 16$"
      ]
    },
    {
      "cell_type": "code",
      "metadata": {
        "id": "mDWvhcsacRMG"
      },
      "source": [
        "# Compilación y entrenamiento\n",
        "from tensorflow.keras.optimizers import Adam\n",
        "\n",
        "EPOCHS = 1000\n",
        "TAM_LOTE = 10000\n",
        "\n",
        "opt = Adam()\n",
        "modelo.compile(optimizer=opt, loss='binary_crossentropy', metrics=['accuracy'])\n",
        "\n",
        "historia = modelo.fit(X, Y, epochs=EPOCHS, batch_size = TAM_LOTE, verbose=1)"
      ],
      "execution_count": null,
      "outputs": []
    },
    {
      "cell_type": "markdown",
      "metadata": {
        "id": "Vkh80Lefd1vK"
      },
      "source": [
        "# 4 - Resultados"
      ]
    },
    {
      "cell_type": "code",
      "metadata": {
        "id": "PhrGg_NRci9J"
      },
      "source": [
        "import matplotlib.pyplot as plt\n",
        "\n",
        "def graficar(historia):\n",
        "  plt.figure(figsize=(15,5))\n",
        "\n",
        "  loss = historia.history['loss']\n",
        "  accuracy = historia.history['accuracy']\n",
        "  epochs = historia.epoch\n",
        "\n",
        "  plt.subplot(121)\n",
        "  plt.plot(epochs,loss,label='train_loss')\n",
        "  plt.legend()\n",
        "\n",
        "  plt.subplot(122)\n",
        "  plt.plot(epochs,accuracy,label='train_acc')\n",
        "  plt.legend()"
      ],
      "execution_count": null,
      "outputs": []
    },
    {
      "cell_type": "code",
      "metadata": {
        "id": "ZrbkI5HoeGpc",
        "colab": {
          "base_uri": "https://localhost:8080/",
          "height": 320
        },
        "outputId": "74159a8c-8fba-4b28-daa7-5ea2c6e33398"
      },
      "source": [
        "graficar(historia)"
      ],
      "execution_count": null,
      "outputs": [
        {
          "output_type": "display_data",
          "data": {
            "image/png": "[encoded data removed]",
            "text/plain": [
              "<Figure size 1080x360 with 2 Axes>"
            ]
          },
          "metadata": {
            "tags": [],
            "needs_background": "light"
          }
        }
      ]
    },
    {
      "cell_type": "markdown",
      "metadata": {
        "id": "Vqo37JbklEJA"
      },
      "source": [
        "#5 - Sugerencias adicionales"
      ]
    },
    {
      "cell_type": "markdown",
      "metadata": {
        "id": "xUbpVDHunK30"
      },
      "source": [
        "\n",
        "Se pueden afinar diferentes hiperparámetros para intentar mejorar la precisión del modelo:\n",
        "\n",
        "1. Cambiando el *número de neuronas* de la capa oculta\n",
        "2. Agregando más capas y cambiando el número de neuronas de cada capa\n",
        "3. Incrementando el *número de epochs*\n",
        "4. Cambiando el *batch_size*\n",
        "5. Modificando el *learning_rate* del optimizador (que por defecto está en 0.001)"
      ]
    },
    {
      "cell_type": "markdown",
      "metadata": {
        "id": "ERXyQ4R8l5aX"
      },
      "source": [
        "#6 - Conclusión"
      ]
    },
    {
      "cell_type": "markdown",
      "metadata": {
        "id": "HMynUprrnONp"
      },
      "source": [
        "Independientemente de los resultados que se obtengan, queda una pregunta de fondo por responder:\n",
        "\n",
        "1. ¿Cómo saber si el modelo entrenado funcionará bien con nuevos datos?\n",
        "2. ¿Cómo poder contar con una estrategia más confiable para estimar adecuadamente los hiperparámetros del modelo?"
      ]
    }
  ]
}