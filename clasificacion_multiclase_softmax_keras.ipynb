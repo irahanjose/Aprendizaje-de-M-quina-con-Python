{
  "nbformat": 4,
  "nbformat_minor": 0,
  "metadata": {
    "colab": {
      "name": "clasificacion_multiclase_softmax_keras.ipynb",
      "provenance": [],
      "collapsed_sections": [],
      "include_colab_link": true
    },
    "kernelspec": {
      "name": "python3",
      "display_name": "Python 3"
    },
    "language_info": {
      "name": "python"
    }
  },
  "cells": [
    {
      "cell_type": "markdown",
      "metadata": {
        "id": "view-in-github",
        "colab_type": "text"
      },
      "source": [
        "<a href=\"https://colab.research.google.com/github/irahanjose/Aprendizaje-de-M-quina-con-Python/blob/main/clasificacion_multiclase_softmax_keras.ipynb\" target=\"_parent\"><img src=\"https://colab.research.google.com/assets/colab-badge.svg\" alt=\"Open In Colab\"/></a>"
      ]
    },
    {
      "cell_type": "markdown",
      "metadata": {
        "id": "Vswpx6tLUeO4"
      },
      "source": [
        "# Clasificación Multiclase en Keras"
      ]
    },
    {
      "cell_type": "markdown",
      "metadata": {
        "id": "KekemDcyUdF3"
      },
      "source": [
        "## 1. Configuración Google Drive"
      ]
    },
    {
      "cell_type": "code",
      "metadata": {
        "id": "7vdb-PLiU0oS",
        "colab": {
          "base_uri": "https://localhost:8080/"
        },
        "outputId": "d553ac51-52c2-432a-dfe4-fa70eaeee71b"
      },
      "source": [
        "from google.colab import drive\n",
        "drive.mount('/gdrive')"
      ],
      "execution_count": null,
      "outputs": [
        {
          "output_type": "stream",
          "text": [
            "Mounted at /gdrive\n"
          ],
          "name": "stdout"
        }
      ]
    },
    {
      "cell_type": "code",
      "metadata": {
        "id": "8pgsYo3FU0oU"
      },
      "source": [
        "ruta = '/gdrive/MyDrive/Colab Notebooks/01_2021-07-FundamentosDL/1.12/dataset.csv'"
      ],
      "execution_count": null,
      "outputs": []
    },
    {
      "cell_type": "markdown",
      "metadata": {
        "id": "Relh2SncVM6Q"
      },
      "source": [
        "## 2. Lectura y visualización del set de datos"
      ]
    },
    {
      "cell_type": "code",
      "metadata": {
        "id": "bVrZoXjmVQMp"
      },
      "source": [
        "import pandas as pd\n",
        "import matplotlib.pyplot as plt\n",
        "import numpy as np\n",
        "from tensorflow.keras import Sequential\n",
        "from tensorflow.keras.layers import Dense\n",
        "from tensorflow.keras.optimizers import SGD\n",
        "import tensorflow as tf\n",
        "tf.random.set_seed(23)\n",
        "np.random.seed(12)"
      ],
      "execution_count": null,
      "outputs": []
    },
    {
      "cell_type": "code",
      "metadata": {
        "id": "TzRpfLirVTP5"
      },
      "source": [
        "data = pd.read_csv(ruta)"
      ],
      "execution_count": null,
      "outputs": []
    },
    {
      "cell_type": "code",
      "metadata": {
        "id": "YjpD9XGjVYYZ",
        "colab": {
          "base_uri": "https://localhost:8080/",
          "height": 362
        },
        "outputId": "6a1685da-18eb-4653-9165-27968c9984a2"
      },
      "source": [
        "data.head(10)"
      ],
      "execution_count": null,
      "outputs": [
        {
          "output_type": "execute_result",
          "data": {
            "text/html": [
              "<div>\n",
              "<style scoped>\n",
              "    .dataframe tbody tr th:only-of-type {\n",
              "        vertical-align: middle;\n",
              "    }\n",
              "\n",
              "    .dataframe tbody tr th {\n",
              "        vertical-align: top;\n",
              "    }\n",
              "\n",
              "    .dataframe thead th {\n",
              "        text-align: right;\n",
              "    }\n",
              "</style>\n",
              "<table border=\"1\" class=\"dataframe\">\n",
              "  <thead>\n",
              "    <tr style=\"text-align: right;\">\n",
              "      <th></th>\n",
              "      <th>x1</th>\n",
              "      <th>x2</th>\n",
              "      <th>y</th>\n",
              "    </tr>\n",
              "  </thead>\n",
              "  <tbody>\n",
              "    <tr>\n",
              "      <th>0</th>\n",
              "      <td>8</td>\n",
              "      <td>8</td>\n",
              "      <td>alto</td>\n",
              "    </tr>\n",
              "    <tr>\n",
              "      <th>1</th>\n",
              "      <td>8</td>\n",
              "      <td>4</td>\n",
              "      <td>alto</td>\n",
              "    </tr>\n",
              "    <tr>\n",
              "      <th>2</th>\n",
              "      <td>3</td>\n",
              "      <td>8</td>\n",
              "      <td>medio</td>\n",
              "    </tr>\n",
              "    <tr>\n",
              "      <th>3</th>\n",
              "      <td>1</td>\n",
              "      <td>4</td>\n",
              "      <td>bajo</td>\n",
              "    </tr>\n",
              "    <tr>\n",
              "      <th>4</th>\n",
              "      <td>4</td>\n",
              "      <td>1</td>\n",
              "      <td>bajo</td>\n",
              "    </tr>\n",
              "    <tr>\n",
              "      <th>5</th>\n",
              "      <td>2</td>\n",
              "      <td>6</td>\n",
              "      <td>medio</td>\n",
              "    </tr>\n",
              "    <tr>\n",
              "      <th>6</th>\n",
              "      <td>6</td>\n",
              "      <td>6</td>\n",
              "      <td>alto</td>\n",
              "    </tr>\n",
              "    <tr>\n",
              "      <th>7</th>\n",
              "      <td>2</td>\n",
              "      <td>2</td>\n",
              "      <td>bajo</td>\n",
              "    </tr>\n",
              "    <tr>\n",
              "      <th>8</th>\n",
              "      <td>1</td>\n",
              "      <td>1</td>\n",
              "      <td>bajo</td>\n",
              "    </tr>\n",
              "    <tr>\n",
              "      <th>9</th>\n",
              "      <td>4</td>\n",
              "      <td>7</td>\n",
              "      <td>medio</td>\n",
              "    </tr>\n",
              "  </tbody>\n",
              "</table>\n",
              "</div>"
            ],
            "text/plain": [
              "   x1  x2      y\n",
              "0   8   8   alto\n",
              "1   8   4   alto\n",
              "2   3   8  medio\n",
              "3   1   4   bajo\n",
              "4   4   1   bajo\n",
              "5   2   6  medio\n",
              "6   6   6   alto\n",
              "7   2   2   bajo\n",
              "8   1   1   bajo\n",
              "9   4   7  medio"
            ]
          },
          "metadata": {
            "tags": []
          },
          "execution_count": 5
        }
      ]
    },
    {
      "cell_type": "code",
      "metadata": {
        "id": "J4_PtVuBVZXR",
        "colab": {
          "base_uri": "https://localhost:8080/"
        },
        "outputId": "c30cf649-9cc4-4ef6-f45a-a650e5210e5f"
      },
      "source": [
        "data.shape"
      ],
      "execution_count": null,
      "outputs": [
        {
          "output_type": "execute_result",
          "data": {
            "text/plain": [
              "(13, 3)"
            ]
          },
          "metadata": {
            "tags": []
          },
          "execution_count": 6
        }
      ]
    },
    {
      "cell_type": "code",
      "metadata": {
        "id": "jFrErFrRVajp",
        "colab": {
          "base_uri": "https://localhost:8080/"
        },
        "outputId": "b19d72ab-a689-4b38-fd30-a5ea8eebf031"
      },
      "source": [
        "X = data[['x1','x2']].to_numpy()\n",
        "X.shape"
      ],
      "execution_count": null,
      "outputs": [
        {
          "output_type": "execute_result",
          "data": {
            "text/plain": [
              "(13, 2)"
            ]
          },
          "metadata": {
            "tags": []
          },
          "execution_count": 7
        }
      ]
    },
    {
      "cell_type": "code",
      "metadata": {
        "id": "m5VEGFIkSXRv",
        "colab": {
          "base_uri": "https://localhost:8080/"
        },
        "outputId": "222ccb43-71be-4aec-959e-970dd660cdae"
      },
      "source": [
        "y_str = data['y'].to_numpy()\n",
        "print(y_str.shape)\n",
        "print(y_str)"
      ],
      "execution_count": null,
      "outputs": [
        {
          "output_type": "stream",
          "text": [
            "(13,)\n",
            "['alto' 'alto' 'medio' 'bajo' 'bajo' 'medio' 'alto' 'bajo' 'bajo' 'medio'\n",
            " 'medio' 'alto' 'alto']\n"
          ],
          "name": "stdout"
        }
      ]
    },
    {
      "cell_type": "code",
      "metadata": {
        "id": "v5S_D28PVfhA",
        "colab": {
          "base_uri": "https://localhost:8080/",
          "height": 301
        },
        "outputId": "c60c8903-6ddf-4aef-fbba-f906242140c4"
      },
      "source": [
        "idx_a = np.where(y_str=='alto') # Puntaje examen alto\n",
        "idx_m = np.where(y_str=='medio') # Puntaje examen medio\n",
        "idx_b = np.where(y_str=='bajo') # Puntaje examen bajo\n",
        "\n",
        "plt.scatter(X[idx_a,0],X[idx_a,1],color='red',label='Puntaje examen alto')\n",
        "plt.scatter(X[idx_m,0],X[idx_m,1],color='gray',label='Puntaje examen medio')\n",
        "plt.scatter(X[idx_b,0],X[idx_b,1],color='magenta',label='Puntaje examen bajo')\n",
        "plt.xlabel('$x_1$ (horas de sueño)')\n",
        "plt.ylabel('$x_2$ (horas de estudio)')\n",
        "plt.legend(bbox_to_anchor=(1.0,1.0),fontsize=8,edgecolor='black')"
      ],
      "execution_count": null,
      "outputs": [
        {
          "output_type": "execute_result",
          "data": {
            "text/plain": [
              "<matplotlib.legend.Legend at 0x7f5bfd518950>"
            ]
          },
          "metadata": {
            "tags": []
          },
          "execution_count": 9
        },
        {
          "output_type": "display_data",
          "data": {
            "image/png": "[encoded data removed]",
            "text/plain": [
              "<Figure size 432x288 with 1 Axes>"
            ]
          },
          "metadata": {
            "tags": [],
            "needs_background": "light"
          }
        }
      ]
    },
    {
      "cell_type": "markdown",
      "metadata": {
        "id": "VAt4q4Zdf2Nq"
      },
      "source": [
        "## 3. Pre-procesamiento"
      ]
    },
    {
      "cell_type": "code",
      "metadata": {
        "id": "8I6JqGu7f6yt",
        "colab": {
          "base_uri": "https://localhost:8080/"
        },
        "outputId": "e4d8dfe1-f507-480b-824a-1f4ce4006be5"
      },
      "source": [
        "# Convertir las etiquetas 'alto', 'medio' y 'bajo' a one-hot\n",
        "# Hay tres formas de hacerlo: manual (no recomendado), con Scikit Learn\n",
        "# (el más recomendado) o con Keras\n",
        "\n",
        "# 1. Manual: texto -> entero -> one-hot\n",
        "\n",
        "# Texto a entero\n",
        "categorias = np.unique(y_str)\n",
        "print(categorias)\n",
        "text_to_int = dict((t, i) for i, t in enumerate(categorias))\n",
        "print(text_to_int)\n",
        "\n",
        "y_int = [text_to_int[texto] for texto in y_str]\n",
        "\n",
        "for i, texto in enumerate(y_str):\n",
        "  print(texto + '->   ' + str(y_int[i]))"
      ],
      "execution_count": null,
      "outputs": [
        {
          "output_type": "stream",
          "text": [
            "['alto' 'bajo' 'medio']\n",
            "{'alto': 0, 'bajo': 1, 'medio': 2}\n",
            "alto->   0\n",
            "alto->   0\n",
            "medio->   2\n",
            "bajo->   1\n",
            "bajo->   1\n",
            "medio->   2\n",
            "alto->   0\n",
            "bajo->   1\n",
            "bajo->   1\n",
            "medio->   2\n",
            "medio->   2\n",
            "alto->   0\n",
            "alto->   0\n"
          ],
          "name": "stdout"
        }
      ]
    },
    {
      "cell_type": "code",
      "metadata": {
        "id": "vhsVqHv3mPOL",
        "colab": {
          "base_uri": "https://localhost:8080/"
        },
        "outputId": "d31af6ea-90ad-4420-e380-15aa5b1e276d"
      },
      "source": [
        "# Entero a one-hot\n",
        "n = len(categorias)  # Número de categorías: 3 (alto, medio, bajo)\n",
        "m = len(y_str)        # Cantidad de datos\n",
        "y = np.zeros((m,n))\n",
        "\n",
        "for row, value in enumerate(y_int):\n",
        "  y[row,value] = 1\n",
        "\n",
        "for i, texto in enumerate(y_str):\n",
        "  print(texto + '->   ' + str(y_int[i]) + '->   ' + str(y[i,:]))\n"
      ],
      "execution_count": null,
      "outputs": [
        {
          "output_type": "stream",
          "text": [
            "alto->   0->   [1. 0. 0.]\n",
            "alto->   0->   [1. 0. 0.]\n",
            "medio->   2->   [0. 0. 1.]\n",
            "bajo->   1->   [0. 1. 0.]\n",
            "bajo->   1->   [0. 1. 0.]\n",
            "medio->   2->   [0. 0. 1.]\n",
            "alto->   0->   [1. 0. 0.]\n",
            "bajo->   1->   [0. 1. 0.]\n",
            "bajo->   1->   [0. 1. 0.]\n",
            "medio->   2->   [0. 0. 1.]\n",
            "medio->   2->   [0. 0. 1.]\n",
            "alto->   0->   [1. 0. 0.]\n",
            "alto->   0->   [1. 0. 0.]\n"
          ],
          "name": "stdout"
        }
      ]
    },
    {
      "cell_type": "code",
      "metadata": {
        "id": "29aG5TS2j4Qf",
        "colab": {
          "base_uri": "https://localhost:8080/"
        },
        "outputId": "3d5889d8-dc11-408a-baf8-36e9d4fc05e1"
      },
      "source": [
        "# 2. Con Scikit Learn: texto -> entero -> onehot\n",
        "from sklearn.preprocessing import LabelEncoder\n",
        "from sklearn.preprocessing import OneHotEncoder\n",
        "\n",
        "# Codificar a entero\n",
        "int_encoder = LabelEncoder()\n",
        "y_int = int_encoder.fit_transform(y_str)\n",
        "\n",
        "# Entero a one-hot\n",
        "onehot_encoder = OneHotEncoder(sparse=False)    # No se requiere sparse porque son pocos datos\n",
        "y_int = y_int.reshape(len(y_int), 1)\n",
        "y = onehot_encoder.fit_transform(y_int)\n",
        "\n",
        "for i, texto in enumerate(y_str):\n",
        "  print(texto + '->   ' + str(y_int[i]) + '->   ' + str(y[i,:]))"
      ],
      "execution_count": null,
      "outputs": [
        {
          "output_type": "stream",
          "text": [
            "alto->   [0]->   [1. 0. 0.]\n",
            "alto->   [0]->   [1. 0. 0.]\n",
            "medio->   [2]->   [0. 0. 1.]\n",
            "bajo->   [1]->   [0. 1. 0.]\n",
            "bajo->   [1]->   [0. 1. 0.]\n",
            "medio->   [2]->   [0. 0. 1.]\n",
            "alto->   [0]->   [1. 0. 0.]\n",
            "bajo->   [1]->   [0. 1. 0.]\n",
            "bajo->   [1]->   [0. 1. 0.]\n",
            "medio->   [2]->   [0. 0. 1.]\n",
            "medio->   [2]->   [0. 0. 1.]\n",
            "alto->   [0]->   [1. 0. 0.]\n",
            "alto->   [0]->   [1. 0. 0.]\n"
          ],
          "name": "stdout"
        }
      ]
    },
    {
      "cell_type": "code",
      "metadata": {
        "id": "mJczpLNIrGcc",
        "colab": {
          "base_uri": "https://localhost:8080/"
        },
        "outputId": "39ceca66-4c0a-4f3f-cc35-e644d1830dd9"
      },
      "source": [
        "# 3. Con Keras: texto -> entero -> one-hot\n",
        "# texto -> entero: idéntico a scikit-learn\n",
        "# entero -> one-hot: usando \"to_categorical\" de Keras\n",
        "\n",
        "# Codificar a entero con Scikit-learn\n",
        "int_encoder = LabelEncoder()\n",
        "y_int = int_encoder.fit_transform(y_str)\n",
        "\n",
        "# entero -> one-hot con Keras\n",
        "from tensorflow.keras.utils import to_categorical\n",
        "y = to_categorical(y_int)\n",
        "\n",
        "for i, texto in enumerate(y_str):\n",
        "  print(texto + '->   ' + str(y_int[i]) + '->   ' + str(y[i,:]))"
      ],
      "execution_count": null,
      "outputs": [
        {
          "output_type": "stream",
          "text": [
            "alto->   0->   [1. 0. 0.]\n",
            "alto->   0->   [1. 0. 0.]\n",
            "medio->   2->   [0. 0. 1.]\n",
            "bajo->   1->   [0. 1. 0.]\n",
            "bajo->   1->   [0. 1. 0.]\n",
            "medio->   2->   [0. 0. 1.]\n",
            "alto->   0->   [1. 0. 0.]\n",
            "bajo->   1->   [0. 1. 0.]\n",
            "bajo->   1->   [0. 1. 0.]\n",
            "medio->   2->   [0. 0. 1.]\n",
            "medio->   2->   [0. 0. 1.]\n",
            "alto->   0->   [1. 0. 0.]\n",
            "alto->   0->   [1. 0. 0.]\n"
          ],
          "name": "stdout"
        }
      ]
    },
    {
      "cell_type": "markdown",
      "metadata": {
        "id": "MWRfTBchVqLI"
      },
      "source": [
        "## 4. Crear el modelo en Keras"
      ]
    },
    {
      "cell_type": "code",
      "metadata": {
        "id": "Qq-tYXwmrALA"
      },
      "source": [
        "# Contenedor vacío\n",
        "modelo = Sequential()"
      ],
      "execution_count": null,
      "outputs": []
    },
    {
      "cell_type": "code",
      "metadata": {
        "id": "iJk58yzxrHYY"
      },
      "source": [
        "# Parámetros de entrada del modelo\n",
        "dim_entrada = X.shape[1]    # Cada ejemplo de entrenamiento tendrá 2 características (x1,x2)\n",
        "dim_salida = 3              # 3 posibles categorías\n",
        "\n",
        "# Comenzar a llenar el modelo ('add')\n",
        "modelo.add(Dense(dim_salida, input_dim = dim_entrada, activation='softmax'))\n",
        "# ¡Y listo, ya tenemos la estructura del clasificador!"
      ],
      "execution_count": null,
      "outputs": []
    },
    {
      "cell_type": "code",
      "metadata": {
        "id": "l7w4aH9Atjh-",
        "colab": {
          "base_uri": "https://localhost:8080/"
        },
        "outputId": "e7addb19-107b-4c8e-f8e7-49e78fb8ba24"
      },
      "source": [
        "# Información del modelo\n",
        "modelo.summary()"
      ],
      "execution_count": null,
      "outputs": [
        {
          "output_type": "stream",
          "text": [
            "Model: \"sequential\"\n",
            "_________________________________________________________________\n",
            "Layer (type)                 Output Shape              Param #   \n",
            "=================================================================\n",
            "dense (Dense)                (None, 3)                 9         \n",
            "=================================================================\n",
            "Total params: 9\n",
            "Trainable params: 9\n",
            "Non-trainable params: 0\n",
            "_________________________________________________________________\n"
          ],
          "name": "stdout"
        }
      ]
    },
    {
      "cell_type": "markdown",
      "metadata": {
        "id": "0-Qtn32GVyIB"
      },
      "source": [
        "## 5. Optimizador (Gradiente Descendente Estocástico) y pérdida"
      ]
    },
    {
      "cell_type": "code",
      "metadata": {
        "id": "of3k_K85V0m8"
      },
      "source": [
        "# Optimización: se usará gradiente descendente (SGD) con lr=0.2, función de error entropía\n",
        "# cruzada (binary_crossentropy), métrica para el desempeño: accuracy (precisión)\n",
        "\n",
        "optimizador = SGD(learning_rate=0.4)\n",
        "modelo.compile(loss='categorical_crossentropy', optimizer=optimizador, metrics=['accuracy'])"
      ],
      "execution_count": null,
      "outputs": []
    },
    {
      "cell_type": "markdown",
      "metadata": {
        "id": "JzpZUVhFdRx9"
      },
      "source": [
        "## 6. Entrenamiento y predicción"
      ]
    },
    {
      "cell_type": "code",
      "metadata": {
        "id": "CAgQlPIYd54K",
        "colab": {
          "base_uri": "https://localhost:8080/"
        },
        "outputId": "8364a3ec-b0e9-4923-8296-1f8a6d2fa175"
      },
      "source": [
        "n_epochs = 130\n",
        "s_minibatches = X.shape[0]  # Cada batch será del mismo tamaño del set de entrenamiento\n",
        "historia = modelo.fit(X,y,epochs=n_epochs,batch_size=s_minibatches,verbose=1)"
      ],
      "execution_count": null,
      "outputs": [
        {
          "output_type": "stream",
          "text": [
            "Epoch 1/130\n",
            "1/1 [==============================] - 1s 607ms/step - loss: 3.4809 - accuracy: 0.3077\n",
            "Epoch 2/130\n",
            "1/1 [==============================] - 0s 4ms/step - loss: 6.4597 - accuracy: 0.3846\n",
            "Epoch 3/130\n",
            "1/1 [==============================] - 0s 13ms/step - loss: 2.1396 - accuracy: 0.3846\n",
            "Epoch 4/130\n",
            "1/1 [==============================] - 0s 6ms/step - loss: 2.1556 - accuracy: 0.6923\n",
            "Epoch 5/130\n",
            "1/1 [==============================] - 0s 5ms/step - loss: 1.7061 - accuracy: 0.6923\n",
            "Epoch 6/130\n",
            "1/1 [==============================] - 0s 7ms/step - loss: 2.0461 - accuracy: 0.3846\n",
            "Epoch 7/130\n",
            "1/1 [==============================] - 0s 7ms/step - loss: 4.1697 - accuracy: 0.3077\n",
            "Epoch 8/130\n",
            "1/1 [==============================] - 0s 7ms/step - loss: 3.5757 - accuracy: 0.3846\n",
            "Epoch 9/130\n",
            "1/1 [==============================] - 0s 5ms/step - loss: 1.3797 - accuracy: 0.3846\n",
            "Epoch 10/130\n",
            "1/1 [==============================] - 0s 6ms/step - loss: 1.9927 - accuracy: 0.6923\n",
            "Epoch 11/130\n",
            "1/1 [==============================] - 0s 7ms/step - loss: 1.4442 - accuracy: 0.6923\n",
            "Epoch 12/130\n",
            "1/1 [==============================] - 0s 6ms/step - loss: 0.9549 - accuracy: 0.6923\n",
            "Epoch 13/130\n",
            "1/1 [==============================] - 0s 7ms/step - loss: 0.5552 - accuracy: 0.7692\n",
            "Epoch 14/130\n",
            "1/1 [==============================] - 0s 6ms/step - loss: 0.5373 - accuracy: 0.8462\n",
            "Epoch 15/130\n",
            "1/1 [==============================] - 0s 8ms/step - loss: 0.7278 - accuracy: 0.7692\n",
            "Epoch 16/130\n",
            "1/1 [==============================] - 0s 7ms/step - loss: 0.4326 - accuracy: 0.8462\n",
            "Epoch 17/130\n",
            "1/1 [==============================] - 0s 6ms/step - loss: 0.4223 - accuracy: 0.8462\n",
            "Epoch 18/130\n",
            "1/1 [==============================] - 0s 20ms/step - loss: 0.4319 - accuracy: 0.8462\n",
            "Epoch 19/130\n",
            "1/1 [==============================] - 0s 8ms/step - loss: 0.4477 - accuracy: 0.8462\n",
            "Epoch 20/130\n",
            "1/1 [==============================] - 0s 8ms/step - loss: 0.6303 - accuracy: 0.7692\n",
            "Epoch 21/130\n",
            "1/1 [==============================] - 0s 6ms/step - loss: 0.3837 - accuracy: 0.8462\n",
            "Epoch 22/130\n",
            "1/1 [==============================] - 0s 7ms/step - loss: 0.3834 - accuracy: 0.8462\n",
            "Epoch 23/130\n",
            "1/1 [==============================] - 0s 5ms/step - loss: 0.3974 - accuracy: 0.8462\n",
            "Epoch 24/130\n",
            "1/1 [==============================] - 0s 7ms/step - loss: 0.5297 - accuracy: 0.7692\n",
            "Epoch 25/130\n",
            "1/1 [==============================] - 0s 4ms/step - loss: 0.4142 - accuracy: 0.8462\n",
            "Epoch 26/130\n",
            "1/1 [==============================] - 0s 6ms/step - loss: 0.5972 - accuracy: 0.6923\n",
            "Epoch 27/130\n",
            "1/1 [==============================] - 0s 6ms/step - loss: 0.4910 - accuracy: 0.8462\n",
            "Epoch 28/130\n",
            "1/1 [==============================] - 0s 6ms/step - loss: 0.8359 - accuracy: 0.6154\n",
            "Epoch 29/130\n",
            "1/1 [==============================] - 0s 6ms/step - loss: 0.9249 - accuracy: 0.6154\n",
            "Epoch 30/130\n",
            "1/1 [==============================] - 0s 4ms/step - loss: 1.7700 - accuracy: 0.4615\n",
            "Epoch 31/130\n",
            "1/1 [==============================] - 0s 5ms/step - loss: 1.2142 - accuracy: 0.6154\n",
            "Epoch 32/130\n",
            "1/1 [==============================] - 0s 9ms/step - loss: 1.3460 - accuracy: 0.5385\n",
            "Epoch 33/130\n",
            "1/1 [==============================] - 0s 4ms/step - loss: 0.6439 - accuracy: 0.6923\n",
            "Epoch 34/130\n",
            "1/1 [==============================] - 0s 4ms/step - loss: 0.5405 - accuracy: 0.7692\n",
            "Epoch 35/130\n",
            "1/1 [==============================] - 0s 4ms/step - loss: 0.3643 - accuracy: 0.8462\n",
            "Epoch 36/130\n",
            "1/1 [==============================] - 0s 6ms/step - loss: 0.3497 - accuracy: 0.8462\n",
            "Epoch 37/130\n",
            "1/1 [==============================] - 0s 4ms/step - loss: 0.3378 - accuracy: 0.8462\n",
            "Epoch 38/130\n",
            "1/1 [==============================] - 0s 6ms/step - loss: 0.3283 - accuracy: 0.8462\n",
            "Epoch 39/130\n",
            "1/1 [==============================] - 0s 8ms/step - loss: 0.3206 - accuracy: 0.8462\n",
            "Epoch 40/130\n",
            "1/1 [==============================] - 0s 4ms/step - loss: 0.3215 - accuracy: 0.8462\n",
            "Epoch 41/130\n",
            "1/1 [==============================] - 0s 5ms/step - loss: 0.3138 - accuracy: 0.8462\n",
            "Epoch 42/130\n",
            "1/1 [==============================] - 0s 5ms/step - loss: 0.3374 - accuracy: 0.8462\n",
            "Epoch 43/130\n",
            "1/1 [==============================] - 0s 7ms/step - loss: 0.2989 - accuracy: 0.8462\n",
            "Epoch 44/130\n",
            "1/1 [==============================] - 0s 5ms/step - loss: 0.3222 - accuracy: 0.8462\n",
            "Epoch 45/130\n",
            "1/1 [==============================] - 0s 4ms/step - loss: 0.2845 - accuracy: 0.9231\n",
            "Epoch 46/130\n",
            "1/1 [==============================] - 0s 5ms/step - loss: 0.3039 - accuracy: 0.8462\n",
            "Epoch 47/130\n",
            "1/1 [==============================] - 0s 5ms/step - loss: 0.2730 - accuracy: 0.9231\n",
            "Epoch 48/130\n",
            "1/1 [==============================] - 0s 7ms/step - loss: 0.2898 - accuracy: 0.8462\n",
            "Epoch 49/130\n",
            "1/1 [==============================] - 0s 4ms/step - loss: 0.2624 - accuracy: 0.9231\n",
            "Epoch 50/130\n",
            "1/1 [==============================] - 0s 7ms/step - loss: 0.2761 - accuracy: 0.8462\n",
            "Epoch 51/130\n",
            "1/1 [==============================] - 0s 5ms/step - loss: 0.2530 - accuracy: 0.9231\n",
            "Epoch 52/130\n",
            "1/1 [==============================] - 0s 5ms/step - loss: 0.2637 - accuracy: 0.8462\n",
            "Epoch 53/130\n",
            "1/1 [==============================] - 0s 6ms/step - loss: 0.2442 - accuracy: 0.9231\n",
            "Epoch 54/130\n",
            "1/1 [==============================] - 0s 11ms/step - loss: 0.2522 - accuracy: 0.8462\n",
            "Epoch 55/130\n",
            "1/1 [==============================] - 0s 5ms/step - loss: 0.2361 - accuracy: 0.9231\n",
            "Epoch 56/130\n",
            "1/1 [==============================] - 0s 5ms/step - loss: 0.2416 - accuracy: 0.8462\n",
            "Epoch 57/130\n",
            "1/1 [==============================] - 0s 8ms/step - loss: 0.2285 - accuracy: 0.9231\n",
            "Epoch 58/130\n",
            "1/1 [==============================] - 0s 5ms/step - loss: 0.2318 - accuracy: 0.8462\n",
            "Epoch 59/130\n",
            "1/1 [==============================] - 0s 4ms/step - loss: 0.2215 - accuracy: 0.9231\n",
            "Epoch 60/130\n",
            "1/1 [==============================] - 0s 6ms/step - loss: 0.2230 - accuracy: 0.9231\n",
            "Epoch 61/130\n",
            "1/1 [==============================] - 0s 8ms/step - loss: 0.2149 - accuracy: 0.9231\n",
            "Epoch 62/130\n",
            "1/1 [==============================] - 0s 4ms/step - loss: 0.2150 - accuracy: 0.9231\n",
            "Epoch 63/130\n",
            "1/1 [==============================] - 0s 6ms/step - loss: 0.2088 - accuracy: 0.9231\n",
            "Epoch 64/130\n",
            "1/1 [==============================] - 0s 6ms/step - loss: 0.2080 - accuracy: 0.9231\n",
            "Epoch 65/130\n",
            "1/1 [==============================] - 0s 16ms/step - loss: 0.2032 - accuracy: 0.9231\n",
            "Epoch 66/130\n",
            "1/1 [==============================] - 0s 7ms/step - loss: 0.2017 - accuracy: 0.9231\n",
            "Epoch 67/130\n",
            "1/1 [==============================] - 0s 4ms/step - loss: 0.1981 - accuracy: 0.9231\n",
            "Epoch 68/130\n",
            "1/1 [==============================] - 0s 5ms/step - loss: 0.1963 - accuracy: 0.9231\n",
            "Epoch 69/130\n",
            "1/1 [==============================] - 0s 7ms/step - loss: 0.1935 - accuracy: 0.9231\n",
            "Epoch 70/130\n",
            "1/1 [==============================] - 0s 5ms/step - loss: 0.1916 - accuracy: 0.9231\n",
            "Epoch 71/130\n",
            "1/1 [==============================] - 0s 8ms/step - loss: 0.1893 - accuracy: 0.9231\n",
            "Epoch 72/130\n",
            "1/1 [==============================] - 0s 10ms/step - loss: 0.1874 - accuracy: 0.9231\n",
            "Epoch 73/130\n",
            "1/1 [==============================] - 0s 5ms/step - loss: 0.1855 - accuracy: 0.9231\n",
            "Epoch 74/130\n",
            "1/1 [==============================] - 0s 9ms/step - loss: 0.1838 - accuracy: 0.9231\n",
            "Epoch 75/130\n",
            "1/1 [==============================] - 0s 6ms/step - loss: 0.1821 - accuracy: 0.9231\n",
            "Epoch 76/130\n",
            "1/1 [==============================] - 0s 6ms/step - loss: 0.1805 - accuracy: 0.9231\n",
            "Epoch 77/130\n",
            "1/1 [==============================] - 0s 5ms/step - loss: 0.1789 - accuracy: 0.9231\n",
            "Epoch 78/130\n",
            "1/1 [==============================] - 0s 5ms/step - loss: 0.1774 - accuracy: 0.9231\n",
            "Epoch 79/130\n",
            "1/1 [==============================] - 0s 5ms/step - loss: 0.1760 - accuracy: 0.9231\n",
            "Epoch 80/130\n",
            "1/1 [==============================] - 0s 8ms/step - loss: 0.1746 - accuracy: 0.9231\n",
            "Epoch 81/130\n",
            "1/1 [==============================] - 0s 6ms/step - loss: 0.1732 - accuracy: 0.9231\n",
            "Epoch 82/130\n",
            "1/1 [==============================] - 0s 5ms/step - loss: 0.1719 - accuracy: 0.9231\n",
            "Epoch 83/130\n",
            "1/1 [==============================] - 0s 5ms/step - loss: 0.1705 - accuracy: 0.9231\n",
            "Epoch 84/130\n",
            "1/1 [==============================] - 0s 7ms/step - loss: 0.1693 - accuracy: 0.9231\n",
            "Epoch 85/130\n",
            "1/1 [==============================] - 0s 5ms/step - loss: 0.1680 - accuracy: 0.9231\n",
            "Epoch 86/130\n",
            "1/1 [==============================] - 0s 9ms/step - loss: 0.1668 - accuracy: 0.9231\n",
            "Epoch 87/130\n",
            "1/1 [==============================] - 0s 15ms/step - loss: 0.1656 - accuracy: 0.9231\n",
            "Epoch 88/130\n",
            "1/1 [==============================] - 0s 5ms/step - loss: 0.1644 - accuracy: 0.9231\n",
            "Epoch 89/130\n",
            "1/1 [==============================] - 0s 11ms/step - loss: 0.1633 - accuracy: 0.9231\n",
            "Epoch 90/130\n",
            "1/1 [==============================] - 0s 7ms/step - loss: 0.1621 - accuracy: 0.9231\n",
            "Epoch 91/130\n",
            "1/1 [==============================] - 0s 4ms/step - loss: 0.1610 - accuracy: 0.9231\n",
            "Epoch 92/130\n",
            "1/1 [==============================] - 0s 7ms/step - loss: 0.1599 - accuracy: 0.9231\n",
            "Epoch 93/130\n",
            "1/1 [==============================] - 0s 11ms/step - loss: 0.1589 - accuracy: 0.9231\n",
            "Epoch 94/130\n",
            "1/1 [==============================] - 0s 12ms/step - loss: 0.1578 - accuracy: 0.9231\n",
            "Epoch 95/130\n",
            "1/1 [==============================] - 0s 9ms/step - loss: 0.1568 - accuracy: 0.9231\n",
            "Epoch 96/130\n",
            "1/1 [==============================] - 0s 3ms/step - loss: 0.1558 - accuracy: 0.9231\n",
            "Epoch 97/130\n",
            "1/1 [==============================] - 0s 3ms/step - loss: 0.1548 - accuracy: 0.9231\n",
            "Epoch 98/130\n",
            "1/1 [==============================] - 0s 4ms/step - loss: 0.1538 - accuracy: 0.9231\n",
            "Epoch 99/130\n",
            "1/1 [==============================] - 0s 5ms/step - loss: 0.1528 - accuracy: 0.9231\n",
            "Epoch 100/130\n",
            "1/1 [==============================] - 0s 4ms/step - loss: 0.1519 - accuracy: 0.9231\n",
            "Epoch 101/130\n",
            "1/1 [==============================] - 0s 7ms/step - loss: 0.1509 - accuracy: 0.9231\n",
            "Epoch 102/130\n",
            "1/1 [==============================] - 0s 7ms/step - loss: 0.1500 - accuracy: 0.9231\n",
            "Epoch 103/130\n",
            "1/1 [==============================] - 0s 3ms/step - loss: 0.1491 - accuracy: 0.9231\n",
            "Epoch 104/130\n",
            "1/1 [==============================] - 0s 7ms/step - loss: 0.1482 - accuracy: 0.9231\n",
            "Epoch 105/130\n",
            "1/1 [==============================] - 0s 4ms/step - loss: 0.1473 - accuracy: 0.9231\n",
            "Epoch 106/130\n",
            "1/1 [==============================] - 0s 7ms/step - loss: 0.1464 - accuracy: 0.9231\n",
            "Epoch 107/130\n",
            "1/1 [==============================] - 0s 4ms/step - loss: 0.1456 - accuracy: 0.9231\n",
            "Epoch 108/130\n",
            "1/1 [==============================] - 0s 4ms/step - loss: 0.1447 - accuracy: 0.9231\n",
            "Epoch 109/130\n",
            "1/1 [==============================] - 0s 6ms/step - loss: 0.1439 - accuracy: 0.9231\n",
            "Epoch 110/130\n",
            "1/1 [==============================] - 0s 4ms/step - loss: 0.1431 - accuracy: 1.0000\n",
            "Epoch 111/130\n",
            "1/1 [==============================] - 0s 8ms/step - loss: 0.1422 - accuracy: 1.0000\n",
            "Epoch 112/130\n",
            "1/1 [==============================] - 0s 4ms/step - loss: 0.1414 - accuracy: 1.0000\n",
            "Epoch 113/130\n",
            "1/1 [==============================] - 0s 11ms/step - loss: 0.1406 - accuracy: 1.0000\n",
            "Epoch 114/130\n",
            "1/1 [==============================] - 0s 4ms/step - loss: 0.1399 - accuracy: 1.0000\n",
            "Epoch 115/130\n",
            "1/1 [==============================] - 0s 7ms/step - loss: 0.1391 - accuracy: 1.0000\n",
            "Epoch 116/130\n",
            "1/1 [==============================] - 0s 4ms/step - loss: 0.1383 - accuracy: 1.0000\n",
            "Epoch 117/130\n",
            "1/1 [==============================] - 0s 7ms/step - loss: 0.1376 - accuracy: 1.0000\n",
            "Epoch 118/130\n",
            "1/1 [==============================] - 0s 4ms/step - loss: 0.1368 - accuracy: 1.0000\n",
            "Epoch 119/130\n",
            "1/1 [==============================] - 0s 7ms/step - loss: 0.1361 - accuracy: 1.0000\n",
            "Epoch 120/130\n",
            "1/1 [==============================] - 0s 4ms/step - loss: 0.1353 - accuracy: 1.0000\n",
            "Epoch 121/130\n",
            "1/1 [==============================] - 0s 4ms/step - loss: 0.1346 - accuracy: 1.0000\n",
            "Epoch 122/130\n",
            "1/1 [==============================] - 0s 7ms/step - loss: 0.1339 - accuracy: 1.0000\n",
            "Epoch 123/130\n",
            "1/1 [==============================] - 0s 5ms/step - loss: 0.1332 - accuracy: 1.0000\n",
            "Epoch 124/130\n",
            "1/1 [==============================] - 0s 8ms/step - loss: 0.1325 - accuracy: 1.0000\n",
            "Epoch 125/130\n",
            "1/1 [==============================] - 0s 5ms/step - loss: 0.1318 - accuracy: 1.0000\n",
            "Epoch 126/130\n",
            "1/1 [==============================] - 0s 16ms/step - loss: 0.1311 - accuracy: 1.0000\n",
            "Epoch 127/130\n",
            "1/1 [==============================] - 0s 5ms/step - loss: 0.1305 - accuracy: 1.0000\n",
            "Epoch 128/130\n",
            "1/1 [==============================] - 0s 4ms/step - loss: 0.1298 - accuracy: 1.0000\n",
            "Epoch 129/130\n",
            "1/1 [==============================] - 0s 8ms/step - loss: 0.1291 - accuracy: 1.0000\n",
            "Epoch 130/130\n",
            "1/1 [==============================] - 0s 4ms/step - loss: 0.1285 - accuracy: 1.0000\n"
          ],
          "name": "stdout"
        }
      ]
    },
    {
      "cell_type": "markdown",
      "metadata": {
        "id": "j1eKT8FSfD_r"
      },
      "source": [
        "### 6.1 Comportamiento del error"
      ]
    },
    {
      "cell_type": "code",
      "metadata": {
        "id": "_o7xvdcRfUUQ",
        "colab": {
          "base_uri": "https://localhost:8080/",
          "height": 283
        },
        "outputId": "d7cfeea7-56d4-49e4-90a2-4ecf655c13f7"
      },
      "source": [
        "plt.plot(historia.history['accuracy'])"
      ],
      "execution_count": null,
      "outputs": [
        {
          "output_type": "execute_result",
          "data": {
            "text/plain": [
              "[<matplotlib.lines.Line2D at 0x7f5bef22c390>]"
            ]
          },
          "metadata": {
            "tags": []
          },
          "execution_count": 20
        },
        {
          "output_type": "display_data",
          "data": {
            "image/png": "[encoded data removed]",
            "text/plain": [
              "<Figure size 432x288 with 1 Axes>"
            ]
          },
          "metadata": {
            "tags": [],
            "needs_background": "light"
          }
        }
      ]
    },
    {
      "cell_type": "markdown",
      "metadata": {
        "id": "frJiUQMewtgq"
      },
      "source": [
        "### 6.2 Predicción"
      ]
    },
    {
      "cell_type": "code",
      "metadata": {
        "id": "1rWgFXvUf3PY",
        "colab": {
          "base_uri": "https://localhost:8080/",
          "height": 283
        },
        "outputId": "76c1c9df-d49b-4b5c-f3cb-74d488330b1f"
      },
      "source": [
        "def dibujar_frontera(X,Y,modelo):\n",
        "    # Valor mínimo y máximo y rellenado con ceros\n",
        "    x_min, x_max = X[:, 0].min() - .5, X[:, 0].max() + .5\n",
        "    y_min, y_max = X[:, 1].min() - .5, X[:, 1].max() + .5\n",
        "    h = 0.01\n",
        "\n",
        "    # Grilla de puntos\n",
        "    xx, yy = np.meshgrid(np.arange(x_min, x_max, h), np.arange(y_min, y_max, h))\n",
        "\n",
        "    # Predecir categorías para cada punto en la grilla \n",
        "    probabilidades = modelo.predict(np.c_[xx.ravel(), yy.ravel()])\n",
        "    Z = np.argmax(probabilidades,axis=1)   # Escoger la prob. más alta para cada predicción\n",
        "    Z = Z.reshape(xx.shape)\n",
        "\n",
        "    fig = plt.figure()\n",
        "    plt.contourf(xx, yy, Z, cmap=plt.cm.Set1, alpha=0.8)\n",
        "\n",
        "    idx_a = np.where(y_str=='alto') # Puntaje examen alto\n",
        "    idx_m = np.where(y_str=='medio') # Puntaje examen medio\n",
        "    idx_b = np.where(y_str=='bajo') # Puntaje examen bajo\n",
        "\n",
        "    plt.scatter(X[idx_a,0],X[idx_a,1],color='red',label='Puntaje examen alto')\n",
        "    plt.scatter(X[idx_m,0],X[idx_m,1],color='gray',label='Puntaje examen medio')\n",
        "    plt.scatter(X[idx_b,0],X[idx_b,1],color='magenta',label='Puntaje examen bajo')\n",
        "    plt.xlabel('$x_1$ (horas de sueño)')\n",
        "    plt.ylabel('$x_2$ (horas de estudio)')\n",
        "    plt.legend(bbox_to_anchor=(1.0,1.0),fontsize=8,edgecolor='black')\n",
        "\n",
        "    plt.xlim(xx.min(), xx.max())\n",
        "    plt.ylim(yy.min(), yy.max())\n",
        "\n",
        "dibujar_frontera(X,y_str,modelo)"
      ],
      "execution_count": null,
      "outputs": [
        {
          "output_type": "display_data",
          "data": {
            "image/png": "[encoded data removed]",
            "text/plain": [
              "<Figure size 432x288 with 1 Axes>"
            ]
          },
          "metadata": {
            "tags": [],
            "needs_background": "light"
          }
        }
      ]
    },
    {
      "cell_type": "code",
      "metadata": {
        "id": "8l6wclfLEwzI"
      },
      "source": [
        ""
      ],
      "execution_count": null,
      "outputs": []
    }
  ]
}