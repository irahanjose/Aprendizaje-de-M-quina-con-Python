{
  "nbformat": 4,
  "nbformat_minor": 0,
  "metadata": {
    "colab": {
      "name": "underfitting_overfitting_diseno_red_neuronal.ipynb",
      "provenance": [],
      "collapsed_sections": [
        "hsBgdWRwuMSy"
      ],
      "include_colab_link": true
    },
    "kernelspec": {
      "name": "python3",
      "display_name": "Python 3"
    },
    "language_info": {
      "name": "python"
    },
    "accelerator": "GPU"
  },
  "cells": [
    {
      "cell_type": "markdown",
      "metadata": {
        "id": "view-in-github",
        "colab_type": "text"
      },
      "source": [
        "<a href=\"https://colab.research.google.com/github/irahanjose/Aprendizaje-de-M-quina-con-Python/blob/main/underfitting_overfitting_diseno_red_neuronal.ipynb\" target=\"_parent\"><img src=\"https://colab.research.google.com/assets/colab-badge.svg\" alt=\"Open In Colab\"/></a>"
      ]
    },
    {
      "cell_type": "markdown",
      "metadata": {
        "id": "hsBgdWRwuMSy"
      },
      "source": [
        "# 1- El problema a resolver"
      ]
    },
    {
      "cell_type": "markdown",
      "metadata": {
        "id": "Nvcx_tP9m11R"
      },
      "source": [
        "Los físicos usan aceleradores de partículas, como el [Gran Colisionador de Hadrones](https://es.wikipedia.org/wiki/Gran_colisionador_de_hadrones) ubicado en la frontera entre Suiza y Francia, para descubrir nuevas partículas subatómicas.\n",
        "\n",
        "La detección de estas partículas usualmente es un problema de clasificación, para determinar si el dato observado corresponde a la señal de interés o al ruido de fondo.\n",
        "\n",
        "La idea es desarrollar un modelo de Deep Learning capaz de realizar esta clasificación."
      ]
    },
    {
      "cell_type": "markdown",
      "metadata": {
        "id": "6zp3ZbGVXenk"
      },
      "source": [
        "# 2- El set de datos"
      ]
    },
    {
      "cell_type": "markdown",
      "metadata": {
        "id": "SqxiQiQ5m8z2"
      },
      "source": [
        "El set de datos fue desarrollado por investigadores del Departamento de Física y Astronomía de la Universidad de California Irvine.\n",
        "\n",
        "En total contiene 11 millones de datos, cada uno representado por 28 características (*features*):\n",
        "\n",
        "- Las primeras 21 corresponden a propiedades cinemáticas medidas por los detectores de partículas en el acelerador.\n",
        "- Las 7 características restantes son calculadas a partir de las 21 anteriores, y fueron derivadas por los físicos para facilitar el proceso de clasificación.\n",
        "\n",
        "Cada dato está etiquetado en una de dos posibles características:\n",
        "\n",
        "- \"1\": presencia de señal (posiblemente una partícula)\n",
        "- \"0\": ruido de fondo (no corresponde a una partícula)\n",
        "\n",
        "Para más información se sugiere mirar los detalles en el artículo [Searching for Exotic Particles in High-Energy Physics with Deep Learning](https://arxiv.org/pdf/1402.4735.pdf).\n",
        "\n",
        "Teniendo en cuenta el elevado número de datos que contiene este set, para esta práctica se trabajará con una versión reducida del mismo (*HIGGS_subset.csv*) que contiene un total de 100.000 datos."
      ]
    },
    {
      "cell_type": "markdown",
      "metadata": {
        "id": "N-xlsnsAZFOU"
      },
      "source": [
        "## 2.1- Preparación de Google Drive y lectura del set de datos"
      ]
    },
    {
      "cell_type": "code",
      "metadata": {
        "id": "25ChWpXluO8H",
        "colab": {
          "base_uri": "https://localhost:8080/"
        },
        "outputId": "e69a2c03-5b80-43db-c2a4-7e84afc993a2"
      },
      "source": [
        "from google.colab import drive\n",
        "drive.mount('/gdrive')"
      ],
      "execution_count": null,
      "outputs": [
        {
          "output_type": "stream",
          "text": [
            "Mounted at /gdrive\n"
          ],
          "name": "stdout"
        }
      ]
    },
    {
      "cell_type": "code",
      "metadata": {
        "id": "-mg9iOypZOb3",
        "colab": {
          "base_uri": "https://localhost:8080/",
          "height": 261
        },
        "outputId": "181791e0-dd2b-4fd6-f525-bf3d3d43b80d"
      },
      "source": [
        "import pandas as pd\n",
        "\n",
        "ruta = '/gdrive/MyDrive/Colab Notebooks/01_2021-07-FundamentosDL/1.19/HIGGS_subset.csv'\n",
        "df = pd.read_csv(ruta)\n",
        "print(df.shape)\n",
        "df.head()"
      ],
      "execution_count": null,
      "outputs": [
        {
          "output_type": "stream",
          "text": [
            "(100000, 29)\n"
          ],
          "name": "stdout"
        },
        {
          "output_type": "execute_result",
          "data": {
            "text/html": [
              "<div>\n",
              "<style scoped>\n",
              "    .dataframe tbody tr th:only-of-type {\n",
              "        vertical-align: middle;\n",
              "    }\n",
              "\n",
              "    .dataframe tbody tr th {\n",
              "        vertical-align: top;\n",
              "    }\n",
              "\n",
              "    .dataframe thead th {\n",
              "        text-align: right;\n",
              "    }\n",
              "</style>\n",
              "<table border=\"1\" class=\"dataframe\">\n",
              "  <thead>\n",
              "    <tr style=\"text-align: right;\">\n",
              "      <th></th>\n",
              "      <th>1.00E+00</th>\n",
              "      <th>8.69E-01</th>\n",
              "      <th>-6.35E-01</th>\n",
              "      <th>2.26E-01</th>\n",
              "      <th>3.27E-01</th>\n",
              "      <th>-6.90E-01</th>\n",
              "      <th>7.54E-01</th>\n",
              "      <th>-2.49E-01</th>\n",
              "      <th>-1.09E+00</th>\n",
              "      <th>0.00E+00</th>\n",
              "      <th>1.37E+00</th>\n",
              "      <th>-6.54E-01</th>\n",
              "      <th>9.30E-01</th>\n",
              "      <th>1.11E+00</th>\n",
              "      <th>1.14E+00</th>\n",
              "      <th>-1.58E+00</th>\n",
              "      <th>-1.05E+00</th>\n",
              "      <th>0.000000000000000000e+00.1</th>\n",
              "      <th>6.58E-01</th>\n",
              "      <th>-1.05E-02</th>\n",
              "      <th>-4.58E-02</th>\n",
              "      <th>3.10E+00</th>\n",
              "      <th>1.35E+00</th>\n",
              "      <th>9.80E-01</th>\n",
              "      <th>9.78E-01</th>\n",
              "      <th>9.20E-01</th>\n",
              "      <th>7.22E-01</th>\n",
              "      <th>9.89E-01</th>\n",
              "      <th>8.77E-01</th>\n",
              "    </tr>\n",
              "  </thead>\n",
              "  <tbody>\n",
              "    <tr>\n",
              "      <th>0</th>\n",
              "      <td>0</td>\n",
              "      <td>0.320083</td>\n",
              "      <td>-0.258156</td>\n",
              "      <td>-0.748752</td>\n",
              "      <td>0.934500</td>\n",
              "      <td>-0.007166</td>\n",
              "      <td>0.358276</td>\n",
              "      <td>-1.813136</td>\n",
              "      <td>-0.723959</td>\n",
              "      <td>0.000000</td>\n",
              "      <td>0.648403</td>\n",
              "      <td>-0.555565</td>\n",
              "      <td>0.531426</td>\n",
              "      <td>2.214872</td>\n",
              "      <td>0.705822</td>\n",
              "      <td>0.090288</td>\n",
              "      <td>1.634711</td>\n",
              "      <td>2.548224</td>\n",
              "      <td>0.620932</td>\n",
              "      <td>-0.505984</td>\n",
              "      <td>-1.425281</td>\n",
              "      <td>0.000000</td>\n",
              "      <td>0.823101</td>\n",
              "      <td>0.814655</td>\n",
              "      <td>0.988860</td>\n",
              "      <td>0.795775</td>\n",
              "      <td>0.650955</td>\n",
              "      <td>0.718191</td>\n",
              "      <td>0.642627</td>\n",
              "    </tr>\n",
              "    <tr>\n",
              "      <th>1</th>\n",
              "      <td>1</td>\n",
              "      <td>1.015883</td>\n",
              "      <td>-0.520153</td>\n",
              "      <td>-0.281001</td>\n",
              "      <td>0.624704</td>\n",
              "      <td>-0.784161</td>\n",
              "      <td>0.872192</td>\n",
              "      <td>-1.489331</td>\n",
              "      <td>1.576804</td>\n",
              "      <td>0.000000</td>\n",
              "      <td>0.922747</td>\n",
              "      <td>-0.560422</td>\n",
              "      <td>1.431915</td>\n",
              "      <td>2.214872</td>\n",
              "      <td>0.843158</td>\n",
              "      <td>0.324221</td>\n",
              "      <td>0.292806</td>\n",
              "      <td>2.548224</td>\n",
              "      <td>0.526976</td>\n",
              "      <td>1.254604</td>\n",
              "      <td>-0.800450</td>\n",
              "      <td>0.000000</td>\n",
              "      <td>0.367025</td>\n",
              "      <td>1.140837</td>\n",
              "      <td>0.986885</td>\n",
              "      <td>0.659926</td>\n",
              "      <td>0.921141</td>\n",
              "      <td>0.750046</td>\n",
              "      <td>0.719383</td>\n",
              "    </tr>\n",
              "    <tr>\n",
              "      <th>2</th>\n",
              "      <td>0</td>\n",
              "      <td>0.341129</td>\n",
              "      <td>-2.031753</td>\n",
              "      <td>0.731169</td>\n",
              "      <td>1.457364</td>\n",
              "      <td>-0.898847</td>\n",
              "      <td>0.175428</td>\n",
              "      <td>-1.724016</td>\n",
              "      <td>-1.037181</td>\n",
              "      <td>0.000000</td>\n",
              "      <td>0.459422</td>\n",
              "      <td>1.315300</td>\n",
              "      <td>1.709330</td>\n",
              "      <td>0.000000</td>\n",
              "      <td>0.450820</td>\n",
              "      <td>-2.184424</td>\n",
              "      <td>1.415590</td>\n",
              "      <td>0.000000</td>\n",
              "      <td>1.662958</td>\n",
              "      <td>0.224402</td>\n",
              "      <td>0.227907</td>\n",
              "      <td>3.101961</td>\n",
              "      <td>1.097289</td>\n",
              "      <td>0.871776</td>\n",
              "      <td>0.987942</td>\n",
              "      <td>0.869959</td>\n",
              "      <td>0.626679</td>\n",
              "      <td>1.114897</td>\n",
              "      <td>1.149453</td>\n",
              "    </tr>\n",
              "    <tr>\n",
              "      <th>3</th>\n",
              "      <td>0</td>\n",
              "      <td>0.812743</td>\n",
              "      <td>-1.324652</td>\n",
              "      <td>1.291579</td>\n",
              "      <td>0.468025</td>\n",
              "      <td>-0.063256</td>\n",
              "      <td>1.467181</td>\n",
              "      <td>-1.758674</td>\n",
              "      <td>-1.740129</td>\n",
              "      <td>0.000000</td>\n",
              "      <td>2.255309</td>\n",
              "      <td>-0.860577</td>\n",
              "      <td>0.566936</td>\n",
              "      <td>2.214872</td>\n",
              "      <td>1.734612</td>\n",
              "      <td>-0.606963</td>\n",
              "      <td>-0.574351</td>\n",
              "      <td>0.000000</td>\n",
              "      <td>2.493950</td>\n",
              "      <td>-0.030442</td>\n",
              "      <td>-1.218299</td>\n",
              "      <td>0.000000</td>\n",
              "      <td>0.883288</td>\n",
              "      <td>0.787425</td>\n",
              "      <td>0.986954</td>\n",
              "      <td>0.869872</td>\n",
              "      <td>0.562826</td>\n",
              "      <td>0.919145</td>\n",
              "      <td>0.789303</td>\n",
              "    </tr>\n",
              "    <tr>\n",
              "      <th>4</th>\n",
              "      <td>1</td>\n",
              "      <td>0.342410</td>\n",
              "      <td>1.051832</td>\n",
              "      <td>-1.309716</td>\n",
              "      <td>2.484316</td>\n",
              "      <td>-0.511491</td>\n",
              "      <td>0.704459</td>\n",
              "      <td>0.134646</td>\n",
              "      <td>1.313476</td>\n",
              "      <td>2.173076</td>\n",
              "      <td>1.013775</td>\n",
              "      <td>-1.558023</td>\n",
              "      <td>0.942001</td>\n",
              "      <td>0.000000</td>\n",
              "      <td>0.557071</td>\n",
              "      <td>0.696513</td>\n",
              "      <td>0.682230</td>\n",
              "      <td>0.000000</td>\n",
              "      <td>1.008679</td>\n",
              "      <td>-0.849108</td>\n",
              "      <td>-1.172796</td>\n",
              "      <td>1.550981</td>\n",
              "      <td>1.728419</td>\n",
              "      <td>1.202410</td>\n",
              "      <td>0.985475</td>\n",
              "      <td>1.203403</td>\n",
              "      <td>0.886029</td>\n",
              "      <td>0.903616</td>\n",
              "      <td>1.090524</td>\n",
              "    </tr>\n",
              "  </tbody>\n",
              "</table>\n",
              "</div>"
            ],
            "text/plain": [
              "   1.00E+00  8.69E-01  -6.35E-01  ...  7.22E-01  9.89E-01  8.77E-01\n",
              "0         0  0.320083  -0.258156  ...  0.650955  0.718191  0.642627\n",
              "1         1  1.015883  -0.520153  ...  0.921141  0.750046  0.719383\n",
              "2         0  0.341129  -2.031753  ...  0.626679  1.114897  1.149453\n",
              "3         0  0.812743  -1.324652  ...  0.562826  0.919145  0.789303\n",
              "4         1  0.342410   1.051832  ...  0.886029  0.903616  1.090524\n",
              "\n",
              "[5 rows x 29 columns]"
            ]
          },
          "metadata": {
            "tags": []
          },
          "execution_count": 3
        }
      ]
    },
    {
      "cell_type": "code",
      "metadata": {
        "id": "DUYgXb7MkDrx",
        "colab": {
          "base_uri": "https://localhost:8080/"
        },
        "outputId": "0b07dff3-17e2-4061-f482-d0cb3e965051"
      },
      "source": [
        "# Distribución de categorías\n",
        "df.iloc[:,0].value_counts()"
      ],
      "execution_count": null,
      "outputs": [
        {
          "output_type": "execute_result",
          "data": {
            "text/plain": [
              "1    52892\n",
              "0    47108\n",
              "Name: 1.00E+00, dtype: int64"
            ]
          },
          "metadata": {
            "tags": []
          },
          "execution_count": 4
        }
      ]
    },
    {
      "cell_type": "markdown",
      "metadata": {
        "id": "xZAC8RamadeG"
      },
      "source": [
        "## 2.2- Creación de los sets de entrenamiento, prueba y validación\n",
        "\n",
        "Se entrenarán múltiples modelos y se escogerá el mejor de todos (aquel con mayor precisión y menor overfitting).\n",
        "\n",
        "Para esto dividiremos el set de datos en tres partes:\n",
        "\n",
        "1. Entrenamiento (80%): para entrenar cada modelo\n",
        "2. Prueba (10%): para verificar el desempeño de cada modelo con un set diferente al de entrenamiento y así escoger el mejor de todos\n",
        "3. Validación (10%): para verificar el desempeño del modelo ganador. Este set **nunca** será mostrado a ninguno de los modelos"
      ]
    },
    {
      "cell_type": "code",
      "metadata": {
        "id": "rA4M7QZtZg23",
        "colab": {
          "base_uri": "https://localhost:8080/"
        },
        "outputId": "71674eb6-bd6e-4280-cbc9-38f2c16f5ce6"
      },
      "source": [
        "X = df.values[:,1:]\n",
        "Y = df.values[:,0]\n",
        "print(X.shape)\n",
        "print(Y.shape)"
      ],
      "execution_count": null,
      "outputs": [
        {
          "output_type": "stream",
          "text": [
            "(100000, 28)\n",
            "(100000,)\n"
          ],
          "name": "stdout"
        }
      ]
    },
    {
      "cell_type": "code",
      "metadata": {
        "id": "aq3UGVgVuzAK",
        "colab": {
          "base_uri": "https://localhost:8080/"
        },
        "outputId": "9e20bcc2-a1d9-4ae3-ecf9-f9577d57dfef"
      },
      "source": [
        "# Creación de los tres sets de datos\n",
        "from sklearn.model_selection import train_test_split\n",
        "\n",
        "# Entrenamiento\n",
        "x_train, X_temp, y_train, Y_temp = train_test_split(\n",
        "    X, Y, test_size = 0.2, random_state=12)\n",
        "\n",
        "# Validación: se subdivide nuevamente X_temp, Y_temp\n",
        "x_test, x_val, y_test, y_val = train_test_split(\n",
        "    X_temp, Y_temp, test_size = 0.5, random_state=25)\n",
        "\n",
        "print(X.shape)\n",
        "print(x_train.shape)\n",
        "print(x_test.shape)\n",
        "print(x_val.shape)"
      ],
      "execution_count": null,
      "outputs": [
        {
          "output_type": "stream",
          "text": [
            "(100000, 28)\n",
            "(80000, 28)\n",
            "(10000, 28)\n",
            "(10000, 28)\n"
          ],
          "name": "stdout"
        }
      ]
    },
    {
      "cell_type": "markdown",
      "metadata": {
        "id": "bHUnTaJta9XT"
      },
      "source": [
        "# 3- Creación y entrenamiento de los modelos\n",
        "\n",
        "Usaremos una función para fácilmente crear cada modelo:"
      ]
    },
    {
      "cell_type": "code",
      "metadata": {
        "id": "ZDOuW4jdxNZF"
      },
      "source": [
        "from tensorflow.keras import Sequential\n",
        "from tensorflow.keras.layers import Dense\n",
        "import tensorflow as tf\n",
        "import numpy as np\n",
        "SEED = 42\n",
        "tf.random.set_seed(SEED)\n",
        "np.random.seed(SEED)\n",
        "\n",
        "DIM_ENTRADA = x_train.shape[1]   # 28 datos\n",
        "DIM_SALIDA = 1                   # Una de dos posibles categorías (0 ó 1)\n",
        "\n",
        "def crear_modelo(dim_entrada, dim_salida, capas, nombre):\n",
        "  mod = Sequential()\n",
        "\n",
        "  # Capa de entrada\n",
        "  mod.add(Dense(capas[0], activation='relu', input_shape=(dim_entrada,), name='capa_1'))\n",
        "\n",
        "  # Continuar agregando capas (si hay más de una oculta)\n",
        "  if len(capas)>1:\n",
        "    i = 1\n",
        "    while i < len(capas):\n",
        "      mod.add(Dense(capas[i], activation='relu', name='capa_'+str(i+1)))\n",
        "      i += 1\n",
        "  \n",
        "  # Capa de salida\n",
        "  mod.add(Dense(dim_salida, activation='sigmoid', name='capa_salida'))\n",
        "  \n",
        "  mod._name = nombre\n",
        "  mod.summary()\n",
        "\n",
        "  return mod"
      ],
      "execution_count": null,
      "outputs": []
    },
    {
      "cell_type": "markdown",
      "metadata": {
        "id": "a0h-ju4Kxlht"
      },
      "source": [
        "Crearemos 5 diferentes modelos:\n",
        "\n",
        "1. Una capa oculta con una neurona\n",
        "2. Una capa oculta con 15 neuronas\n",
        "3. Dos capas ocultas con 15 neuronas c/u\n",
        "4. Tres capas ocultas con 32 neuronas c/u\n",
        "5. Cuatro capas ocultas con 512 neuronas c/u"
      ]
    },
    {
      "cell_type": "code",
      "metadata": {
        "id": "JJAi8ytrx-Fb",
        "colab": {
          "base_uri": "https://localhost:8080/"
        },
        "outputId": "6beae9a2-17d8-4322-a0bd-bbb0d6464d90"
      },
      "source": [
        "capas1 = [1]\n",
        "capas2 = [15]\n",
        "capas3 = [15, 15]\n",
        "capas4 = [32, 32, 32]\n",
        "capas5 = [512, 512, 512, 512]\n",
        "\n",
        "modelo1 = crear_modelo(DIM_ENTRADA, DIM_SALIDA, capas1,'modelo_1')\n",
        "modelo2 = crear_modelo(DIM_ENTRADA, DIM_SALIDA, capas2,'modelo_2')\n",
        "modelo3 = crear_modelo(DIM_ENTRADA, DIM_SALIDA, capas3,'modelo_3')\n",
        "modelo4 = crear_modelo(DIM_ENTRADA, DIM_SALIDA, capas4,'modelo_4')\n",
        "modelo5 = crear_modelo(DIM_ENTRADA, DIM_SALIDA, capas5,'modelo_5')"
      ],
      "execution_count": null,
      "outputs": [
        {
          "output_type": "stream",
          "text": [
            "Model: \"modelo_1\"\n",
            "_________________________________________________________________\n",
            "Layer (type)                 Output Shape              Param #   \n",
            "=================================================================\n",
            "capa_1 (Dense)               (None, 1)                 29        \n",
            "_________________________________________________________________\n",
            "capa_salida (Dense)          (None, 1)                 2         \n",
            "=================================================================\n",
            "Total params: 31\n",
            "Trainable params: 31\n",
            "Non-trainable params: 0\n",
            "_________________________________________________________________\n",
            "Model: \"modelo_2\"\n",
            "_________________________________________________________________\n",
            "Layer (type)                 Output Shape              Param #   \n",
            "=================================================================\n",
            "capa_1 (Dense)               (None, 15)                435       \n",
            "_________________________________________________________________\n",
            "capa_salida (Dense)          (None, 1)                 16        \n",
            "=================================================================\n",
            "Total params: 451\n",
            "Trainable params: 451\n",
            "Non-trainable params: 0\n",
            "_________________________________________________________________\n",
            "Model: \"modelo_3\"\n",
            "_________________________________________________________________\n",
            "Layer (type)                 Output Shape              Param #   \n",
            "=================================================================\n",
            "capa_1 (Dense)               (None, 15)                435       \n",
            "_________________________________________________________________\n",
            "capa_2 (Dense)               (None, 15)                240       \n",
            "_________________________________________________________________\n",
            "capa_salida (Dense)          (None, 1)                 16        \n",
            "=================================================================\n",
            "Total params: 691\n",
            "Trainable params: 691\n",
            "Non-trainable params: 0\n",
            "_________________________________________________________________\n",
            "Model: \"modelo_4\"\n",
            "_________________________________________________________________\n",
            "Layer (type)                 Output Shape              Param #   \n",
            "=================================================================\n",
            "capa_1 (Dense)               (None, 32)                928       \n",
            "_________________________________________________________________\n",
            "capa_2 (Dense)               (None, 32)                1056      \n",
            "_________________________________________________________________\n",
            "capa_3 (Dense)               (None, 32)                1056      \n",
            "_________________________________________________________________\n",
            "capa_salida (Dense)          (None, 1)                 33        \n",
            "=================================================================\n",
            "Total params: 3,073\n",
            "Trainable params: 3,073\n",
            "Non-trainable params: 0\n",
            "_________________________________________________________________\n",
            "Model: \"modelo_5\"\n",
            "_________________________________________________________________\n",
            "Layer (type)                 Output Shape              Param #   \n",
            "=================================================================\n",
            "capa_1 (Dense)               (None, 512)               14848     \n",
            "_________________________________________________________________\n",
            "capa_2 (Dense)               (None, 512)               262656    \n",
            "_________________________________________________________________\n",
            "capa_3 (Dense)               (None, 512)               262656    \n",
            "_________________________________________________________________\n",
            "capa_4 (Dense)               (None, 512)               262656    \n",
            "_________________________________________________________________\n",
            "capa_salida (Dense)          (None, 1)                 513       \n",
            "=================================================================\n",
            "Total params: 803,329\n",
            "Trainable params: 803,329\n",
            "Non-trainable params: 0\n",
            "_________________________________________________________________\n"
          ],
          "name": "stdout"
        }
      ]
    },
    {
      "cell_type": "markdown",
      "metadata": {
        "id": "CcGcscuKyazf"
      },
      "source": [
        "Ahora crearemos una segunda función para compilar y entrenar cada modelo:"
      ]
    },
    {
      "cell_type": "code",
      "metadata": {
        "id": "jcwP9my6ye2u"
      },
      "source": [
        "from tensorflow.keras.optimizers import Adam\n",
        "\n",
        "def compilar_entrenar(modelo, n_epochs=1000, tam_lote=10000):\n",
        "  opt = Adam()\n",
        "  modelo.compile(optimizer=opt, loss='binary_crossentropy',\n",
        "                 metrics=['accuracy'])\n",
        "  \n",
        "  hist = modelo.fit(\n",
        "      x_train, y_train, epochs=n_epochs, validation_data=(x_test,y_test),\n",
        "      batch_size = tam_lote, verbose=0)\n",
        "\n",
        "  # Al final del entrenamiento imprimir en pantalla la precisión lograda\n",
        "  # con los sets de entrenamiento y prueba\n",
        "  acc_train = modelo.evaluate(x_train,y_train,verbose=0)\n",
        "  acc_test = modelo.evaluate(x_test,y_test,verbose=0)\n",
        "\n",
        "  print('{} - precisión entrenamiento/prueba: {:.2f}%/{:.2f}%'\n",
        "  .format(modelo.name,100*acc_train[1],100*acc_test[1]))\n",
        "\n",
        "  return hist"
      ],
      "execution_count": null,
      "outputs": []
    },
    {
      "cell_type": "code",
      "metadata": {
        "id": "22fXDmCvyvoD",
        "colab": {
          "base_uri": "https://localhost:8080/"
        },
        "outputId": "72eaa687-df76-49ce-9437-b29136566bc8"
      },
      "source": [
        "# Nota: entrenar con GPU dado el elevado nro. de datos y modelos\n",
        "historia1 = compilar_entrenar(modelo1)\n",
        "historia2 = compilar_entrenar(modelo2)\n",
        "historia3 = compilar_entrenar(modelo3)\n",
        "historia4 = compilar_entrenar(modelo4)\n",
        "historia5 = compilar_entrenar(modelo5)"
      ],
      "execution_count": null,
      "outputs": [
        {
          "output_type": "stream",
          "text": [
            "modelo_1 - precisión entrenamiento/prueba: 64.79%/64.28%\n",
            "modelo_2 - precisión entrenamiento/prueba: 70.75%/70.52%\n",
            "modelo_3 - precisión entrenamiento/prueba: 71.90%/71.34%\n",
            "modelo_4 - precisión entrenamiento/prueba: 73.46%/70.73%\n",
            "modelo_5 - precisión entrenamiento/prueba: 100.00%/62.47%\n"
          ],
          "name": "stdout"
        }
      ]
    },
    {
      "cell_type": "markdown",
      "metadata": {
        "id": "01y2-nTce7gq"
      },
      "source": [
        "El `modelo_3` parece ser el más adecuado, mientras que el `modelo_1` presenta *underfitting* y el `modelo_5` *overfitting*."
      ]
    },
    {
      "cell_type": "markdown",
      "metadata": {
        "id": "JCf9uKWYfSNc"
      },
      "source": [
        "#4 - Resultados del entrenamiento\n",
        "\n",
        "Veamos en detalle el comportamiento de cada modelo entrenado:"
      ]
    },
    {
      "cell_type": "code",
      "metadata": {
        "id": "lzzjvABnzShQ"
      },
      "source": [
        "import matplotlib.pyplot as plt\n",
        "\n",
        "def graficar(historia):\n",
        "  plt.figure(figsize=(15,5))\n",
        "\n",
        "  loss = historia.history['loss']\n",
        "  accuracy = historia.history['accuracy']\n",
        "  test_loss = historia.history['val_loss']\n",
        "  test_accuracy = historia.history['val_accuracy']\n",
        "  epochs = historia.epoch\n",
        "\n",
        "  plt.subplot(121)\n",
        "  plt.plot(epochs,loss,label='train_loss')\n",
        "  plt.plot(epochs,test_loss,'b--',label='test_loss')\n",
        "  plt.legend()\n",
        "\n",
        "  plt.subplot(122)\n",
        "  plt.plot(epochs,accuracy,label='train_acc')\n",
        "  plt.plot(epochs,test_accuracy,'b--',label='test_acc')\n",
        "  plt.legend()"
      ],
      "execution_count": null,
      "outputs": []
    },
    {
      "cell_type": "code",
      "metadata": {
        "id": "qDljOZrkziC8",
        "colab": {
          "base_uri": "https://localhost:8080/",
          "height": 320
        },
        "outputId": "f1971772-97ee-4f68-f6c5-9e596c1c3c4e"
      },
      "source": [
        "graficar(historia1)"
      ],
      "execution_count": null,
      "outputs": [
        {
          "output_type": "display_data",
          "data": {
            "image/png": "[encoded data removed]",
            "text/plain": [
              "<Figure size 1080x360 with 2 Axes>"
            ]
          },
          "metadata": {
            "tags": [],
            "needs_background": "light"
          }
        }
      ]
    },
    {
      "cell_type": "code",
      "metadata": {
        "id": "LJkOfwUSzh78",
        "colab": {
          "base_uri": "https://localhost:8080/",
          "height": 320
        },
        "outputId": "2e95f144-2319-4734-bf50-1d75295540de"
      },
      "source": [
        "graficar(historia2)"
      ],
      "execution_count": null,
      "outputs": [
        {
          "output_type": "display_data",
          "data": {
            "image/png": "[encoded data removed]",
            "text/plain": [
              "<Figure size 1080x360 with 2 Axes>"
            ]
          },
          "metadata": {
            "tags": [],
            "needs_background": "light"
          }
        }
      ]
    },
    {
      "cell_type": "code",
      "metadata": {
        "id": "JE_B8KZezh1T",
        "colab": {
          "base_uri": "https://localhost:8080/",
          "height": 320
        },
        "outputId": "0573cb4e-04fd-49e9-eab6-15f0ef1db43b"
      },
      "source": [
        "graficar(historia3)"
      ],
      "execution_count": null,
      "outputs": [
        {
          "output_type": "display_data",
          "data": {
            "image/png": "[encoded data removed]",
            "text/plain": [
              "<Figure size 1080x360 with 2 Axes>"
            ]
          },
          "metadata": {
            "tags": [],
            "needs_background": "light"
          }
        }
      ]
    },
    {
      "cell_type": "code",
      "metadata": {
        "id": "42S4KK7lzhqP",
        "colab": {
          "base_uri": "https://localhost:8080/",
          "height": 320
        },
        "outputId": "7d096248-4636-4a0c-b324-d8770b422c8a"
      },
      "source": [
        "graficar(historia4)"
      ],
      "execution_count": null,
      "outputs": [
        {
          "output_type": "display_data",
          "data": {
            "image/png": "[encoded data removed]",
            "text/plain": [
              "<Figure size 1080x360 with 2 Axes>"
            ]
          },
          "metadata": {
            "tags": [],
            "needs_background": "light"
          }
        }
      ]
    },
    {
      "cell_type": "code",
      "metadata": {
        "id": "1KDp16GlzhT7",
        "colab": {
          "base_uri": "https://localhost:8080/",
          "height": 320
        },
        "outputId": "1123ddae-4eb5-47ad-dfac-e33e293a42e9"
      },
      "source": [
        "graficar(historia5)"
      ],
      "execution_count": null,
      "outputs": [
        {
          "output_type": "display_data",
          "data": {
            "image/png": "[encoded data removed]",
            "text/plain": [
              "<Figure size 1080x360 with 2 Axes>"
            ]
          },
          "metadata": {
            "tags": [],
            "needs_background": "light"
          }
        }
      ]
    },
    {
      "cell_type": "markdown",
      "metadata": {
        "id": "SXC5I1yLgxMH"
      },
      "source": [
        "El paso a seguir sería afinar el `modelo_3`, modificando uno a uno sus hiperparámetros, entrenando, validando y verificando si hay alguna mejoría.\n",
        "\n",
        "En lugar de esto nos enfocaremos en estrategias para reducir el *overfitting* en el `modelo_5`."
      ]
    },
    {
      "cell_type": "markdown",
      "metadata": {
        "id": "t8nEm3Dsg9A3"
      },
      "source": [
        "#5 - Reducción del *overfitting*\n",
        "\n",
        "A partir del `modelo_5` crearemos dos modelos adicionales con ligeras variaciones:\n",
        "\n",
        "- `modelo_5a`: se agregará *Drop out* al `modelo_5``\n",
        "- `modelo_5b`: se agregará *weight regularization* al `modelo_5`"
      ]
    },
    {
      "cell_type": "code",
      "metadata": {
        "id": "ZrbkI5HoeGpc",
        "colab": {
          "base_uri": "https://localhost:8080/"
        },
        "outputId": "d680df4f-bc66-4132-fe09-7579f722b5ce"
      },
      "source": [
        "# modelo_5a\n",
        "from tensorflow.keras.layers import Dropout\n",
        "modelo5a = Sequential()\n",
        "modelo5a.add(Dense(512, activation='relu', input_shape=(DIM_ENTRADA,), name='capa_1'))\n",
        "modelo5a.add(Dropout(0.5))\n",
        "modelo5a.add(Dense(512, activation='relu', name='capa_2'))\n",
        "modelo5a.add(Dropout(0.5))\n",
        "modelo5a.add(Dense(512, activation='relu', name='capa_3'))\n",
        "modelo5a.add(Dropout(0.5))\n",
        "modelo5a.add(Dense(512, activation='relu', name='capa_4'))\n",
        "modelo5a.add(Dropout(0.5))\n",
        "modelo5a.add(Dense(DIM_SALIDA, activation='sigmoid', name='capa_salida'))\n",
        "modelo5a._name = 'modelo_5a'\n",
        "modelo5a.summary()"
      ],
      "execution_count": null,
      "outputs": [
        {
          "output_type": "stream",
          "text": [
            "Model: \"modelo_5a\"\n",
            "_________________________________________________________________\n",
            "Layer (type)                 Output Shape              Param #   \n",
            "=================================================================\n",
            "capa_1 (Dense)               (None, 512)               14848     \n",
            "_________________________________________________________________\n",
            "dropout (Dropout)            (None, 512)               0         \n",
            "_________________________________________________________________\n",
            "capa_2 (Dense)               (None, 512)               262656    \n",
            "_________________________________________________________________\n",
            "dropout_1 (Dropout)          (None, 512)               0         \n",
            "_________________________________________________________________\n",
            "capa_3 (Dense)               (None, 512)               262656    \n",
            "_________________________________________________________________\n",
            "dropout_2 (Dropout)          (None, 512)               0         \n",
            "_________________________________________________________________\n",
            "capa_4 (Dense)               (None, 512)               262656    \n",
            "_________________________________________________________________\n",
            "dropout_3 (Dropout)          (None, 512)               0         \n",
            "_________________________________________________________________\n",
            "capa_salida (Dense)          (None, 1)                 513       \n",
            "=================================================================\n",
            "Total params: 803,329\n",
            "Trainable params: 803,329\n",
            "Non-trainable params: 0\n",
            "_________________________________________________________________\n"
          ],
          "name": "stdout"
        }
      ]
    },
    {
      "cell_type": "code",
      "metadata": {
        "id": "xbaS5lvKjBBh",
        "colab": {
          "base_uri": "https://localhost:8080/"
        },
        "outputId": "ebc18ae4-f903-4994-fc22-73a194d78454"
      },
      "source": [
        "# modelo_5b\n",
        "from tensorflow.keras.regularizers import l2\n",
        "\n",
        "modelo5b = Sequential()\n",
        "modelo5b.add(Dense(512, activation='relu', input_shape=(DIM_ENTRADA,),\n",
        "                   kernel_regularizer=l2(1e-3), name='capa_1'))\n",
        "modelo5b.add(Dense(512, activation='relu', kernel_regularizer=l2(1e-3), name='capa_2'))\n",
        "modelo5b.add(Dense(512, activation='relu', kernel_regularizer=l2(1e-3), name='capa_3'))\n",
        "modelo5b.add(Dense(512, activation='relu', kernel_regularizer=l2(1e-3), name='capa_4'))\n",
        "modelo5b.add(Dense(DIM_SALIDA, activation='sigmoid', name='capa_salida'))\n",
        "modelo5b._name = 'modelo_5b'\n",
        "modelo5b.summary()"
      ],
      "execution_count": null,
      "outputs": [
        {
          "output_type": "stream",
          "text": [
            "Model: \"modelo_5b\"\n",
            "_________________________________________________________________\n",
            "Layer (type)                 Output Shape              Param #   \n",
            "=================================================================\n",
            "capa_1 (Dense)               (None, 512)               14848     \n",
            "_________________________________________________________________\n",
            "capa_2 (Dense)               (None, 512)               262656    \n",
            "_________________________________________________________________\n",
            "capa_3 (Dense)               (None, 512)               262656    \n",
            "_________________________________________________________________\n",
            "capa_4 (Dense)               (None, 512)               262656    \n",
            "_________________________________________________________________\n",
            "capa_salida (Dense)          (None, 1)                 513       \n",
            "=================================================================\n",
            "Total params: 803,329\n",
            "Trainable params: 803,329\n",
            "Non-trainable params: 0\n",
            "_________________________________________________________________\n"
          ],
          "name": "stdout"
        }
      ]
    },
    {
      "cell_type": "code",
      "metadata": {
        "id": "YTCYtj5IjuQe",
        "colab": {
          "base_uri": "https://localhost:8080/"
        },
        "outputId": "5e99220a-904d-4a98-eb6c-88dc93bce885"
      },
      "source": [
        "# Entrenamiento\n",
        "historia5a = compilar_entrenar(modelo5a)\n",
        "historia5b = compilar_entrenar(modelo5b)"
      ],
      "execution_count": null,
      "outputs": [
        {
          "output_type": "stream",
          "text": [
            "modelo_5a - precisión entrenamiento/prueba: 91.97%/71.05%\n",
            "modelo_5b - precisión entrenamiento/prueba: 90.12%/67.01%\n"
          ],
          "name": "stdout"
        }
      ]
    },
    {
      "cell_type": "markdown",
      "metadata": {
        "id": "Qoc2UVl1oaSi"
      },
      "source": [
        "En este punto una alternativa consiste en modificar los hiperparámetros de regularización en cada modelo, aunque en este caso particular los resultados indican que la mejor estrategia es reducir el número de capas del modelo."
      ]
    },
    {
      "cell_type": "markdown",
      "metadata": {
        "id": "fgqFLS3z6kMY"
      },
      "source": [
        "#6 - Validación del modelo elegido\n",
        "\n",
        "Finalmente, calcularemos el desempeño del `modelo_3` con el set de validación:"
      ]
    },
    {
      "cell_type": "code",
      "metadata": {
        "id": "pVJurxjX6ys-",
        "colab": {
          "base_uri": "https://localhost:8080/"
        },
        "outputId": "38ca7a88-df52-4bbe-c517-78a3341187d1"
      },
      "source": [
        "validacion = modelo3.evaluate(x_val,y_val)\n",
        "\n",
        "print('Precisión con el set de validación: {:.2f}%'\n",
        "  .format(100*validacion[1]))"
      ],
      "execution_count": null,
      "outputs": [
        {
          "output_type": "stream",
          "text": [
            "313/313 [==============================] - 1s 2ms/step - loss: 0.5624 - accuracy: 0.7084\n",
            "Precisión con el set de validación: 70.84%\n"
          ],
          "name": "stdout"
        }
      ]
    },
    {
      "cell_type": "code",
      "metadata": {
        "id": "Ut2A3rtD4wJm"
      },
      "source": [
        ""
      ],
      "execution_count": null,
      "outputs": []
    }
  ]
}