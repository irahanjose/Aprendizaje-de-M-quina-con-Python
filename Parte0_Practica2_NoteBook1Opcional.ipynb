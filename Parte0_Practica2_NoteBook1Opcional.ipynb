{
  "nbformat": 4,
  "nbformat_minor": 0,
  "metadata": {
    "colab": {
      "name": "Parte0_Practica2_NoteBook1Opcional.ipynb",
      "provenance": [],
      "collapsed_sections": [],
      "include_colab_link": true
    },
    "kernelspec": {
      "name": "python3",
      "display_name": "Python 3"
    }
  },
  "cells": [
    {
      "cell_type": "markdown",
      "metadata": {
        "id": "view-in-github",
        "colab_type": "text"
      },
      "source": [
        "<a href=\"https://colab.research.google.com/github/irahanjose/Aprendizaje-de-M-quina-con-Python/blob/main/Parte0_Practica2_NoteBook1Opcional.ipynb\" target=\"_parent\"><img src=\"https://colab.research.google.com/assets/colab-badge.svg\" alt=\"Open In Colab\"/></a>"
      ]
    },
    {
      "cell_type": "markdown",
      "metadata": {
        "id": "mVg-8sixpz8l"
      },
      "source": [
        "## **Clasificación (Ejercicio Opcional)**\n",
        "\n",
        "En esta práctica clasificaremos flores 3 tipos de flores Iris 💐, en función de las medidas de su sépalo y pétalo. Para clasificar usaremos un clasificador basado en máquinas de vectores de soporte, que analizaremos más detenidamente en el curso Cómo resolver problemas con aprendizaje supervisado.\n",
        "\n",
        "Hecho con 💗 por alan@machinelearningenespanol.com"
      ]
    },
    {
      "cell_type": "markdown",
      "metadata": {
        "id": "RdbDhVn60OGP"
      },
      "source": [
        "**Iniciemos**\n",
        "\n",
        "Primero, exploremos los datos. Originalmente, los datos los podemos extraer [aquí](https://archive.ics.uci.edu/ml/datasets/iris).\n",
        "\n",
        "Yo los descargué y solo puse los nombres de las columnas en español. Están en un repositorio de [Github](https://raw.githubusercontent.com/AlanCIO/Disruptora_Lab0P2/master/iris.data). Ejecuta la siguiente celda para cargar y ver el dataset."
      ]
    },
    {
      "cell_type": "code",
      "metadata": {
        "id": "w8nQrPfx6hlf"
      },
      "source": [
        "# Almacenemos los datos en un dataframe\n",
        "import pandas as pd  # Pandas ofrece estructuras de datos y operaciones para manipular tablas numéricas.\n",
        "url = 'https://raw.githubusercontent.com/AlanCIO/Disruptora_Lab0P2/master/iris.data'\n",
        "df = pd.read_csv(url)\n",
        "df"
      ],
      "execution_count": null,
      "outputs": []
    },
    {
      "cell_type": "markdown",
      "metadata": {
        "id": "CjwJWaabeOJ9"
      },
      "source": [
        "Este es un problema de clasificación multiclase. Tenemos 3 clases: Iris setosa, Iris virgínica e Iris versicolor."
      ]
    },
    {
      "cell_type": "markdown",
      "metadata": {
        "id": "L6f9AzwKKxSh"
      },
      "source": [
        "Como recordarás, en sklearn los pasos para elegir un modelo y entrenarlos son:\n",
        "1. importar el modelo de sklearn\n",
        "2. crear el modelo\n",
        "3. entrenar el modelo\n",
        "4. **Hacer predicciones**\n",
        "\n",
        "Agregamos uno, Hacer predicciones. Es decir intentar asignar una clase a un ejemplo nuevo."
      ]
    },
    {
      "cell_type": "code",
      "metadata": {
        "id": "q59VCJhvtQcF"
      },
      "source": [
        "import numpy as np                # Usaremos numpy para trabajar con arreglos. Pandas está basado en numpy\n",
        "import matplotlib.pyplot as plt   # Usaremos pyplot para graficar y ver cómo se ven los datos\n",
        " \n",
        "# Como la clasificación de flores Iris es el \"Hola Mundo\" del aprendizaje de máquina,\n",
        "# sklearn tiene este dataset. Por simplicidad, usaremos el dataset de sklearn en lugar del dataframe que recuperamos\n",
        "# de Github. No te preocupes que son exactamente los mismos datos.\n",
        "\n",
        "from sklearn.datasets import load_iris\n",
        "IrisDataset = load_iris() # Cargar los datos\n",
        "X = IrisDataset.data      # X contiene los 4 atributos:longitud del sépalo,ancho del sépalo,longitud del pétalo,ancho del pétalo\n",
        "y = IrisDataset.target    # y contiene las etiquetas. Como las etiquetas es el valor que se intenta aprender,\n",
        "                          # también reciben el nombre de target o en español, objetivo.\n",
        "\n",
        "#Elegir dos características:\n",
        "# 0 => Longitud del sépalo\n",
        "# 1 => Ancho del sépalo\n",
        "# 2 => Longitud del pétalo\n",
        "# 3 => Ancho del pétalo\n",
        "caracteristica_1 = 0\n",
        "caracteristica_2 = 1\n",
        "X = X[:,[caracteristica_1,caracteristica_2]] # X ahora contiene solo los atributos 1 y 2 que seleccionaste\n",
        "\n",
        "from sklearn.svm import SVC     #Importar el modelo\n",
        "clf = SVC()                     # Crear el modelo\n",
        "clf = clf.fit(X, y)             # Entrenar el modelo\n",
        "\n",
        "# Ya que tenemos un modelo entrenado, podemos predecir.\n",
        "# Grafiquemos el límite de decisión.\n",
        "\n",
        "# Crear una malla de puntos. Después usar el modelo para predecir la\n",
        "# etiqueta para cada punto de la malla. \n",
        "x_min, x_max = X[:, 0].min() - 1, X[:, 0].max() + 1\n",
        "y_min, y_max = X[:, 1].min() - 1, X[:, 1].max() + 1\n",
        "xx, yy = np.meshgrid(np.arange(x_min, x_max, 0.02),np.arange(y_min, y_max, 0.02))\n",
        "\n",
        "Z = clf.predict(np.c_[xx.ravel(), yy.ravel()]) #Predicción\n",
        "Z = Z.reshape(xx.shape)\n",
        "\n",
        "# Graficar resultados\n",
        "plt.contourf(xx, yy, Z)\n",
        "plt.scatter(X[:, 0], X[:, 1], c=y, edgecolor='black')\n",
        "plt.xlabel(IrisDataset.feature_names[caracteristica_1])\n",
        "plt.ylabel(IrisDataset.feature_names[caracteristica_2])\n",
        "\n",
        "# Evaluar el modelo: Árbol de decisión\n",
        "from sklearn.metrics import accuracy_score  \n",
        "y_pred = clf.predict(X)                             # Usar los ejemplos de prueba para predecir\n",
        "\n",
        "print('Calificación: ', accuracy_score(y, y_pred))  # Comparar las predicciones con los valores\n",
        "                                                    # reales de las etiquetas de prueba"
      ],
      "execution_count": null,
      "outputs": []
    },
    {
      "cell_type": "markdown",
      "metadata": {
        "id": "xSvgFcGbpMu7"
      },
      "source": [
        "**Responde** 🛑\n",
        "\n",
        "¿Qué combinación de atributos usando qué clasificador te dió la mejor calificación?\n",
        "\n",
        "Por ejemplo, ¿qué es mejor:\n",
        "\n",
        "*   un árbol de decisión con ancho del sépalo y lóngitud del pétalo?\n",
        "*   una máquina de vectores de soporte con la longitud del sépalo y el ancho del pétalo?\n",
        "\n"
      ]
    },
    {
      "cell_type": "markdown",
      "metadata": {
        "id": "JXGAVW-Sp8Z2"
      },
      "source": [
        "\n",
        "\n",
        "---\n",
        "## **Regresión (Ejercicio Opcional)**\n",
        "\n",
        "Para el problema usaremos un regresor basado en máquinas de vectores de soporte, que analizaremos más detenidamente en el curso Cómo resolver problemas con aprendizaje supervisado. Usaremos datos sintéticos (inventados)\n",
        "\n",
        "Hecho con 💗 por alan@machinelearningenespanol.com\n"
      ]
    },
    {
      "cell_type": "code",
      "metadata": {
        "id": "MZud2amiqMcr"
      },
      "source": [
        "#Importar módulos necesarios. Ya lo hemos hecho en la celda de arriba, pero para acostumbrarnos....\n",
        "import numpy as np\n",
        "import matplotlib.pyplot as plt\n",
        "\n",
        "# Crear datos sintéticos aleatorios\n",
        "rng = np.random.RandomState(1)\n",
        "X = np.sort(5 * rng.rand(80, 1), axis=0)      # X tiene un atributo\n",
        "y = np.sin(X).ravel()                         # y contiene el valor real\n",
        "y[::5] += 3 * (0.5 - rng.rand(16))            # Agregar ruido\n",
        "\n",
        "# Entrenar el modelo\n",
        "from sklearn.svm import SVR  # Importar\n",
        "regr = SVR()                 # Crear\n",
        "regr.fit(X, y)               # Entrenar o ajustar\n",
        "\n",
        "# Predecir\n",
        "X_test = np.arange(0.0, 5.0, 0.01)[:, np.newaxis]\n",
        "y_test = regr.predict(X_test)\n",
        "\n",
        "# Graficar los resultados\n",
        "plt.scatter(X, y, s=20, edgecolor=\"black\", label=\"Datos\")\n",
        "plt.plot(X_test, y_test, label=\"Regresor | Vectores de Soporte\", linewidth=2)\n",
        "plt.xlabel(\"Datos\")\n",
        "plt.ylabel(\"target\")\n",
        "plt.legend()"
      ],
      "execution_count": null,
      "outputs": []
    }
  ]
}