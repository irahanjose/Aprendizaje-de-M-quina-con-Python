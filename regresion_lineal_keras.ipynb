{
  "nbformat": 4,
  "nbformat_minor": 0,
  "metadata": {
    "colab": {
      "name": "regresion_lineal_keras.ipynb",
      "provenance": [],
      "collapsed_sections": [],
      "include_colab_link": true
    },
    "kernelspec": {
      "name": "python3",
      "display_name": "Python 3"
    },
    "language_info": {
      "name": "python"
    }
  },
  "cells": [
    {
      "cell_type": "markdown",
      "metadata": {
        "id": "view-in-github",
        "colab_type": "text"
      },
      "source": [
        "<a href=\"https://colab.research.google.com/github/irahanjose/Aprendizaje-de-M-quina-con-Python/blob/main/regresion_lineal_keras.ipynb\" target=\"_parent\"><img src=\"https://colab.research.google.com/assets/colab-badge.svg\" alt=\"Open In Colab\"/></a>"
      ]
    },
    {
      "cell_type": "markdown",
      "metadata": {
        "id": "Vswpx6tLUeO4"
      },
      "source": [
        "# Regresión lineal: implementación en Keras"
      ]
    },
    {
      "cell_type": "markdown",
      "metadata": {
        "id": "KekemDcyUdF3"
      },
      "source": [
        "## 1. Configuración Google Drive"
      ]
    },
    {
      "cell_type": "code",
      "metadata": {
        "id": "7vdb-PLiU0oS",
        "colab": {
          "base_uri": "https://localhost:8080/"
        },
        "outputId": "6618f5c9-9154-4cb0-e74f-4768a2f3e735"
      },
      "source": [
        "from google.colab import drive\n",
        "drive.mount('/gdrive')"
      ],
      "execution_count": null,
      "outputs": [
        {
          "output_type": "stream",
          "text": [
            "Drive already mounted at /gdrive; to attempt to forcibly remount, call drive.mount(\"/gdrive\", force_remount=True).\n"
          ],
          "name": "stdout"
        }
      ]
    },
    {
      "cell_type": "code",
      "metadata": {
        "id": "8pgsYo3FU0oU"
      },
      "source": [
        "ruta = '/gdrive/MyDrive/Colab Notebooks/01_2021-07-FundamentosDL/1.7/dataset.csv'"
      ],
      "execution_count": null,
      "outputs": []
    },
    {
      "cell_type": "markdown",
      "metadata": {
        "id": "Relh2SncVM6Q"
      },
      "source": [
        "## 2. Lectura y visualización del set de datos"
      ]
    },
    {
      "cell_type": "code",
      "metadata": {
        "id": "bVrZoXjmVQMp"
      },
      "source": [
        "import pandas as pd\n",
        "import matplotlib.pyplot as plt\n",
        "import numpy as np\n",
        "from tensorflow.keras import Sequential\n",
        "from tensorflow.keras.layers import Dense\n",
        "from tensorflow.keras.optimizers import SGD\n",
        "import tensorflow as tf\n",
        "np.random.seed(25)\n",
        "tf.random.set_seed(25)"
      ],
      "execution_count": null,
      "outputs": []
    },
    {
      "cell_type": "code",
      "metadata": {
        "id": "TzRpfLirVTP5"
      },
      "source": [
        "data = pd.read_csv(ruta)"
      ],
      "execution_count": null,
      "outputs": []
    },
    {
      "cell_type": "code",
      "metadata": {
        "id": "YjpD9XGjVYYZ",
        "colab": {
          "base_uri": "https://localhost:8080/",
          "height": 205
        },
        "outputId": "eca330bd-4668-4079-b054-83efc7e7716c"
      },
      "source": [
        "data.head()"
      ],
      "execution_count": null,
      "outputs": [
        {
          "output_type": "execute_result",
          "data": {
            "text/html": [
              "<div>\n",
              "<style scoped>\n",
              "    .dataframe tbody tr th:only-of-type {\n",
              "        vertical-align: middle;\n",
              "    }\n",
              "\n",
              "    .dataframe tbody tr th {\n",
              "        vertical-align: top;\n",
              "    }\n",
              "\n",
              "    .dataframe thead th {\n",
              "        text-align: right;\n",
              "    }\n",
              "</style>\n",
              "<table border=\"1\" class=\"dataframe\">\n",
              "  <thead>\n",
              "    <tr style=\"text-align: right;\">\n",
              "      <th></th>\n",
              "      <th>Area</th>\n",
              "      <th>Precio</th>\n",
              "    </tr>\n",
              "  </thead>\n",
              "  <tbody>\n",
              "    <tr>\n",
              "      <th>0</th>\n",
              "      <td>152.272727</td>\n",
              "      <td>65928.86015</td>\n",
              "    </tr>\n",
              "    <tr>\n",
              "      <th>1</th>\n",
              "      <td>102.272727</td>\n",
              "      <td>44477.41849</td>\n",
              "    </tr>\n",
              "    <tr>\n",
              "      <th>2</th>\n",
              "      <td>222.727273</td>\n",
              "      <td>95848.62198</td>\n",
              "    </tr>\n",
              "    <tr>\n",
              "      <th>3</th>\n",
              "      <td>79.545455</td>\n",
              "      <td>44964.89827</td>\n",
              "    </tr>\n",
              "    <tr>\n",
              "      <th>4</th>\n",
              "      <td>86.363636</td>\n",
              "      <td>34367.39122</td>\n",
              "    </tr>\n",
              "  </tbody>\n",
              "</table>\n",
              "</div>"
            ],
            "text/plain": [
              "         Area       Precio\n",
              "0  152.272727  65928.86015\n",
              "1  102.272727  44477.41849\n",
              "2  222.727273  95848.62198\n",
              "3   79.545455  44964.89827\n",
              "4   86.363636  34367.39122"
            ]
          },
          "metadata": {
            "tags": []
          },
          "execution_count": 5
        }
      ]
    },
    {
      "cell_type": "code",
      "metadata": {
        "id": "J4_PtVuBVZXR",
        "colab": {
          "base_uri": "https://localhost:8080/"
        },
        "outputId": "5a589a35-f3b2-40d4-ee19-545e5895092a"
      },
      "source": [
        "data.shape"
      ],
      "execution_count": null,
      "outputs": [
        {
          "output_type": "execute_result",
          "data": {
            "text/plain": [
              "(100, 2)"
            ]
          },
          "metadata": {
            "tags": []
          },
          "execution_count": 6
        }
      ]
    },
    {
      "cell_type": "code",
      "metadata": {
        "id": "jFrErFrRVajp"
      },
      "source": [
        "x = data['Area'].values\n",
        "y = data['Precio'].values"
      ],
      "execution_count": null,
      "outputs": []
    },
    {
      "cell_type": "code",
      "metadata": {
        "id": "v5S_D28PVfhA",
        "colab": {
          "base_uri": "https://localhost:8080/",
          "height": 306
        },
        "outputId": "19be9e31-1f53-450e-f2bd-17de536d3ba1"
      },
      "source": [
        "plt.scatter(x,y)\n",
        "plt.xlabel('$x_1$ (área en $m^2$')\n",
        "plt.ylabel('y (precio (en U$)')"
      ],
      "execution_count": null,
      "outputs": [
        {
          "output_type": "execute_result",
          "data": {
            "text/plain": [
              "Text(0, 0.5, 'y (precio (en U$)')"
            ]
          },
          "metadata": {
            "tags": []
          },
          "execution_count": 8
        },
        {
          "output_type": "display_data",
          "data": {
            "image/png": "[encoded data removed]",
            "text/plain": [
              "<Figure size 432x288 with 1 Axes>"
            ]
          },
          "metadata": {
            "tags": [],
            "needs_background": "light"
          }
        }
      ]
    },
    {
      "cell_type": "markdown",
      "metadata": {
        "id": "MWRfTBchVqLI"
      },
      "source": [
        "## 3. Construir el modelo lineal en Keras"
      ]
    },
    {
      "cell_type": "code",
      "metadata": {
        "id": "Qq-tYXwmrALA"
      },
      "source": [
        "# Contenedor vacío\n",
        "modelo = Sequential()"
      ],
      "execution_count": null,
      "outputs": []
    },
    {
      "cell_type": "code",
      "metadata": {
        "id": "iJk58yzxrHYY"
      },
      "source": [
        "# Comenzar a llenar el modelo ('add')\n",
        "modelo.add(Dense(1, activation='linear', input_shape=((1,))))"
      ],
      "execution_count": null,
      "outputs": []
    },
    {
      "cell_type": "code",
      "metadata": {
        "id": "l7w4aH9Atjh-",
        "colab": {
          "base_uri": "https://localhost:8080/"
        },
        "outputId": "50a5a4d8-7a4c-465e-f082-48fde22795ef"
      },
      "source": [
        "# Información del modelo y = wx + b\n",
        "modelo.summary()"
      ],
      "execution_count": null,
      "outputs": [
        {
          "output_type": "stream",
          "text": [
            "Model: \"sequential_3\"\n",
            "_________________________________________________________________\n",
            "Layer (type)                 Output Shape              Param #   \n",
            "=================================================================\n",
            "dense_3 (Dense)              (None, 1)                 2         \n",
            "=================================================================\n",
            "Total params: 2\n",
            "Trainable params: 2\n",
            "Non-trainable params: 0\n",
            "_________________________________________________________________\n"
          ],
          "name": "stdout"
        }
      ]
    },
    {
      "cell_type": "markdown",
      "metadata": {
        "id": "0-Qtn32GVyIB"
      },
      "source": [
        "## 4. Optimizador (Gradiente Descendente Estocástico) y pérdida"
      ]
    },
    {
      "cell_type": "code",
      "metadata": {
        "id": "of3k_K85V0m8"
      },
      "source": [
        "lr = 0.00001\n",
        "optimizador = SGD(learning_rate=lr)\n",
        "modelo.compile(optimizer=optimizador, loss='mse')"
      ],
      "execution_count": null,
      "outputs": []
    },
    {
      "cell_type": "markdown",
      "metadata": {
        "id": "JzpZUVhFdRx9"
      },
      "source": [
        "## 5. Entrenamiento y predicción"
      ]
    },
    {
      "cell_type": "code",
      "metadata": {
        "id": "CAgQlPIYd54K",
        "colab": {
          "base_uri": "https://localhost:8080/"
        },
        "outputId": "fde41fd1-b6d0-4de0-f414-11fc3c956a97"
      },
      "source": [
        "n_epochs = 20\n",
        "s_minibatches = 10 # Probar con diferentes batch_sizes\n",
        "historia = modelo.fit(x,y,epochs=n_epochs,batch_size=s_minibatches,verbose=1)"
      ],
      "execution_count": null,
      "outputs": [
        {
          "output_type": "stream",
          "text": [
            "Epoch 1/20\n",
            "10/10 [==============================] - 0s 1ms/step - loss: 793056640.0000\n",
            "Epoch 2/20\n",
            "10/10 [==============================] - 0s 2ms/step - loss: 88015680.0000\n",
            "Epoch 3/20\n",
            "10/10 [==============================] - 0s 2ms/step - loss: 90311944.0000\n",
            "Epoch 4/20\n",
            "10/10 [==============================] - 0s 2ms/step - loss: 90005792.0000\n",
            "Epoch 5/20\n",
            "10/10 [==============================] - 0s 2ms/step - loss: 87927200.0000\n",
            "Epoch 6/20\n",
            "10/10 [==============================] - 0s 2ms/step - loss: 92732120.0000\n",
            "Epoch 7/20\n",
            "10/10 [==============================] - 0s 2ms/step - loss: 88902216.0000\n",
            "Epoch 8/20\n",
            "10/10 [==============================] - 0s 2ms/step - loss: 88999984.0000\n",
            "Epoch 9/20\n",
            "10/10 [==============================] - 0s 1ms/step - loss: 88838648.0000\n",
            "Epoch 10/20\n",
            "10/10 [==============================] - 0s 2ms/step - loss: 90567272.0000\n",
            "Epoch 11/20\n",
            "10/10 [==============================] - 0s 2ms/step - loss: 88884088.0000\n",
            "Epoch 12/20\n",
            "10/10 [==============================] - 0s 2ms/step - loss: 93994104.0000\n",
            "Epoch 13/20\n",
            "10/10 [==============================] - 0s 1ms/step - loss: 94883040.0000\n",
            "Epoch 14/20\n",
            "10/10 [==============================] - 0s 2ms/step - loss: 90176928.0000\n",
            "Epoch 15/20\n",
            "10/10 [==============================] - 0s 2ms/step - loss: 88801432.0000\n",
            "Epoch 16/20\n",
            "10/10 [==============================] - 0s 2ms/step - loss: 91040688.0000\n",
            "Epoch 17/20\n",
            "10/10 [==============================] - 0s 2ms/step - loss: 88557752.0000\n",
            "Epoch 18/20\n",
            "10/10 [==============================] - 0s 2ms/step - loss: 92108248.0000\n",
            "Epoch 19/20\n",
            "10/10 [==============================] - 0s 2ms/step - loss: 92214920.0000\n",
            "Epoch 20/20\n",
            "10/10 [==============================] - 0s 1ms/step - loss: 90080152.0000\n"
          ],
          "name": "stdout"
        }
      ]
    },
    {
      "cell_type": "markdown",
      "metadata": {
        "id": "j1eKT8FSfD_r"
      },
      "source": [
        "### 5.1 Comportamiento del error"
      ]
    },
    {
      "cell_type": "code",
      "metadata": {
        "id": "_o7xvdcRfUUQ",
        "colab": {
          "base_uri": "https://localhost:8080/",
          "height": 295
        },
        "outputId": "fcdd0e63-58f6-41a7-d2c9-e84bad2a9347"
      },
      "source": [
        "plt.plot(historia.history['loss'])"
      ],
      "execution_count": null,
      "outputs": [
        {
          "output_type": "execute_result",
          "data": {
            "text/plain": [
              "[<matplotlib.lines.Line2D at 0x7f10d8111310>]"
            ]
          },
          "metadata": {
            "tags": []
          },
          "execution_count": 36
        },
        {
          "output_type": "display_data",
          "data": {
            "image/png": "[encoded data removed]",
            "text/plain": [
              "<Figure size 432x288 with 1 Axes>"
            ]
          },
          "metadata": {
            "tags": [],
            "needs_background": "light"
          }
        }
      ]
    },
    {
      "cell_type": "markdown",
      "metadata": {
        "id": "frJiUQMewtgq"
      },
      "source": [
        "### 5.2 Predicción"
      ]
    },
    {
      "cell_type": "code",
      "metadata": {
        "id": "1rWgFXvUf3PY",
        "colab": {
          "base_uri": "https://localhost:8080/",
          "height": 306
        },
        "outputId": "1a894993-c279-44ec-899d-71abc785e2d7"
      },
      "source": [
        "# Dibujar recta resultante\n",
        "x_pred = np.linspace(x.min(),x.max(),x.shape[0])\n",
        "y_pred = modelo.predict(x_pred)\n",
        "\n",
        "plt.scatter(x,y)\n",
        "plt.plot(x_pred,y_pred,'r--')\n",
        "plt.xlabel('$x_1$ (área en $m^2$)')\n",
        "plt.ylabel('y (precio (en U$)')"
      ],
      "execution_count": null,
      "outputs": [
        {
          "output_type": "execute_result",
          "data": {
            "text/plain": [
              "Text(0, 0.5, 'y (precio (en U$)')"
            ]
          },
          "metadata": {
            "tags": []
          },
          "execution_count": 37
        },
        {
          "output_type": "display_data",
          "data": {
            "image/png": "[encoded data removed]",
            "text/plain": [
              "<Figure size 432x288 with 1 Axes>"
            ]
          },
          "metadata": {
            "tags": [],
            "needs_background": "light"
          }
        }
      ]
    },
    {
      "cell_type": "code",
      "metadata": {
        "id": "oRAGhlcjurR6"
      },
      "source": [
        ""
      ],
      "execution_count": null,
      "outputs": []
    }
  ]
}