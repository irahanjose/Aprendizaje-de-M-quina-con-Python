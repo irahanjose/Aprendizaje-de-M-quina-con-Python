{
  "nbformat": 4,
  "nbformat_minor": 0,
  "metadata": {
    "colab": {
      "name": "regresion_logistica_neurona_artificial_keras.ipynb",
      "provenance": [],
      "collapsed_sections": [],
      "include_colab_link": true
    },
    "kernelspec": {
      "name": "python3",
      "display_name": "Python 3"
    },
    "language_info": {
      "name": "python"
    }
  },
  "cells": [
    {
      "cell_type": "markdown",
      "metadata": {
        "id": "view-in-github",
        "colab_type": "text"
      },
      "source": [
        "<a href=\"https://colab.research.google.com/github/irahanjose/Aprendizaje-de-M-quina-con-Python/blob/main/regresion_logistica_neurona_artificial_keras.ipynb\" target=\"_parent\"><img src=\"https://colab.research.google.com/assets/colab-badge.svg\" alt=\"Open In Colab\"/></a>"
      ]
    },
    {
      "cell_type": "markdown",
      "metadata": {
        "id": "Vswpx6tLUeO4"
      },
      "source": [
        "# La Neurona Artificial (y la Regresión Logística) en Keras"
      ]
    },
    {
      "cell_type": "markdown",
      "metadata": {
        "id": "KekemDcyUdF3"
      },
      "source": [
        "## 1. Configuración Google Drive"
      ]
    },
    {
      "cell_type": "code",
      "metadata": {
        "id": "7vdb-PLiU0oS",
        "colab": {
          "base_uri": "https://localhost:8080/"
        },
        "outputId": "cb2d56ca-296e-49ef-e1c0-b9694e918896"
      },
      "source": [
        "from google.colab import drive\n",
        "drive.mount('/gdrive')"
      ],
      "execution_count": null,
      "outputs": [
        {
          "output_type": "stream",
          "text": [
            "Drive already mounted at /gdrive; to attempt to forcibly remount, call drive.mount(\"/gdrive\", force_remount=True).\n"
          ],
          "name": "stdout"
        }
      ]
    },
    {
      "cell_type": "code",
      "metadata": {
        "id": "8pgsYo3FU0oU"
      },
      "source": [
        "ruta = '/gdrive/MyDrive/Colab Notebooks/01_2021-07-FundamentosDL/1.10/dataset.csv'"
      ],
      "execution_count": null,
      "outputs": []
    },
    {
      "cell_type": "markdown",
      "metadata": {
        "id": "Relh2SncVM6Q"
      },
      "source": [
        "## 2. Lectura y visualización del set de datos"
      ]
    },
    {
      "cell_type": "code",
      "metadata": {
        "id": "bVrZoXjmVQMp"
      },
      "source": [
        "import pandas as pd\n",
        "import matplotlib.pyplot as plt\n",
        "import numpy as np\n",
        "from tensorflow.keras import Sequential \n",
        "from tensorflow.keras.layers import Dense\n",
        "from tensorflow.keras.optimizers import SGD\n",
        "import tensorflow as tf\n",
        "np.random.seed(50)\n",
        "tf.random.set_seed(25)"
      ],
      "execution_count": null,
      "outputs": []
    },
    {
      "cell_type": "code",
      "metadata": {
        "id": "TzRpfLirVTP5"
      },
      "source": [
        "data = pd.read_csv(ruta)"
      ],
      "execution_count": null,
      "outputs": []
    },
    {
      "cell_type": "code",
      "metadata": {
        "id": "YjpD9XGjVYYZ",
        "colab": {
          "base_uri": "https://localhost:8080/",
          "height": 205
        },
        "outputId": "e7822a69-fb27-4884-e1fb-a535a5f6c3ee"
      },
      "source": [
        "data.head()"
      ],
      "execution_count": null,
      "outputs": [
        {
          "output_type": "execute_result",
          "data": {
            "text/html": [
              "<div>\n",
              "<style scoped>\n",
              "    .dataframe tbody tr th:only-of-type {\n",
              "        vertical-align: middle;\n",
              "    }\n",
              "\n",
              "    .dataframe tbody tr th {\n",
              "        vertical-align: top;\n",
              "    }\n",
              "\n",
              "    .dataframe thead th {\n",
              "        text-align: right;\n",
              "    }\n",
              "</style>\n",
              "<table border=\"1\" class=\"dataframe\">\n",
              "  <thead>\n",
              "    <tr style=\"text-align: right;\">\n",
              "      <th></th>\n",
              "      <th>x1</th>\n",
              "      <th>x2</th>\n",
              "      <th>y</th>\n",
              "    </tr>\n",
              "  </thead>\n",
              "  <tbody>\n",
              "    <tr>\n",
              "      <th>0</th>\n",
              "      <td>1.0</td>\n",
              "      <td>7.0</td>\n",
              "      <td>1</td>\n",
              "    </tr>\n",
              "    <tr>\n",
              "      <th>1</th>\n",
              "      <td>4.0</td>\n",
              "      <td>0.5</td>\n",
              "      <td>0</td>\n",
              "    </tr>\n",
              "    <tr>\n",
              "      <th>2</th>\n",
              "      <td>6.0</td>\n",
              "      <td>3.0</td>\n",
              "      <td>1</td>\n",
              "    </tr>\n",
              "    <tr>\n",
              "      <th>3</th>\n",
              "      <td>1.0</td>\n",
              "      <td>4.0</td>\n",
              "      <td>0</td>\n",
              "    </tr>\n",
              "    <tr>\n",
              "      <th>4</th>\n",
              "      <td>3.0</td>\n",
              "      <td>4.5</td>\n",
              "      <td>1</td>\n",
              "    </tr>\n",
              "  </tbody>\n",
              "</table>\n",
              "</div>"
            ],
            "text/plain": [
              "    x1   x2  y\n",
              "0  1.0  7.0  1\n",
              "1  4.0  0.5  0\n",
              "2  6.0  3.0  1\n",
              "3  1.0  4.0  0\n",
              "4  3.0  4.5  1"
            ]
          },
          "metadata": {
            "tags": []
          },
          "execution_count": 5
        }
      ]
    },
    {
      "cell_type": "code",
      "metadata": {
        "id": "J4_PtVuBVZXR",
        "colab": {
          "base_uri": "https://localhost:8080/"
        },
        "outputId": "f33f32c2-b23e-46db-8443-511e99b3dfb4"
      },
      "source": [
        "data.shape"
      ],
      "execution_count": null,
      "outputs": [
        {
          "output_type": "execute_result",
          "data": {
            "text/plain": [
              "(14, 3)"
            ]
          },
          "metadata": {
            "tags": []
          },
          "execution_count": 6
        }
      ]
    },
    {
      "cell_type": "code",
      "metadata": {
        "id": "jFrErFrRVajp",
        "colab": {
          "base_uri": "https://localhost:8080/"
        },
        "outputId": "f4377b8d-b2d9-4b62-83c4-e6badf0ba293"
      },
      "source": [
        "X = data[['x1','x2']].to_numpy()\n",
        "X.shape"
      ],
      "execution_count": null,
      "outputs": [
        {
          "output_type": "execute_result",
          "data": {
            "text/plain": [
              "(14, 2)"
            ]
          },
          "metadata": {
            "tags": []
          },
          "execution_count": 7
        }
      ]
    },
    {
      "cell_type": "code",
      "metadata": {
        "id": "m5VEGFIkSXRv",
        "colab": {
          "base_uri": "https://localhost:8080/"
        },
        "outputId": "3629f285-5545-41d7-d435-6c5487d0cb3a"
      },
      "source": [
        "y = data[['y']].to_numpy()\n",
        "y.shape\n",
        "print(y)"
      ],
      "execution_count": null,
      "outputs": [
        {
          "output_type": "stream",
          "text": [
            "[[1]\n",
            " [0]\n",
            " [1]\n",
            " [0]\n",
            " [1]\n",
            " [1]\n",
            " [0]\n",
            " [1]\n",
            " [1]\n",
            " [0]\n",
            " [0]\n",
            " [1]\n",
            " [1]\n",
            " [0]]\n"
          ],
          "name": "stdout"
        }
      ]
    },
    {
      "cell_type": "code",
      "metadata": {
        "id": "v5S_D28PVfhA",
        "colab": {
          "base_uri": "https://localhost:8080/",
          "height": 301
        },
        "outputId": "af41db30-a6db-40ab-ee3d-84678ed9783e"
      },
      "source": [
        "idx0 = np.where(y==0) # Puntaje examen bajo\n",
        "idx1 = np.where(y==1) # Puntaje examen alto\n",
        "\n",
        "plt.scatter(X[idx0,0],X[idx0,1],color='red',label='Puntaje examen bajo: 0')\n",
        "plt.scatter(X[idx1,0],X[idx1,1],color='gray',label='Puntaje examen alto: 1')\n",
        "plt.xlabel('$x_1$ (horas de sueño)')\n",
        "plt.ylabel('$x_2$ (horas de estudio)')\n",
        "plt.legend(bbox_to_anchor=(1.0,1.0),fontsize=8,edgecolor='black')"
      ],
      "execution_count": null,
      "outputs": [
        {
          "output_type": "execute_result",
          "data": {
            "text/plain": [
              "<matplotlib.legend.Legend at 0x7fd7d0578cd0>"
            ]
          },
          "metadata": {
            "tags": []
          },
          "execution_count": 10
        },
        {
          "output_type": "display_data",
          "data": {
            "image/png": "[encoded data removed]",
            "text/plain": [
              "<Figure size 432x288 with 1 Axes>"
            ]
          },
          "metadata": {
            "tags": [],
            "needs_background": "light"
          }
        }
      ]
    },
    {
      "cell_type": "markdown",
      "metadata": {
        "id": "MWRfTBchVqLI"
      },
      "source": [
        "## 3. Crear la Neurona Artificial (modelo de Regresión Logística/Clasificación binaria) en Keras"
      ]
    },
    {
      "cell_type": "code",
      "metadata": {
        "id": "Qq-tYXwmrALA"
      },
      "source": [
        "# Contenedor vacío\n",
        "modelo = Sequential()"
      ],
      "execution_count": null,
      "outputs": []
    },
    {
      "cell_type": "code",
      "metadata": {
        "id": "iJk58yzxrHYY"
      },
      "source": [
        "# Parámetros de entrada del modelo\n",
        "dim_entrada = X.shape[1]    # Cada ejemplo de entrenamiento tendrá 2 características (x1,x2)\n",
        "dim_salida = 1              # El dato de salida será un escalar (probabilidad)\n",
        "\n",
        "# Comenzar a llenar el modelo ('add')\n",
        "modelo.add(Dense(dim_salida, input_dim = dim_entrada, activation='sigmoid'))\n",
        "# ¡Y listo, ya tenemos la neurona!"
      ],
      "execution_count": null,
      "outputs": []
    },
    {
      "cell_type": "code",
      "metadata": {
        "id": "l7w4aH9Atjh-",
        "colab": {
          "base_uri": "https://localhost:8080/"
        },
        "outputId": "5bc93fe0-bc76-41a8-ffc7-9d2746d9a922"
      },
      "source": [
        "# Información del modelo: w1x1 + w2x2 + b\n",
        "modelo.summary()"
      ],
      "execution_count": null,
      "outputs": [
        {
          "output_type": "stream",
          "text": [
            "Model: \"sequential\"\n",
            "_________________________________________________________________\n",
            "Layer (type)                 Output Shape              Param #   \n",
            "=================================================================\n",
            "dense (Dense)                (None, 1)                 3         \n",
            "=================================================================\n",
            "Total params: 3\n",
            "Trainable params: 3\n",
            "Non-trainable params: 0\n",
            "_________________________________________________________________\n"
          ],
          "name": "stdout"
        }
      ]
    },
    {
      "cell_type": "markdown",
      "metadata": {
        "id": "0-Qtn32GVyIB"
      },
      "source": [
        "## 4. Optimizador (Gradiente Descendente Estocástico) y pérdida"
      ]
    },
    {
      "cell_type": "code",
      "metadata": {
        "id": "of3k_K85V0m8"
      },
      "source": [
        "# Optimización: se usará gradiente descendente (SGD) con lr=0.2, función de error entropía\n",
        "# cruzada (binary_crossentropy), métrica para el desempeño: accuracy (precisión)\n",
        "\n",
        "optimizador = SGD(learning_rate=0.4)\n",
        "modelo.compile(loss='binary_crossentropy', optimizer=optimizador, metrics=['accuracy'])"
      ],
      "execution_count": null,
      "outputs": []
    },
    {
      "cell_type": "markdown",
      "metadata": {
        "id": "JzpZUVhFdRx9"
      },
      "source": [
        "## 5. Entrenamiento y predicción"
      ]
    },
    {
      "cell_type": "code",
      "metadata": {
        "id": "CAgQlPIYd54K",
        "colab": {
          "base_uri": "https://localhost:8080/"
        },
        "outputId": "ffb074aa-ad54-4e0b-9b1a-f4130486aee7"
      },
      "source": [
        "n_epochs = 100\n",
        "s_minibatches = X.shape[0]  # Cada batch será del mismo tamaño del set de entrenamiento\n",
        "historia = modelo.fit(X,y,epochs=n_epochs,batch_size=s_minibatches,verbose=1)"
      ],
      "execution_count": null,
      "outputs": [
        {
          "output_type": "stream",
          "text": [
            "Epoch 1/100\n",
            "1/1 [==============================] - 0s 297ms/step - loss: 4.4241 - accuracy: 0.4286\n",
            "Epoch 2/100\n",
            "1/1 [==============================] - 0s 7ms/step - loss: 0.7827 - accuracy: 0.5714\n",
            "Epoch 3/100\n",
            "1/1 [==============================] - 0s 7ms/step - loss: 0.6893 - accuracy: 0.5714\n",
            "Epoch 4/100\n",
            "1/1 [==============================] - 0s 5ms/step - loss: 0.6484 - accuracy: 0.5714\n",
            "Epoch 5/100\n",
            "1/1 [==============================] - 0s 5ms/step - loss: 0.6321 - accuracy: 0.6429\n",
            "Epoch 6/100\n",
            "1/1 [==============================] - 0s 4ms/step - loss: 0.6437 - accuracy: 0.5714\n",
            "Epoch 7/100\n",
            "1/1 [==============================] - 0s 3ms/step - loss: 0.6420 - accuracy: 0.7143\n",
            "Epoch 8/100\n",
            "1/1 [==============================] - 0s 6ms/step - loss: 0.6980 - accuracy: 0.5714\n",
            "Epoch 9/100\n",
            "1/1 [==============================] - 0s 16ms/step - loss: 0.6498 - accuracy: 0.7143\n",
            "Epoch 10/100\n",
            "1/1 [==============================] - 0s 5ms/step - loss: 0.7296 - accuracy: 0.5714\n",
            "Epoch 11/100\n",
            "1/1 [==============================] - 0s 5ms/step - loss: 0.6316 - accuracy: 0.7143\n",
            "Epoch 12/100\n",
            "1/1 [==============================] - 0s 5ms/step - loss: 0.7019 - accuracy: 0.5714\n",
            "Epoch 13/100\n",
            "1/1 [==============================] - 0s 6ms/step - loss: 0.6186 - accuracy: 0.7143\n",
            "Epoch 14/100\n",
            "1/1 [==============================] - 0s 3ms/step - loss: 0.6849 - accuracy: 0.5714\n",
            "Epoch 15/100\n",
            "1/1 [==============================] - 0s 3ms/step - loss: 0.6047 - accuracy: 0.7857\n",
            "Epoch 16/100\n",
            "1/1 [==============================] - 0s 7ms/step - loss: 0.6654 - accuracy: 0.5714\n",
            "Epoch 17/100\n",
            "1/1 [==============================] - 0s 4ms/step - loss: 0.5915 - accuracy: 0.7857\n",
            "Epoch 18/100\n",
            "1/1 [==============================] - 0s 4ms/step - loss: 0.6468 - accuracy: 0.5714\n",
            "Epoch 19/100\n",
            "1/1 [==============================] - 0s 7ms/step - loss: 0.5786 - accuracy: 0.7857\n",
            "Epoch 20/100\n",
            "1/1 [==============================] - 0s 5ms/step - loss: 0.6286 - accuracy: 0.5714\n",
            "Epoch 21/100\n",
            "1/1 [==============================] - 0s 4ms/step - loss: 0.5660 - accuracy: 0.7857\n",
            "Epoch 22/100\n",
            "1/1 [==============================] - 0s 4ms/step - loss: 0.6108 - accuracy: 0.5714\n",
            "Epoch 23/100\n",
            "1/1 [==============================] - 0s 11ms/step - loss: 0.5537 - accuracy: 0.8571\n",
            "Epoch 24/100\n",
            "1/1 [==============================] - 0s 8ms/step - loss: 0.5934 - accuracy: 0.5714\n",
            "Epoch 25/100\n",
            "1/1 [==============================] - 0s 4ms/step - loss: 0.5418 - accuracy: 0.8571\n",
            "Epoch 26/100\n",
            "1/1 [==============================] - 0s 7ms/step - loss: 0.5766 - accuracy: 0.5714\n",
            "Epoch 27/100\n",
            "1/1 [==============================] - 0s 4ms/step - loss: 0.5301 - accuracy: 0.8571\n",
            "Epoch 28/100\n",
            "1/1 [==============================] - 0s 4ms/step - loss: 0.5602 - accuracy: 0.5714\n",
            "Epoch 29/100\n",
            "1/1 [==============================] - 0s 8ms/step - loss: 0.5187 - accuracy: 0.8571\n",
            "Epoch 30/100\n",
            "1/1 [==============================] - 0s 5ms/step - loss: 0.5444 - accuracy: 0.6429\n",
            "Epoch 31/100\n",
            "1/1 [==============================] - 0s 6ms/step - loss: 0.5076 - accuracy: 0.9286\n",
            "Epoch 32/100\n",
            "1/1 [==============================] - 0s 7ms/step - loss: 0.5291 - accuracy: 0.6429\n",
            "Epoch 33/100\n",
            "1/1 [==============================] - 0s 5ms/step - loss: 0.4967 - accuracy: 0.9286\n",
            "Epoch 34/100\n",
            "1/1 [==============================] - 0s 7ms/step - loss: 0.5143 - accuracy: 0.6429\n",
            "Epoch 35/100\n",
            "1/1 [==============================] - 0s 5ms/step - loss: 0.4861 - accuracy: 0.9286\n",
            "Epoch 36/100\n",
            "1/1 [==============================] - 0s 7ms/step - loss: 0.5001 - accuracy: 0.6429\n",
            "Epoch 37/100\n",
            "1/1 [==============================] - 0s 5ms/step - loss: 0.4758 - accuracy: 0.9286\n",
            "Epoch 38/100\n",
            "1/1 [==============================] - 0s 5ms/step - loss: 0.4866 - accuracy: 0.6429\n",
            "Epoch 39/100\n",
            "1/1 [==============================] - 0s 5ms/step - loss: 0.4658 - accuracy: 0.9286\n",
            "Epoch 40/100\n",
            "1/1 [==============================] - 0s 6ms/step - loss: 0.4736 - accuracy: 0.6429\n",
            "Epoch 41/100\n",
            "1/1 [==============================] - 0s 8ms/step - loss: 0.4561 - accuracy: 0.9286\n",
            "Epoch 42/100\n",
            "1/1 [==============================] - 0s 7ms/step - loss: 0.4614 - accuracy: 0.6429\n",
            "Epoch 43/100\n",
            "1/1 [==============================] - 0s 6ms/step - loss: 0.4466 - accuracy: 0.9286\n",
            "Epoch 44/100\n",
            "1/1 [==============================] - 0s 12ms/step - loss: 0.4498 - accuracy: 0.7143\n",
            "Epoch 45/100\n",
            "1/1 [==============================] - 0s 9ms/step - loss: 0.4376 - accuracy: 0.9286\n",
            "Epoch 46/100\n",
            "1/1 [==============================] - 0s 12ms/step - loss: 0.4390 - accuracy: 0.7143\n",
            "Epoch 47/100\n",
            "1/1 [==============================] - 0s 8ms/step - loss: 0.4289 - accuracy: 0.9286\n",
            "Epoch 48/100\n",
            "1/1 [==============================] - 0s 8ms/step - loss: 0.4289 - accuracy: 0.7143\n",
            "Epoch 49/100\n",
            "1/1 [==============================] - 0s 15ms/step - loss: 0.4206 - accuracy: 0.9286\n",
            "Epoch 50/100\n",
            "1/1 [==============================] - 0s 6ms/step - loss: 0.4195 - accuracy: 0.7143\n",
            "Epoch 51/100\n",
            "1/1 [==============================] - 0s 5ms/step - loss: 0.4128 - accuracy: 0.9286\n",
            "Epoch 52/100\n",
            "1/1 [==============================] - 0s 7ms/step - loss: 0.4109 - accuracy: 0.7143\n",
            "Epoch 53/100\n",
            "1/1 [==============================] - 0s 5ms/step - loss: 0.4054 - accuracy: 0.9286\n",
            "Epoch 54/100\n",
            "1/1 [==============================] - 0s 6ms/step - loss: 0.4031 - accuracy: 0.7143\n",
            "Epoch 55/100\n",
            "1/1 [==============================] - 0s 7ms/step - loss: 0.3986 - accuracy: 0.9286\n",
            "Epoch 56/100\n",
            "1/1 [==============================] - 0s 7ms/step - loss: 0.3960 - accuracy: 0.7857\n",
            "Epoch 57/100\n",
            "1/1 [==============================] - 0s 7ms/step - loss: 0.3922 - accuracy: 0.9286\n",
            "Epoch 58/100\n",
            "1/1 [==============================] - 0s 17ms/step - loss: 0.3895 - accuracy: 0.7857\n",
            "Epoch 59/100\n",
            "1/1 [==============================] - 0s 6ms/step - loss: 0.3863 - accuracy: 0.9286\n",
            "Epoch 60/100\n",
            "1/1 [==============================] - 0s 6ms/step - loss: 0.3837 - accuracy: 0.7857\n",
            "Epoch 61/100\n",
            "1/1 [==============================] - 0s 6ms/step - loss: 0.3808 - accuracy: 0.9286\n",
            "Epoch 62/100\n",
            "1/1 [==============================] - 0s 6ms/step - loss: 0.3783 - accuracy: 0.7857\n",
            "Epoch 63/100\n",
            "1/1 [==============================] - 0s 7ms/step - loss: 0.3756 - accuracy: 0.9286\n",
            "Epoch 64/100\n",
            "1/1 [==============================] - 0s 10ms/step - loss: 0.3733 - accuracy: 0.8571\n",
            "Epoch 65/100\n",
            "1/1 [==============================] - 0s 5ms/step - loss: 0.3708 - accuracy: 0.9286\n",
            "Epoch 66/100\n",
            "1/1 [==============================] - 0s 6ms/step - loss: 0.3686 - accuracy: 0.8571\n",
            "Epoch 67/100\n",
            "1/1 [==============================] - 0s 7ms/step - loss: 0.3663 - accuracy: 0.9286\n",
            "Epoch 68/100\n",
            "1/1 [==============================] - 0s 8ms/step - loss: 0.3641 - accuracy: 0.8571\n",
            "Epoch 69/100\n",
            "1/1 [==============================] - 0s 7ms/step - loss: 0.3619 - accuracy: 0.9286\n",
            "Epoch 70/100\n",
            "1/1 [==============================] - 0s 4ms/step - loss: 0.3598 - accuracy: 0.9286\n",
            "Epoch 71/100\n",
            "1/1 [==============================] - 0s 7ms/step - loss: 0.3578 - accuracy: 0.9286\n",
            "Epoch 72/100\n",
            "1/1 [==============================] - 0s 5ms/step - loss: 0.3557 - accuracy: 0.9286\n",
            "Epoch 73/100\n",
            "1/1 [==============================] - 0s 5ms/step - loss: 0.3537 - accuracy: 0.9286\n",
            "Epoch 74/100\n",
            "1/1 [==============================] - 0s 9ms/step - loss: 0.3517 - accuracy: 0.9286\n",
            "Epoch 75/100\n",
            "1/1 [==============================] - 0s 4ms/step - loss: 0.3498 - accuracy: 0.9286\n",
            "Epoch 76/100\n",
            "1/1 [==============================] - 0s 7ms/step - loss: 0.3478 - accuracy: 0.9286\n",
            "Epoch 77/100\n",
            "1/1 [==============================] - 0s 6ms/step - loss: 0.3459 - accuracy: 0.9286\n",
            "Epoch 78/100\n",
            "1/1 [==============================] - 0s 7ms/step - loss: 0.3441 - accuracy: 0.9286\n",
            "Epoch 79/100\n",
            "1/1 [==============================] - 0s 7ms/step - loss: 0.3422 - accuracy: 0.9286\n",
            "Epoch 80/100\n",
            "1/1 [==============================] - 0s 6ms/step - loss: 0.3404 - accuracy: 0.9286\n",
            "Epoch 81/100\n",
            "1/1 [==============================] - 0s 5ms/step - loss: 0.3386 - accuracy: 0.9286\n",
            "Epoch 82/100\n",
            "1/1 [==============================] - 0s 7ms/step - loss: 0.3368 - accuracy: 0.9286\n",
            "Epoch 83/100\n",
            "1/1 [==============================] - 0s 8ms/step - loss: 0.3350 - accuracy: 0.9286\n",
            "Epoch 84/100\n",
            "1/1 [==============================] - 0s 6ms/step - loss: 0.3333 - accuracy: 0.9286\n",
            "Epoch 85/100\n",
            "1/1 [==============================] - 0s 7ms/step - loss: 0.3315 - accuracy: 0.9286\n",
            "Epoch 86/100\n",
            "1/1 [==============================] - 0s 4ms/step - loss: 0.3298 - accuracy: 0.9286\n",
            "Epoch 87/100\n",
            "1/1 [==============================] - 0s 9ms/step - loss: 0.3281 - accuracy: 0.9286\n",
            "Epoch 88/100\n",
            "1/1 [==============================] - 0s 4ms/step - loss: 0.3265 - accuracy: 0.9286\n",
            "Epoch 89/100\n",
            "1/1 [==============================] - 0s 4ms/step - loss: 0.3248 - accuracy: 0.9286\n",
            "Epoch 90/100\n",
            "1/1 [==============================] - 0s 5ms/step - loss: 0.3232 - accuracy: 0.9286\n",
            "Epoch 91/100\n",
            "1/1 [==============================] - 0s 6ms/step - loss: 0.3216 - accuracy: 0.9286\n",
            "Epoch 92/100\n",
            "1/1 [==============================] - 0s 7ms/step - loss: 0.3200 - accuracy: 0.9286\n",
            "Epoch 93/100\n",
            "1/1 [==============================] - 0s 7ms/step - loss: 0.3184 - accuracy: 0.9286\n",
            "Epoch 94/100\n",
            "1/1 [==============================] - 0s 5ms/step - loss: 0.3168 - accuracy: 0.9286\n",
            "Epoch 95/100\n",
            "1/1 [==============================] - 0s 5ms/step - loss: 0.3153 - accuracy: 0.9286\n",
            "Epoch 96/100\n",
            "1/1 [==============================] - 0s 5ms/step - loss: 0.3138 - accuracy: 0.9286\n",
            "Epoch 97/100\n",
            "1/1 [==============================] - 0s 9ms/step - loss: 0.3123 - accuracy: 0.9286\n",
            "Epoch 98/100\n",
            "1/1 [==============================] - 0s 24ms/step - loss: 0.3108 - accuracy: 0.9286\n",
            "Epoch 99/100\n",
            "1/1 [==============================] - 0s 17ms/step - loss: 0.3093 - accuracy: 1.0000\n",
            "Epoch 100/100\n",
            "1/1 [==============================] - 0s 8ms/step - loss: 0.3078 - accuracy: 1.0000\n"
          ],
          "name": "stdout"
        }
      ]
    },
    {
      "cell_type": "markdown",
      "metadata": {
        "id": "j1eKT8FSfD_r"
      },
      "source": [
        "### 5.1 Comportamiento del error"
      ]
    },
    {
      "cell_type": "code",
      "metadata": {
        "id": "_o7xvdcRfUUQ",
        "colab": {
          "base_uri": "https://localhost:8080/",
          "height": 265
        },
        "outputId": "7b575d18-4825-4389-d218-d747c183f4ad"
      },
      "source": [
        "plt.plot(historia.history['loss']);"
      ],
      "execution_count": null,
      "outputs": [
        {
          "output_type": "display_data",
          "data": {
            "image/png": "[encoded data removed]",
            "text/plain": [
              "<Figure size 432x288 with 1 Axes>"
            ]
          },
          "metadata": {
            "tags": [],
            "needs_background": "light"
          }
        }
      ]
    },
    {
      "cell_type": "code",
      "metadata": {
        "colab": {
          "base_uri": "https://localhost:8080/",
          "height": 265
        },
        "id": "1pB25H1pDg6C",
        "outputId": "3d242874-a8a8-4dc3-97f3-a9d763bc34cf"
      },
      "source": [
        "plt.plot(historia.history['accuracy']);"
      ],
      "execution_count": null,
      "outputs": [
        {
          "output_type": "display_data",
          "data": {
            "image/png": "[encoded data removed]",
            "text/plain": [
              "<Figure size 432x288 with 1 Axes>"
            ]
          },
          "metadata": {
            "tags": [],
            "needs_background": "light"
          }
        }
      ]
    },
    {
      "cell_type": "markdown",
      "metadata": {
        "id": "frJiUQMewtgq"
      },
      "source": [
        "### 5.2 Predicción"
      ]
    },
    {
      "cell_type": "code",
      "metadata": {
        "id": "1rWgFXvUf3PY",
        "colab": {
          "base_uri": "https://localhost:8080/",
          "height": 283
        },
        "outputId": "98cfa0b8-0380-485b-aa0b-7608743d68e9"
      },
      "source": [
        "def dibujar_frontera(X,Y,modelo):\n",
        "    # Valor mínimo y máximo y rellenado con ceros\n",
        "    x_min, x_max = X[:, 0].min() - .5, X[:, 0].max() + .5\n",
        "    y_min, y_max = X[:, 1].min() - .5, X[:, 1].max() + .5\n",
        "    h = 0.01\n",
        "\n",
        "    # Grilla de puntos\n",
        "    xx, yy = np.meshgrid(np.arange(x_min, x_max, h), np.arange(y_min, y_max, h))\n",
        "\n",
        "    # Predecir categorías para cada punto en la grilla \n",
        "    probabilidades = modelo.predict(np.c_[xx.ravel(), yy.ravel()])\n",
        "\n",
        "    umbral = 0.5\n",
        "    Z = np.where(probabilidades > umbral, 1, 0)\n",
        "    #Z = modelo.predict_classes(np.c_[xx.ravel(), yy.ravel()])\n",
        "    Z = Z.reshape(xx.shape)\n",
        "\n",
        "    fig = plt.figure()\n",
        "    plt.contourf(xx, yy, Z, cmap=plt.cm.Set1, alpha=0.8)\n",
        "\n",
        "    idx0 = np.where(Y==0)\n",
        "    idx1 = np.where(Y==1)\n",
        "    plt.scatter(X[idx0,0],X[idx0,1],color='red', edgecolor='k', label='Puntaje examen bajo: 0')\n",
        "    plt.scatter(X[idx1,0],X[idx1,1],color='gray',edgecolor='k', label='Puntaje examen alto: 1')\n",
        "    plt.legend(bbox_to_anchor=(1.0,1.0),fontsize=8,edgecolor='black')\n",
        "\n",
        "    plt.xlim(xx.min(), xx.max())\n",
        "    plt.ylim(yy.min(), yy.max())\n",
        "\n",
        "    plt.xlabel('$x_1$ (horas sueño)')\n",
        "    plt.ylabel('$x_2$ (horas estudio)')\n",
        "\n",
        "dibujar_frontera(X,y,modelo)"
      ],
      "execution_count": null,
      "outputs": [
        {
          "output_type": "display_data",
          "data": {
            "image/png": "[encoded data removed]",
            "text/plain": [
              "<Figure size 432x288 with 1 Axes>"
            ]
          },
          "metadata": {
            "tags": [],
            "needs_background": "light"
          }
        }
      ]
    },
    {
      "cell_type": "code",
      "metadata": {
        "id": "_dNhc8mMAZco"
      },
      "source": [
        ""
      ],
      "execution_count": null,
      "outputs": []
    }
  ]
}