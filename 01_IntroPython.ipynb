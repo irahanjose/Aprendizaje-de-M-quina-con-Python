{
  "nbformat": 4,
  "nbformat_minor": 5,
  "metadata": {
    "kernelspec": {
      "display_name": "Python 3",
      "language": "python",
      "name": "python3"
    },
    "language_info": {
      "codemirror_mode": {
        "name": "ipython",
        "version": 3
      },
      "file_extension": ".py",
      "mimetype": "text/x-python",
      "name": "python",
      "nbconvert_exporter": "python",
      "pygments_lexer": "ipython3",
      "version": "3.8.5"
    },
    "colab": {
      "name": "01-IntroPython.ipynb",
      "provenance": [],
      "collapsed_sections": [],
      "include_colab_link": true
    }
  },
  "cells": [
    {
      "cell_type": "markdown",
      "metadata": {
        "id": "view-in-github",
        "colab_type": "text"
      },
      "source": [
        "<a href=\"https://colab.research.google.com/github/irahanjose/Aprendizaje-de-M-quina-con-Python/blob/main/01_IntroPython.ipynb\" target=\"_parent\"><img src=\"https://colab.research.google.com/assets/colab-badge.svg\" alt=\"Open In Colab\"/></a>"
      ]
    },
    {
      "cell_type": "markdown",
      "metadata": {
        "id": "international-output"
      },
      "source": [
        "# Lo esencial de Python para Deep Learning"
      ],
      "id": "international-output"
    },
    {
      "cell_type": "markdown",
      "metadata": {
        "heading_collapsed": true,
        "id": "9bbdda62"
      },
      "source": [
        "## 1. Listas"
      ],
      "id": "9bbdda62"
    },
    {
      "cell_type": "code",
      "metadata": {
        "code_folding": [],
        "hidden": true,
        "id": "1fc9a212",
        "colab": {
          "base_uri": "https://localhost:8080/"
        },
        "outputId": "01ef20b9-c564-4a73-8af3-403c40fa46a0"
      },
      "source": [
        "# Una lista simple puede contener cualquier tipo de dato\n",
        "lista_numerica = [0.5, 1, 3, 27]\n",
        "print(lista_numerica)\n",
        "\n",
        "lista_strings = ['uno', 'trece', 'nueve']\n",
        "print(lista_strings)"
      ],
      "id": "1fc9a212",
      "execution_count": null,
      "outputs": [
        {
          "output_type": "stream",
          "text": [
            "[0.5, 1, 3, 27]\n",
            "['uno', 'trece', 'nueve']\n"
          ],
          "name": "stdout"
        }
      ]
    },
    {
      "cell_type": "code",
      "metadata": {
        "hidden": true,
        "id": "lightweight-barrel",
        "colab": {
          "base_uri": "https://localhost:8080/"
        },
        "outputId": "00df912f-d0e3-49c5-fa0a-7fcbdea41dd1"
      },
      "source": [
        "# Se puede crear una lista automáticamente usando la función range\n",
        "\n",
        "# Forma NO recomendada\n",
        "lista = []\n",
        "for i in range(0,20):\n",
        "  lista.append(i**2)\n",
        "print(lista)\n",
        "\n",
        "# Forma recomendada (Pythonica)\n",
        "lista = [i**2 for i in range(0,20)]\n",
        "print(lista)\n",
        "\n",
        "len(lista)"
      ],
      "id": "lightweight-barrel",
      "execution_count": null,
      "outputs": [
        {
          "output_type": "stream",
          "text": [
            "[0, 1, 4, 9, 16, 25, 36, 49, 64, 81, 100, 121, 144, 169, 196, 225, 256, 289, 324, 361]\n",
            "[0, 1, 4, 9, 16, 25, 36, 49, 64, 81, 100, 121, 144, 169, 196, 225, 256, 289, 324, 361]\n"
          ],
          "name": "stdout"
        },
        {
          "output_type": "execute_result",
          "data": {
            "text/plain": [
              "20"
            ]
          },
          "metadata": {
            "tags": []
          },
          "execution_count": 10
        }
      ]
    },
    {
      "cell_type": "markdown",
      "metadata": {
        "heading_collapsed": true,
        "id": "postal-italian"
      },
      "source": [
        "## 2. Indexación y slicing"
      ],
      "id": "postal-italian"
    },
    {
      "cell_type": "code",
      "metadata": {
        "hidden": true,
        "id": "electric-arbor",
        "colab": {
          "base_uri": "https://localhost:8080/"
        },
        "outputId": "88fef32c-9c93-48eb-affb-e3ac175e36c4"
      },
      "source": [
        "# El primer elemento se indexa con la posición 0\n",
        "print(lista_numerica[0])\n",
        "print(lista_strings[0])\n",
        "print(lista[0])"
      ],
      "id": "electric-arbor",
      "execution_count": null,
      "outputs": [
        {
          "output_type": "stream",
          "text": [
            "0.5\n",
            "uno\n",
            "0\n"
          ],
          "name": "stdout"
        }
      ]
    },
    {
      "cell_type": "code",
      "metadata": {
        "hidden": true,
        "id": "4722af03",
        "colab": {
          "base_uri": "https://localhost:8080/"
        },
        "outputId": "d5f3860d-63d0-42b1-d704-68aac67efbfb"
      },
      "source": [
        "# El último elemento con la posición -1\n",
        "print(lista_numerica[-1])\n",
        "print(lista_strings[-1])\n",
        "print(lista[-1])"
      ],
      "id": "4722af03",
      "execution_count": null,
      "outputs": [
        {
          "output_type": "stream",
          "text": [
            "27\n",
            "nueve\n",
            "361\n"
          ],
          "name": "stdout"
        }
      ]
    },
    {
      "cell_type": "code",
      "metadata": {
        "hidden": true,
        "id": "db2237bc",
        "colab": {
          "base_uri": "https://localhost:8080/"
        },
        "outputId": "1ee4854c-a158-4aca-f1eb-ceec3d3f909a"
      },
      "source": [
        "# Si quiero acceder a varios elementos utilizo :\n",
        "print(lista[0:5]) #Elementos 0, 1, 2, 3, 4 (el 5 no se incluye)\n",
        "print(lista[:5])  #Equivalente a la anterior"
      ],
      "id": "db2237bc",
      "execution_count": null,
      "outputs": [
        {
          "output_type": "stream",
          "text": [
            "[0, 1, 4, 9, 16]\n",
            "[0, 1, 4, 9, 16]\n"
          ],
          "name": "stdout"
        }
      ]
    },
    {
      "cell_type": "code",
      "metadata": {
        "hidden": true,
        "id": "7523dd1c",
        "colab": {
          "base_uri": "https://localhost:8080/"
        },
        "outputId": "253b21f9-d007-4181-e390-2bb5d94963b4"
      },
      "source": [
        "# Si en lugar de los primeros 5 quiero imprimir los ÚLTIMOS 5\n",
        "print(lista[-5:])"
      ],
      "id": "7523dd1c",
      "execution_count": null,
      "outputs": [
        {
          "output_type": "stream",
          "text": [
            "[225, 256, 289, 324, 361]\n"
          ],
          "name": "stdout"
        }
      ]
    },
    {
      "cell_type": "code",
      "metadata": {
        "hidden": true,
        "id": "2d03393c",
        "colab": {
          "base_uri": "https://localhost:8080/"
        },
        "outputId": "e25dd300-624c-4b62-f4fd-9778e381d540"
      },
      "source": [
        "# También puedo definir \"saltos\" mayores a 1. Por ejemplo, imprimir posiciones 0, 2, 4, etc.:\n",
        "print(lista[0::2])"
      ],
      "id": "2d03393c",
      "execution_count": null,
      "outputs": [
        {
          "output_type": "stream",
          "text": [
            "[0, 4, 16, 36, 64, 100, 144, 196, 256, 324]\n"
          ],
          "name": "stdout"
        }
      ]
    },
    {
      "cell_type": "code",
      "metadata": {
        "hidden": true,
        "id": "09255268",
        "colab": {
          "base_uri": "https://localhost:8080/"
        },
        "outputId": "f7ccf181-26ee-40c6-f61b-be0f600f7740"
      },
      "source": [
        "# Y en orden inverso al anterior\n",
        "print(lista[::-2])"
      ],
      "id": "09255268",
      "execution_count": null,
      "outputs": [
        {
          "output_type": "stream",
          "text": [
            "[361, 289, 225, 169, 121, 81, 49, 25, 9, 1]\n"
          ],
          "name": "stdout"
        }
      ]
    },
    {
      "cell_type": "markdown",
      "metadata": {
        "id": "4e21e773"
      },
      "source": [
        "## 3. Funciones\n",
        "\n",
        "Son porciones de código que se usan de manera repetitiva y que pueden ser agrupadas en una \"función\" para evitar copiar y pegar código una y otra vez"
      ],
      "id": "4e21e773"
    },
    {
      "cell_type": "code",
      "metadata": {
        "id": "bceda848"
      },
      "source": [
        "# Ejemplo: crear una función que tome una lista con datos numéricos y calcule el promedio de sus elementos\n",
        "# y su desviación estándar\n",
        "\n",
        "import math\n",
        "\n",
        "def calcular_promedio_desviacion(lista):\n",
        "    # Calcular promedio\n",
        "    promedio = sum(lista)/len(lista)\n",
        "\n",
        "    # Calcular desviación\n",
        "    lista_menos_promedio = [(x-promedio)**2 / len(lista) for x in lista]\n",
        "    desviacion = math.sqrt( sum(lista_menos_promedio))\n",
        "\n",
        "    return promedio, desviacion"
      ],
      "id": "bceda848",
      "execution_count": null,
      "outputs": []
    },
    {
      "cell_type": "code",
      "metadata": {
        "id": "5006b8d2",
        "colab": {
          "base_uri": "https://localhost:8080/"
        },
        "outputId": "f60b44cf-4fe8-4125-ecbc-2b125fd962e1"
      },
      "source": [
        "# Una vez creada, podemos usar la función\n",
        "lista_nros = [3, 27, 5, 2, 9]\n",
        "prom, desv = calcular_promedio_desviacion(lista_nros)\n",
        "print('Promedio: ' + str(prom))\n",
        "print('Desviación: ' + str(desv))"
      ],
      "id": "5006b8d2",
      "execution_count": null,
      "outputs": [
        {
          "output_type": "stream",
          "text": [
            "Promedio: 9.2\n",
            "Desviación: 9.21737489744233\n"
          ],
          "name": "stdout"
        }
      ]
    },
    {
      "cell_type": "markdown",
      "metadata": {
        "id": "SSPqTXWPpAtx"
      },
      "source": [
        "## 4. Diccionarios\n",
        "\n",
        "Se usan para almacenar datos en pares key:value."
      ],
      "id": "SSPqTXWPpAtx"
    },
    {
      "cell_type": "code",
      "metadata": {
        "id": "O7lwmr_WpE9k",
        "colab": {
          "base_uri": "https://localhost:8080/"
        },
        "outputId": "541f0095-3092-4e04-b097-23ac744ec01d"
      },
      "source": [
        "alfabeto = 'abcdefghijlmnñopqrstuv'\n",
        "\n",
        "# Codificar cada letra del alfabeto con un número y almacenar los pares\n",
        "# letra-número en un diccionario\n",
        "car_a_num = { car:num for num,car in enumerate(alfabeto)}\n",
        "print(car_a_num)"
      ],
      "id": "O7lwmr_WpE9k",
      "execution_count": null,
      "outputs": [
        {
          "output_type": "stream",
          "text": [
            "{'a': 0, 'b': 1, 'c': 2, 'd': 3, 'e': 4, 'f': 5, 'g': 6, 'h': 7, 'i': 8, 'j': 9, 'l': 10, 'm': 11, 'n': 12, 'ñ': 13, 'o': 14, 'p': 15, 'q': 16, 'r': 17, 's': 18, 't': 19, 'u': 20, 'v': 21}\n"
          ],
          "name": "stdout"
        }
      ]
    },
    {
      "cell_type": "code",
      "metadata": {
        "id": "yV4SVXJApmbL",
        "colab": {
          "base_uri": "https://localhost:8080/"
        },
        "outputId": "b5241f1b-9652-4e67-d5a7-17c8a0d98031"
      },
      "source": [
        "# Acceder a un elemento\n",
        "car_a_num['ñ']"
      ],
      "id": "yV4SVXJApmbL",
      "execution_count": null,
      "outputs": [
        {
          "output_type": "execute_result",
          "data": {
            "text/plain": [
              "13"
            ]
          },
          "metadata": {
            "tags": []
          },
          "execution_count": 20
        }
      ]
    },
    {
      "cell_type": "markdown",
      "metadata": {
        "id": "9891df23"
      },
      "source": [
        "## 5. Ayuda y documentación\n",
        "\n",
        "Se obtiene agregando el símbolo \"?\" a la función correspondiente"
      ],
      "id": "9891df23"
    },
    {
      "cell_type": "code",
      "metadata": {
        "id": "2da00629"
      },
      "source": [
        "import os"
      ],
      "id": "2da00629",
      "execution_count": null,
      "outputs": []
    },
    {
      "cell_type": "code",
      "metadata": {
        "id": "cfa264cf"
      },
      "source": [
        "os.close?"
      ],
      "id": "cfa264cf",
      "execution_count": null,
      "outputs": []
    },
    {
      "cell_type": "code",
      "metadata": {
        "id": "308b0cd1"
      },
      "source": [
        "os.path?"
      ],
      "id": "308b0cd1",
      "execution_count": null,
      "outputs": []
    }
  ]
}