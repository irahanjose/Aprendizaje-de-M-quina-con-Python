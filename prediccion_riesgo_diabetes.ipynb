{
  "nbformat": 4,
  "nbformat_minor": 0,
  "metadata": {
    "colab": {
      "name": "prediccion_riesgo_diabetes.ipynb",
      "provenance": [],
      "collapsed_sections": [
        "FmMeo1Psme4A"
      ],
      "include_colab_link": true
    },
    "kernelspec": {
      "name": "python3",
      "display_name": "Python 3"
    },
    "language_info": {
      "name": "python"
    }
  },
  "cells": [
    {
      "cell_type": "markdown",
      "metadata": {
        "id": "view-in-github",
        "colab_type": "text"
      },
      "source": [
        "<a href=\"https://colab.research.google.com/github/irahanjose/Aprendizaje-de-M-quina-con-Python/blob/main/prediccion_riesgo_diabetes.ipynb\" target=\"_parent\"><img src=\"https://colab.research.google.com/assets/colab-badge.svg\" alt=\"Open In Colab\"/></a>"
      ]
    },
    {
      "cell_type": "markdown",
      "metadata": {
        "id": "Hn_tOMD0mIlE"
      },
      "source": [
        "# Proyecto: predicción de riesgo de diabetes"
      ]
    },
    {
      "cell_type": "markdown",
      "metadata": {
        "id": "FmMeo1Psme4A"
      },
      "source": [
        "##1 - El problema a resolver\n",
        "\n",
        "La diabetes es una enfermedad crónica asociada a elevados niveles de azúcar en la sangre.\n",
        "\n",
        "El problema es que se trata de una enfermedad \"silenciosa\", difícil de detectar en etapas tempranas, pues muchas veces es asintomática.\n",
        "\n",
        "La idea es usar el [set de datos de los indígenas Pima](https://www.kaggle.com/uciml/pima-indians-diabetes-database), que contiene múltiples variables predictivas asociadas a la diabetes así como la presencia o ausencia de la enfermedad en una muestra de esta población, para entrenar una Red Neuronal capaz de predecir la probabilidad de aparición de diabetes. "
      ]
    },
    {
      "cell_type": "markdown",
      "metadata": {
        "id": "hHCeE5Gun82N"
      },
      "source": [
        "## 2 - El set de datos\n",
        "\n",
        "Este set fue obtenido de una población de 768 indígenas, todas mujeres y con edades de 21 años en adelante.\n",
        "\n",
        "Cada dato corresponde a un sujeto y contiene un total de ocho (8) características (*features*), así como la variable *Outcome* indicando si el sujeto tiene (1) o no (0) la enfermedad:\n",
        "\n",
        "- *Pregnancies*: número de embarazos\n",
        "- *Glucose*: concentración de glucosa en plasma\n",
        "- *BloodPressure*: presión sanguínea diastólica (en mmHg)\n",
        "- *SkinThickness*: espesor del pliegue cutáneo en el triceps (en mm)\n",
        "- *Insulin*: nivel de insulina en suero sanguíneo\n",
        "- *BMI*: índice de masa corporal (peso en kg / (altura en m)^2)\n",
        "- *DiabetesPedigreeFunction*: una función que representa un puntaje asociado al riesgo de desarrollar la enfermedad, calculado con base en el historial familiar del sujeto\n",
        "- *Age*: la edad en años del sujeto\n",
        "- *Outcome*: la categoría a la que pertenece el sujeto. *1* si desarrolló la enfermedad dentro de los 5 años posteriores a la obtención de las variables, *0* si no la desarrolló.\n",
        "\n",
        "Comencemos realizando la lectura del dataset:"
      ]
    },
    {
      "cell_type": "code",
      "metadata": {
        "id": "IsP-kH33J451",
        "colab": {
          "base_uri": "https://localhost:8080/"
        },
        "outputId": "bd26db24-9eb8-4832-e14f-0da63ccfca16"
      },
      "source": [
        "# Preparar Google Drive\n",
        "from google.colab import drive\n",
        "drive.mount('/gdrive')"
      ],
      "execution_count": null,
      "outputs": [
        {
          "output_type": "stream",
          "text": [
            "Drive already mounted at /gdrive; to attempt to forcibly remount, call drive.mount(\"/gdrive\", force_remount=True).\n"
          ],
          "name": "stdout"
        }
      ]
    },
    {
      "cell_type": "markdown",
      "metadata": {
        "id": "8nssyCUbmH4n"
      },
      "source": [
        ""
      ]
    },
    {
      "cell_type": "code",
      "metadata": {
        "id": "tB-2SPWaJ46E"
      },
      "source": [
        "# Leer el dataset \n",
        "import pandas as pd\n",
        "ruta = '/gdrive/MyDrive/Colab Notebooks/01_2021-07-FundamentosDL/1.23_1.27/diabetes.csv'\n",
        "df = pd.read_csv(ruta)"
      ],
      "execution_count": null,
      "outputs": []
    },
    {
      "cell_type": "code",
      "metadata": {
        "id": "GVo_nb_yKpM5",
        "colab": {
          "base_uri": "https://localhost:8080/",
          "height": 205
        },
        "outputId": "0a8dd13d-c6d7-44bb-9c7e-9e4364a32f5c"
      },
      "source": [
        "df.head()"
      ],
      "execution_count": null,
      "outputs": [
        {
          "output_type": "execute_result",
          "data": {
            "text/html": [
              "<div>\n",
              "<style scoped>\n",
              "    .dataframe tbody tr th:only-of-type {\n",
              "        vertical-align: middle;\n",
              "    }\n",
              "\n",
              "    .dataframe tbody tr th {\n",
              "        vertical-align: top;\n",
              "    }\n",
              "\n",
              "    .dataframe thead th {\n",
              "        text-align: right;\n",
              "    }\n",
              "</style>\n",
              "<table border=\"1\" class=\"dataframe\">\n",
              "  <thead>\n",
              "    <tr style=\"text-align: right;\">\n",
              "      <th></th>\n",
              "      <th>Pregnancies</th>\n",
              "      <th>Glucose</th>\n",
              "      <th>BloodPressure</th>\n",
              "      <th>SkinThickness</th>\n",
              "      <th>Insulin</th>\n",
              "      <th>BMI</th>\n",
              "      <th>DiabetesPedigreeFunction</th>\n",
              "      <th>Age</th>\n",
              "      <th>Outcome</th>\n",
              "    </tr>\n",
              "  </thead>\n",
              "  <tbody>\n",
              "    <tr>\n",
              "      <th>0</th>\n",
              "      <td>6</td>\n",
              "      <td>148</td>\n",
              "      <td>72</td>\n",
              "      <td>35.0</td>\n",
              "      <td>113.0</td>\n",
              "      <td>33.6</td>\n",
              "      <td>0.627</td>\n",
              "      <td>50</td>\n",
              "      <td>1</td>\n",
              "    </tr>\n",
              "    <tr>\n",
              "      <th>1</th>\n",
              "      <td>1</td>\n",
              "      <td>85</td>\n",
              "      <td>66</td>\n",
              "      <td>29.0</td>\n",
              "      <td>88.5</td>\n",
              "      <td>26.6</td>\n",
              "      <td>0.351</td>\n",
              "      <td>31</td>\n",
              "      <td>0</td>\n",
              "    </tr>\n",
              "    <tr>\n",
              "      <th>2</th>\n",
              "      <td>8</td>\n",
              "      <td>183</td>\n",
              "      <td>64</td>\n",
              "      <td>24.0</td>\n",
              "      <td>227.5</td>\n",
              "      <td>23.3</td>\n",
              "      <td>0.672</td>\n",
              "      <td>32</td>\n",
              "      <td>1</td>\n",
              "    </tr>\n",
              "    <tr>\n",
              "      <th>3</th>\n",
              "      <td>1</td>\n",
              "      <td>89</td>\n",
              "      <td>66</td>\n",
              "      <td>23.0</td>\n",
              "      <td>94.0</td>\n",
              "      <td>28.1</td>\n",
              "      <td>0.167</td>\n",
              "      <td>21</td>\n",
              "      <td>0</td>\n",
              "    </tr>\n",
              "    <tr>\n",
              "      <th>4</th>\n",
              "      <td>0</td>\n",
              "      <td>137</td>\n",
              "      <td>40</td>\n",
              "      <td>35.0</td>\n",
              "      <td>168.0</td>\n",
              "      <td>43.1</td>\n",
              "      <td>2.288</td>\n",
              "      <td>33</td>\n",
              "      <td>1</td>\n",
              "    </tr>\n",
              "  </tbody>\n",
              "</table>\n",
              "</div>"
            ],
            "text/plain": [
              "   Pregnancies  Glucose  BloodPressure  ...  DiabetesPedigreeFunction  Age  Outcome\n",
              "0            6      148             72  ...                     0.627   50        1\n",
              "1            1       85             66  ...                     0.351   31        0\n",
              "2            8      183             64  ...                     0.672   32        1\n",
              "3            1       89             66  ...                     0.167   21        0\n",
              "4            0      137             40  ...                     2.288   33        1\n",
              "\n",
              "[5 rows x 9 columns]"
            ]
          },
          "metadata": {
            "tags": []
          },
          "execution_count": 3
        }
      ]
    },
    {
      "cell_type": "code",
      "metadata": {
        "id": "N0O6f3rYKsov",
        "colab": {
          "base_uri": "https://localhost:8080/"
        },
        "outputId": "9b84c3fb-5fa6-4705-8232-51a753e80b70"
      },
      "source": [
        "df.shape"
      ],
      "execution_count": null,
      "outputs": [
        {
          "output_type": "execute_result",
          "data": {
            "text/plain": [
              "(768, 9)"
            ]
          },
          "metadata": {
            "tags": []
          },
          "execution_count": 4
        }
      ]
    },
    {
      "cell_type": "markdown",
      "metadata": {
        "id": "RksG5CWOqhKy"
      },
      "source": [
        "Una primera observación es que el dataset contiene muy pocos datos (768). Al hacer la división convencional entre entrenamiento/prueba/validación, se tendrán muy pocos datos de prueba y validación.\n",
        "\n",
        "Al final veremos qué alternativa se puede usar para validar correctamente el modelo."
      ]
    },
    {
      "cell_type": "markdown",
      "metadata": {
        "id": "-mMEphH4LAz6"
      },
      "source": [
        "##3 - Análisis Exploratorio de los Datos\n",
        "\n",
        "El primer paso en todo proyecto de Deep Learning es **entender** los datos. Esto implica, entre otras, entender las distribuciones, el rango de valores que tienen y si hay o no datos faltantes."
      ]
    },
    {
      "cell_type": "code",
      "metadata": {
        "id": "gTEdeceEK82O",
        "colab": {
          "base_uri": "https://localhost:8080/",
          "height": 555
        },
        "outputId": "21826cd4-1703-46e1-afe1-a80368d4455e"
      },
      "source": [
        "# Distribución de los datos (histogramas)\n",
        "import matplotlib.pyplot as plt\n",
        "\n",
        "fig = plt.figure(figsize = (15,8))\n",
        "axes = fig.gca()\n",
        "df.hist(ax = axes);"
      ],
      "execution_count": null,
      "outputs": [
        {
          "output_type": "stream",
          "text": [
            "/usr/local/lib/python3.7/dist-packages/ipykernel_launcher.py:6: UserWarning: To output multiple subplots, the figure containing the passed axes is being cleared\n",
            "  \n"
          ],
          "name": "stderr"
        },
        {
          "output_type": "display_data",
          "data": {
            "image/png": "[encoded data removed]",
            "text/plain": [
              "<Figure size 1080x576 with 9 Axes>"
            ]
          },
          "metadata": {
            "tags": [],
            "needs_background": "light"
          }
        }
      ]
    },
    {
      "cell_type": "markdown",
      "metadata": {
        "id": "PqEwVY4mrfI5"
      },
      "source": [
        "Algunas observaciones:\n",
        "\n",
        "- Las variables *Glucose*, *BloodPressure*, *SkinThickness* y *BMI* tienen una distribución normal (campana Gaussiana).\n",
        "- Las variables *Pregnancies*, *Insulin*, *DiabetesPedigreeFunction* y *Age* están sesgadas hacia la izquierda.\n",
        "- Cada variable tiene una escala diferente.\n",
        "- El set está desbalanceado: hay más sujetos sanos (categoría 0) que enfermos (categoría 1).\n",
        "- Hay algunos datos \"sospechosos\": en las variables *Glucose*, *BloodPressure* y *BMI* algunos sujetos presentan valores iguales a 0, ¡lo cual es fisiológicamente imposible!"
      ]
    },
    {
      "cell_type": "markdown",
      "metadata": {
        "id": "pRb-sdbczbRc"
      },
      "source": [
        "## 4 - Manejo de datos faltantes\n",
        "\n",
        "Los datos \"sospechosos\" pueden corresponder a lo que se conoce como datos faltantes (bien sea porque no fueron tomados en su momento o porque la muestra no fue procesada correctamente)."
      ]
    },
    {
      "cell_type": "code",
      "metadata": {
        "id": "pLdYGrepzdIM",
        "colab": {
          "base_uri": "https://localhost:8080/"
        },
        "outputId": "a17de4ba-6a5f-40d7-8533-edb52a377e35"
      },
      "source": [
        "# Buscar casillas vacías (\"null\") en el DataFrame\n",
        "print(df.isnull().any())"
      ],
      "execution_count": null,
      "outputs": [
        {
          "output_type": "stream",
          "text": [
            "Pregnancies                 False\n",
            "Glucose                     False\n",
            "BloodPressure               False\n",
            "SkinThickness               False\n",
            "Insulin                     False\n",
            "BMI                         False\n",
            "DiabetesPedigreeFunction    False\n",
            "Age                         False\n",
            "Outcome                     False\n",
            "dtype: bool\n"
          ],
          "name": "stdout"
        }
      ]
    },
    {
      "cell_type": "code",
      "metadata": {
        "id": "khZBVy11z2Qr",
        "colab": {
          "base_uri": "https://localhost:8080/",
          "height": 319
        },
        "outputId": "d4c45d66-9bca-4c68-cd08-e5d626d0ce5f"
      },
      "source": [
        "# Al parecer no hay datos faltantes. Se puede usar describe para \n",
        "# obtener una descripción estadística de cada característica\n",
        "df.describe()"
      ],
      "execution_count": null,
      "outputs": [
        {
          "output_type": "execute_result",
          "data": {
            "text/html": [
              "<div>\n",
              "<style scoped>\n",
              "    .dataframe tbody tr th:only-of-type {\n",
              "        vertical-align: middle;\n",
              "    }\n",
              "\n",
              "    .dataframe tbody tr th {\n",
              "        vertical-align: top;\n",
              "    }\n",
              "\n",
              "    .dataframe thead th {\n",
              "        text-align: right;\n",
              "    }\n",
              "</style>\n",
              "<table border=\"1\" class=\"dataframe\">\n",
              "  <thead>\n",
              "    <tr style=\"text-align: right;\">\n",
              "      <th></th>\n",
              "      <th>Pregnancies</th>\n",
              "      <th>Glucose</th>\n",
              "      <th>BloodPressure</th>\n",
              "      <th>SkinThickness</th>\n",
              "      <th>Insulin</th>\n",
              "      <th>BMI</th>\n",
              "      <th>DiabetesPedigreeFunction</th>\n",
              "      <th>Age</th>\n",
              "      <th>Outcome</th>\n",
              "    </tr>\n",
              "  </thead>\n",
              "  <tbody>\n",
              "    <tr>\n",
              "      <th>count</th>\n",
              "      <td>768.000000</td>\n",
              "      <td>768.000000</td>\n",
              "      <td>768.000000</td>\n",
              "      <td>768.000000</td>\n",
              "      <td>768.000000</td>\n",
              "      <td>768.000000</td>\n",
              "      <td>768.000000</td>\n",
              "      <td>768.000000</td>\n",
              "      <td>768.000000</td>\n",
              "    </tr>\n",
              "    <tr>\n",
              "      <th>mean</th>\n",
              "      <td>3.845052</td>\n",
              "      <td>120.894531</td>\n",
              "      <td>69.105469</td>\n",
              "      <td>29.116536</td>\n",
              "      <td>155.886719</td>\n",
              "      <td>31.992578</td>\n",
              "      <td>0.471876</td>\n",
              "      <td>33.240885</td>\n",
              "      <td>0.348958</td>\n",
              "    </tr>\n",
              "    <tr>\n",
              "      <th>std</th>\n",
              "      <td>3.369578</td>\n",
              "      <td>31.972618</td>\n",
              "      <td>19.355807</td>\n",
              "      <td>9.771631</td>\n",
              "      <td>105.112147</td>\n",
              "      <td>7.884160</td>\n",
              "      <td>0.331329</td>\n",
              "      <td>11.760232</td>\n",
              "      <td>0.476951</td>\n",
              "    </tr>\n",
              "    <tr>\n",
              "      <th>min</th>\n",
              "      <td>0.000000</td>\n",
              "      <td>0.000000</td>\n",
              "      <td>0.000000</td>\n",
              "      <td>7.000000</td>\n",
              "      <td>14.000000</td>\n",
              "      <td>0.000000</td>\n",
              "      <td>0.078000</td>\n",
              "      <td>21.000000</td>\n",
              "      <td>0.000000</td>\n",
              "    </tr>\n",
              "    <tr>\n",
              "      <th>25%</th>\n",
              "      <td>1.000000</td>\n",
              "      <td>99.000000</td>\n",
              "      <td>62.000000</td>\n",
              "      <td>22.000000</td>\n",
              "      <td>84.750000</td>\n",
              "      <td>27.300000</td>\n",
              "      <td>0.243750</td>\n",
              "      <td>24.000000</td>\n",
              "      <td>0.000000</td>\n",
              "    </tr>\n",
              "    <tr>\n",
              "      <th>50%</th>\n",
              "      <td>3.000000</td>\n",
              "      <td>117.000000</td>\n",
              "      <td>72.000000</td>\n",
              "      <td>29.000000</td>\n",
              "      <td>129.500000</td>\n",
              "      <td>32.000000</td>\n",
              "      <td>0.372500</td>\n",
              "      <td>29.000000</td>\n",
              "      <td>0.000000</td>\n",
              "    </tr>\n",
              "    <tr>\n",
              "      <th>75%</th>\n",
              "      <td>6.000000</td>\n",
              "      <td>140.250000</td>\n",
              "      <td>80.000000</td>\n",
              "      <td>35.500000</td>\n",
              "      <td>194.000000</td>\n",
              "      <td>36.600000</td>\n",
              "      <td>0.626250</td>\n",
              "      <td>41.000000</td>\n",
              "      <td>1.000000</td>\n",
              "    </tr>\n",
              "    <tr>\n",
              "      <th>max</th>\n",
              "      <td>17.000000</td>\n",
              "      <td>199.000000</td>\n",
              "      <td>122.000000</td>\n",
              "      <td>99.000000</td>\n",
              "      <td>846.000000</td>\n",
              "      <td>67.100000</td>\n",
              "      <td>2.420000</td>\n",
              "      <td>81.000000</td>\n",
              "      <td>1.000000</td>\n",
              "    </tr>\n",
              "  </tbody>\n",
              "</table>\n",
              "</div>"
            ],
            "text/plain": [
              "       Pregnancies     Glucose  ...         Age     Outcome\n",
              "count   768.000000  768.000000  ...  768.000000  768.000000\n",
              "mean      3.845052  120.894531  ...   33.240885    0.348958\n",
              "std       3.369578   31.972618  ...   11.760232    0.476951\n",
              "min       0.000000    0.000000  ...   21.000000    0.000000\n",
              "25%       1.000000   99.000000  ...   24.000000    0.000000\n",
              "50%       3.000000  117.000000  ...   29.000000    0.000000\n",
              "75%       6.000000  140.250000  ...   41.000000    1.000000\n",
              "max      17.000000  199.000000  ...   81.000000    1.000000\n",
              "\n",
              "[8 rows x 9 columns]"
            ]
          },
          "metadata": {
            "tags": []
          },
          "execution_count": 7
        }
      ]
    },
    {
      "cell_type": "markdown",
      "metadata": {
        "id": "jqqWZG3Ns6Zj"
      },
      "source": [
        "Observaciones:\n",
        "\n",
        "- Las variables *Pregnancies*, *Glucose*, *BloodPressure* y *BMI* poseen valores mínimos de 0"
      ]
    },
    {
      "cell_type": "code",
      "metadata": {
        "id": "KWVy08s3z-bq",
        "colab": {
          "base_uri": "https://localhost:8080/"
        },
        "outputId": "4db8fc50-4e2c-4c2a-e269-dda9d19df01c"
      },
      "source": [
        "# Miremos qué tantos valores faltantes hay para saber qué estrategia usar\n",
        "\n",
        "for col in df.columns:\n",
        "  filas_faltantes = df.loc[df[col]==0].shape[0]\n",
        "  print(f'{col} : {filas_faltantes}')"
      ],
      "execution_count": null,
      "outputs": [
        {
          "output_type": "stream",
          "text": [
            "Pregnancies : 111\n",
            "Glucose : 5\n",
            "BloodPressure : 35\n",
            "SkinThickness : 0\n",
            "Insulin : 0\n",
            "BMI : 11\n",
            "DiabetesPedigreeFunction : 0\n",
            "Age : 0\n",
            "Outcome : 500\n"
          ],
          "name": "stdout"
        }
      ]
    },
    {
      "cell_type": "markdown",
      "metadata": {
        "id": "kvjhi-QKtWbR"
      },
      "source": [
        "Efectivamente faltan datos. En el caso de *Pregnancies* no es necesario hacer ningún procedimiento (pues realmente puede haber individuos con 0 embarazos), pero en los demás casos (*Glucose*, *BloodPressure* y *BMI*) se puede hacer eliminación o imputación."
      ]
    },
    {
      "cell_type": "code",
      "metadata": {
        "id": "mL_09QYn17Pv"
      },
      "source": [
        "# Tratemos de realizar imputación por la media\n",
        "\n",
        "df_copy = df.copy()\n",
        "\n",
        "import numpy as np\n",
        "\n",
        "# Reemplazar 0s con NaN\n",
        "df_copy['Glucose'] = df_copy['Glucose'].replace(0,np.nan)\n",
        "df_copy['BloodPressure'] = df_copy['BloodPressure'].replace(0,np.nan)\n",
        "df_copy['BMI'] = df_copy['BMI'].replace(0,np.nan)\n",
        "\n",
        "# Reemplazar NaN con el valor promedio de la columna correspondiente\n",
        "df_copy['Glucose'] = df_copy['Glucose'].fillna(df_copy['Glucose'].mean())\n",
        "df_copy['BloodPressure'] = df_copy['BloodPressure'].fillna(df_copy['BloodPressure'].mean())\n",
        "df_copy['BMI'] = df_copy['BMI'].fillna(df_copy['BMI'].mean())"
      ],
      "execution_count": null,
      "outputs": []
    },
    {
      "cell_type": "code",
      "metadata": {
        "id": "wG7lDugcuAnD",
        "colab": {
          "base_uri": "https://localhost:8080/"
        },
        "outputId": "5539d9a8-7b7a-4892-da74-dbc374610315"
      },
      "source": [
        "# Verifiquemos que la distribución de los datos no ha cambiado con la imputación\n",
        "\n",
        "variables = ['Glucose', 'BloodPressure', 'BMI']\n",
        "\n",
        "for variable in variables:\n",
        "  prom_o = df[variable].describe()['mean']\n",
        "  prom_i = df_copy[variable].describe()['mean']\n",
        "  std_o = df[variable].describe()['std']\n",
        "  std_i = df_copy[variable].describe()['std']\n",
        "\n",
        "  print(f'{variable} (original/imputación):')\n",
        "  print(f'   promedio: {prom_o:.2f}/{prom_i:.2f}')\n",
        "  print(f'   desviación: {std_o:.2f}/{std_i:.2f}')"
      ],
      "execution_count": null,
      "outputs": [
        {
          "output_type": "stream",
          "text": [
            "Glucose (original/imputación):\n",
            "   promedio: 120.89/121.69\n",
            "   desviación: 31.97/30.44\n",
            "BloodPressure (original/imputación):\n",
            "   promedio: 69.11/72.41\n",
            "   desviación: 19.36/12.10\n",
            "BMI (original/imputación):\n",
            "   promedio: 31.99/32.46\n",
            "   desviación: 7.88/6.88\n"
          ],
          "name": "stdout"
        }
      ]
    },
    {
      "cell_type": "code",
      "metadata": {
        "id": "Y7uh5a8OvA5g",
        "colab": {
          "base_uri": "https://localhost:8080/",
          "height": 483
        },
        "outputId": "f0598f93-4d82-46c0-90dc-585192093f7c"
      },
      "source": [
        "# Veamos en detalle los cambios en \"BloodPressure\"\n",
        "\n",
        "fig = plt.figure(figsize = (10,8))\n",
        "\n",
        "plt.subplot(121)\n",
        "axes = fig.gca()\n",
        "df['BloodPressure'].hist(ax = axes)\n",
        "\n",
        "plt.subplot(122)\n",
        "axes = fig.gca()\n",
        "df_copy['BloodPressure'].hist(ax = axes);"
      ],
      "execution_count": null,
      "outputs": [
        {
          "output_type": "display_data",
          "data": {
            "image/png": "[encoded data removed]",
            "text/plain": [
              "<Figure size 720x576 with 2 Axes>"
            ]
          },
          "metadata": {
            "tags": [],
            "needs_background": "light"
          }
        }
      ]
    },
    {
      "cell_type": "markdown",
      "metadata": {
        "id": "vv5_xj0v8adM"
      },
      "source": [
        "## 5 - Pre-procesamiento: estandarización de los datos"
      ]
    },
    {
      "cell_type": "code",
      "metadata": {
        "id": "GELRnI838ky8",
        "colab": {
          "base_uri": "https://localhost:8080/",
          "height": 205
        },
        "outputId": "2cb06776-d4f9-42ff-b4f7-312ebc63b6bb"
      },
      "source": [
        "from sklearn import preprocessing\n",
        "df_s = preprocessing.scale(df_copy) # Numpy\n",
        "df_s = pd.DataFrame(df_s, columns=df_copy.columns) # Numpy a pandas\n",
        "df_s['Outcome'] = df_copy['Outcome']\n",
        "df_s.head()\n"
      ],
      "execution_count": null,
      "outputs": [
        {
          "output_type": "execute_result",
          "data": {
            "text/html": [
              "<div>\n",
              "<style scoped>\n",
              "    .dataframe tbody tr th:only-of-type {\n",
              "        vertical-align: middle;\n",
              "    }\n",
              "\n",
              "    .dataframe tbody tr th {\n",
              "        vertical-align: top;\n",
              "    }\n",
              "\n",
              "    .dataframe thead th {\n",
              "        text-align: right;\n",
              "    }\n",
              "</style>\n",
              "<table border=\"1\" class=\"dataframe\">\n",
              "  <thead>\n",
              "    <tr style=\"text-align: right;\">\n",
              "      <th></th>\n",
              "      <th>Pregnancies</th>\n",
              "      <th>Glucose</th>\n",
              "      <th>BloodPressure</th>\n",
              "      <th>SkinThickness</th>\n",
              "      <th>Insulin</th>\n",
              "      <th>BMI</th>\n",
              "      <th>DiabetesPedigreeFunction</th>\n",
              "      <th>Age</th>\n",
              "      <th>Outcome</th>\n",
              "    </tr>\n",
              "  </thead>\n",
              "  <tbody>\n",
              "    <tr>\n",
              "      <th>0</th>\n",
              "      <td>0.639947</td>\n",
              "      <td>0.865108</td>\n",
              "      <td>-0.033518</td>\n",
              "      <td>0.602489</td>\n",
              "      <td>-0.408275</td>\n",
              "      <td>0.166292</td>\n",
              "      <td>0.468492</td>\n",
              "      <td>1.425995</td>\n",
              "      <td>1</td>\n",
              "    </tr>\n",
              "    <tr>\n",
              "      <th>1</th>\n",
              "      <td>-0.844885</td>\n",
              "      <td>-1.206162</td>\n",
              "      <td>-0.529859</td>\n",
              "      <td>-0.011934</td>\n",
              "      <td>-0.641511</td>\n",
              "      <td>-0.852531</td>\n",
              "      <td>-0.365061</td>\n",
              "      <td>-0.190672</td>\n",
              "      <td>0</td>\n",
              "    </tr>\n",
              "    <tr>\n",
              "      <th>2</th>\n",
              "      <td>1.233880</td>\n",
              "      <td>2.015813</td>\n",
              "      <td>-0.695306</td>\n",
              "      <td>-0.523953</td>\n",
              "      <td>0.681748</td>\n",
              "      <td>-1.332833</td>\n",
              "      <td>0.604397</td>\n",
              "      <td>-0.105584</td>\n",
              "      <td>1</td>\n",
              "    </tr>\n",
              "    <tr>\n",
              "      <th>3</th>\n",
              "      <td>-0.844885</td>\n",
              "      <td>-1.074652</td>\n",
              "      <td>-0.529859</td>\n",
              "      <td>-0.626356</td>\n",
              "      <td>-0.589152</td>\n",
              "      <td>-0.634212</td>\n",
              "      <td>-0.920763</td>\n",
              "      <td>-1.041549</td>\n",
              "      <td>0</td>\n",
              "    </tr>\n",
              "    <tr>\n",
              "      <th>4</th>\n",
              "      <td>-1.141852</td>\n",
              "      <td>0.503458</td>\n",
              "      <td>-2.680669</td>\n",
              "      <td>0.602489</td>\n",
              "      <td>0.115317</td>\n",
              "      <td>1.548980</td>\n",
              "      <td>5.484909</td>\n",
              "      <td>-0.020496</td>\n",
              "      <td>1</td>\n",
              "    </tr>\n",
              "  </tbody>\n",
              "</table>\n",
              "</div>"
            ],
            "text/plain": [
              "   Pregnancies   Glucose  ...       Age  Outcome\n",
              "0     0.639947  0.865108  ...  1.425995        1\n",
              "1    -0.844885 -1.206162  ... -0.190672        0\n",
              "2     1.233880  2.015813  ... -0.105584        1\n",
              "3    -0.844885 -1.074652  ... -1.041549        0\n",
              "4    -1.141852  0.503458  ... -0.020496        1\n",
              "\n",
              "[5 rows x 9 columns]"
            ]
          },
          "metadata": {
            "tags": []
          },
          "execution_count": 12
        }
      ]
    },
    {
      "cell_type": "code",
      "metadata": {
        "id": "Lt-37-qxh6my",
        "colab": {
          "base_uri": "https://localhost:8080/"
        },
        "outputId": "34d1e016-07a1-496f-acf0-adac00ae6bb7"
      },
      "source": [
        "# Verificar que la media es cero y la desviación es 1\n",
        "df_s['Insulin'].describe()"
      ],
      "execution_count": null,
      "outputs": [
        {
          "output_type": "execute_result",
          "data": {
            "text/plain": [
              "count    7.680000e+02\n",
              "mean    -1.720267e-17\n",
              "std      1.000652e+00\n",
              "min     -1.350740e+00\n",
              "25%     -6.772108e-01\n",
              "50%     -2.511976e-01\n",
              "75%      3.628327e-01\n",
              "max      6.569774e+00\n",
              "Name: Insulin, dtype: float64"
            ]
          },
          "metadata": {
            "tags": []
          },
          "execution_count": 13
        }
      ]
    },
    {
      "cell_type": "markdown",
      "metadata": {
        "id": "rc_5Qg_KiJIM"
      },
      "source": [
        "<a name=\"splitting\"></a>\n",
        "## 6 - Sets de entrenamiento, prueba y validación\n",
        "\n",
        "Se hará una partición de 80-10-10 %:"
      ]
    },
    {
      "cell_type": "code",
      "metadata": {
        "id": "0tp1s90kh_aM",
        "colab": {
          "base_uri": "https://localhost:8080/"
        },
        "outputId": "0516778d-e753-4d20-ca27-5dee02e8a743"
      },
      "source": [
        "from sklearn.model_selection import train_test_split\n",
        "\n",
        "# Separación features y labels\n",
        "X = df_s.iloc[:,:-1].values\n",
        "Y = df_s.iloc[:,-1].values\n",
        "\n",
        "# Entrenamiento: 80%, test+validación: 20%\n",
        "x_train, x_temp, y_train, y_temp = train_test_split(X, Y, test_size=0.2, random_state=10)\n",
        "\n",
        "# Test: 10%, validación: 10%\n",
        "x_test, x_val, y_test, y_val = train_test_split(x_temp,y_temp, test_size=0.5, random_state=10)\n",
        "\n",
        "print(x_train.shape)\n",
        "print(x_test.shape)\n",
        "print(x_val.shape)"
      ],
      "execution_count": null,
      "outputs": [
        {
          "output_type": "stream",
          "text": [
            "(614, 8)\n",
            "(77, 8)\n",
            "(77, 8)\n"
          ],
          "name": "stdout"
        }
      ]
    },
    {
      "cell_type": "markdown",
      "metadata": {
        "id": "KLncfWX7jTaB"
      },
      "source": [
        "##7 - Modelos base\n",
        "\n",
        "Al no tener un referente crearemos dos modelos de diferente complejidad:\n",
        "\n",
        "- Modelo 1: 1 capa oculta con 4 neuronas (punto medio entre 8 y 1)\n",
        "- Modelo 2: 2 capas ocultas con 5 y 2 neuronas c/u\n",
        "\n",
        "Con esto tendremos una idea de qué tan buenos son y luego podremos refinarlos."
      ]
    },
    {
      "cell_type": "code",
      "metadata": {
        "id": "WTrqW0v6jiSX"
      },
      "source": [
        "# Función auxiliar para la creación de redes\n",
        "from tensorflow.keras import Sequential\n",
        "from tensorflow.keras.layers import Dense\n",
        "import tensorflow as tf\n",
        "import numpy as np\n",
        "SEED = 42\n",
        "tf.random.set_seed(SEED)\n",
        "np.random.seed(SEED)\n",
        "\n",
        "DIM_ENTRADA = x_train.shape[1]   # 8 datos\n",
        "DIM_SALIDA = 1                   # Una de dos posibles categorías (0 ó 1)\n",
        "\n",
        "def crear_modelo(dim_entrada, dim_salida, capas, nombre='', flag_print=True):\n",
        "  mod = Sequential()\n",
        "\n",
        "  # Capa de entrada\n",
        "  mod.add(Dense(capas[0], activation='relu', input_shape=(dim_entrada,), name='capa_1'))\n",
        "\n",
        "  # Continuar agregando capas (si hay más de una oculta)\n",
        "  if len(capas)>1:\n",
        "    i = 1\n",
        "    while i < len(capas):\n",
        "      mod.add(Dense(capas[i], activation='relu', name='capa_'+str(i+1)))\n",
        "      i += 1\n",
        "  \n",
        "  # Capa de salida\n",
        "  mod.add(Dense(dim_salida, activation='sigmoid', name='capa_salida'))\n",
        "  \n",
        "  mod._name = nombre\n",
        "  \n",
        "  if flag_print:\n",
        "    mod.summary()\n",
        "\n",
        "  return mod"
      ],
      "execution_count": null,
      "outputs": []
    },
    {
      "cell_type": "code",
      "metadata": {
        "id": "eRCiq7Tljxjw",
        "colab": {
          "base_uri": "https://localhost:8080/"
        },
        "outputId": "ad05078c-c7ad-422f-bd85-f15a2aa327e4"
      },
      "source": [
        "capas1 = [4]\n",
        "capas2 = [5, 2]\n",
        "modelo1 = crear_modelo(DIM_ENTRADA, DIM_SALIDA, capas1, 'modelo_1')\n",
        "modelo2 = crear_modelo(DIM_ENTRADA, DIM_SALIDA, capas2,'modelo_2')"
      ],
      "execution_count": null,
      "outputs": [
        {
          "output_type": "stream",
          "text": [
            "Model: \"modelo_1\"\n",
            "_________________________________________________________________\n",
            "Layer (type)                 Output Shape              Param #   \n",
            "=================================================================\n",
            "capa_1 (Dense)               (None, 4)                 36        \n",
            "_________________________________________________________________\n",
            "capa_salida (Dense)          (None, 1)                 5         \n",
            "=================================================================\n",
            "Total params: 41\n",
            "Trainable params: 41\n",
            "Non-trainable params: 0\n",
            "_________________________________________________________________\n",
            "Model: \"modelo_2\"\n",
            "_________________________________________________________________\n",
            "Layer (type)                 Output Shape              Param #   \n",
            "=================================================================\n",
            "capa_1 (Dense)               (None, 5)                 45        \n",
            "_________________________________________________________________\n",
            "capa_2 (Dense)               (None, 2)                 12        \n",
            "_________________________________________________________________\n",
            "capa_salida (Dense)          (None, 1)                 3         \n",
            "=================================================================\n",
            "Total params: 60\n",
            "Trainable params: 60\n",
            "Non-trainable params: 0\n",
            "_________________________________________________________________\n"
          ],
          "name": "stdout"
        }
      ]
    },
    {
      "cell_type": "markdown",
      "metadata": {
        "id": "2TBMUEr0kdFp"
      },
      "source": [
        "##8 - Entrenamiento y prueba"
      ]
    },
    {
      "cell_type": "code",
      "metadata": {
        "id": "HOVGPubhj3oc"
      },
      "source": [
        "from tensorflow.keras.optimizers import SGD\n",
        "\n",
        "def compilar_entrenar(modelo, n_epochs=1000, tam_lote=None):\n",
        "  opt = SGD(learning_rate=0.5)\n",
        "  modelo.compile(optimizer=opt, loss='binary_crossentropy',\n",
        "                 metrics=['accuracy'])\n",
        "  \n",
        "  hist = modelo.fit(\n",
        "      x_train, y_train, epochs=n_epochs, validation_data=(x_test,y_test),\n",
        "      batch_size = tam_lote, verbose=0)\n",
        "\n",
        "  # Al final del entrenamiento imprimir en pantalla la precisión lograda\n",
        "  # con los sets de entrenamiento y prueba\n",
        "  acc_train = modelo.evaluate(x_train,y_train,verbose=0)\n",
        "  acc_test = modelo.evaluate(x_test,y_test,verbose=0)\n",
        "\n",
        "  print(f'{modelo.name} - exactitud entrenamiento/prueba: {100*acc_train[1]:.2f}%/{100*acc_test[1]:.2f}%')\n",
        "\n",
        "  return hist"
      ],
      "execution_count": null,
      "outputs": []
    },
    {
      "cell_type": "code",
      "metadata": {
        "id": "s7EBvIAiktIH",
        "colab": {
          "base_uri": "https://localhost:8080/"
        },
        "outputId": "f89487f9-10bc-41df-ffa6-600e5514363e"
      },
      "source": [
        "TAM_LOTE = x_train.shape[0]\n",
        "historia1 = compilar_entrenar(modelo1, tam_lote=TAM_LOTE)\n",
        "historia2 = compilar_entrenar(modelo2, tam_lote=TAM_LOTE)"
      ],
      "execution_count": null,
      "outputs": [
        {
          "output_type": "stream",
          "text": [
            "modelo_1 - exactitud entrenamiento/prueba: 79.15%/71.43%\n",
            "modelo_2 - exactitud entrenamiento/prueba: 81.11%/80.52%\n"
          ],
          "name": "stdout"
        }
      ]
    },
    {
      "cell_type": "code",
      "metadata": {
        "id": "XRvvTIBakvdX"
      },
      "source": [
        "# Comportamiento de la pérdida y la precisión\n",
        "import matplotlib.pyplot as plt\n",
        "\n",
        "def graficar(historia):\n",
        "  plt.figure(figsize=(15,5))\n",
        "\n",
        "  loss = historia.history['loss']\n",
        "  accuracy = historia.history['accuracy']\n",
        "  test_loss = historia.history['val_loss']\n",
        "  test_accuracy = historia.history['val_accuracy']\n",
        "  epochs = historia.epoch\n",
        "\n",
        "  plt.subplot(121)\n",
        "  plt.plot(epochs,loss,label='train_loss')\n",
        "  plt.plot(epochs,test_loss,'b--',label='test_loss')\n",
        "  plt.legend()\n",
        "\n",
        "  plt.subplot(122)\n",
        "  plt.plot(epochs,accuracy,label='train_acc')\n",
        "  plt.plot(epochs,test_accuracy,'b--',label='test_acc')\n",
        "  plt.legend()"
      ],
      "execution_count": null,
      "outputs": []
    },
    {
      "cell_type": "code",
      "metadata": {
        "id": "cQmkza-Zk81t",
        "colab": {
          "base_uri": "https://localhost:8080/",
          "height": 320
        },
        "outputId": "da42534b-95af-4449-f7d3-7cbf5d2a7b95"
      },
      "source": [
        "graficar(historia1)"
      ],
      "execution_count": null,
      "outputs": [
        {
          "output_type": "display_data",
          "data": {
            "image/png": "[encoded data removed]",
            "text/plain": [
              "<Figure size 1080x360 with 2 Axes>"
            ]
          },
          "metadata": {
            "tags": [],
            "needs_background": "light"
          }
        }
      ]
    },
    {
      "cell_type": "code",
      "metadata": {
        "id": "7TUN-uiTk_go",
        "colab": {
          "base_uri": "https://localhost:8080/",
          "height": 323
        },
        "outputId": "67c93073-f88b-4fbc-bc17-fffe28effa46"
      },
      "source": [
        "graficar(historia2)"
      ],
      "execution_count": null,
      "outputs": [
        {
          "output_type": "display_data",
          "data": {
            "image/png": "[encoded data removed]",
            "text/plain": [
              "<Figure size 1080x360 with 2 Axes>"
            ]
          },
          "metadata": {
            "tags": [],
            "needs_background": "light"
          }
        }
      ]
    },
    {
      "cell_type": "code",
      "metadata": {
        "id": "U-uFaCBfXO0j",
        "colab": {
          "base_uri": "https://localhost:8080/"
        },
        "outputId": "b44c5200-f6f3-4535-a744-9b3a241b6d18"
      },
      "source": [
        "# Validación (set de validación)\n",
        "puntaje1 = modelo1.evaluate(x_val,y_val,verbose=0)\n",
        "puntaje2 = modelo2.evaluate(x_val,y_val,verbose=0)\n",
        "\n",
        "print(f'Validación modelo 1: exactitud {100*puntaje1[1]:.2f}%')\n",
        "print(f'Validación modelo 2: exactitud {100*puntaje2[1]:.2f}%')\n",
        "\n",
        "# ¡Parece ser mejor el modelo 1!"
      ],
      "execution_count": null,
      "outputs": [
        {
          "output_type": "stream",
          "text": [
            "Validación modelo 1: exactitud 77.92%\n",
            "Validación modelo 2: exactitud 76.62%\n"
          ],
          "name": "stdout"
        }
      ]
    },
    {
      "cell_type": "markdown",
      "metadata": {
        "id": "xAHEMR_kiw4H"
      },
      "source": [
        "El problema de este entrenamiento, prueba y validación es que el set está desbalanceado y hay muy pocos datos:\n",
        "\n",
        "- Se entrenó con 614 datos\n",
        "- Se probó con 77 datos\n",
        "- Se validó con 77 datos\n",
        "\n",
        "Estos datos están distribuidos así:"
      ]
    },
    {
      "cell_type": "code",
      "metadata": {
        "id": "9mcArP2rjDgm",
        "colab": {
          "base_uri": "https://localhost:8080/"
        },
        "outputId": "311f7e38-2e10-4831-b9e8-bbee665bdc2e"
      },
      "source": [
        "# Entrenamiento\n",
        "n_train = y_train[y_train==0].shape[0]  # Normales entrenamiento\n",
        "e_train = y_train[y_train==1].shape[0]  # Enfermos entrenamiento\n",
        "pctj_n_train = n_train/(n_train+e_train)\n",
        "pctj_e_train = 1 - pctj_n_train\n",
        "\n",
        "# Prueba\n",
        "n_test = y_test[y_test==0].shape[0]  # Normales prueba\n",
        "e_test = y_test[y_test==1].shape[0]  # Enfermos prueba\n",
        "pctj_n_test = n_test/(n_test+e_test)\n",
        "pctj_e_test = 1 - pctj_n_test\n",
        "\n",
        "# Validación\n",
        "n_val = y_val[y_val==0].shape[0]  # Normales entrenamiento\n",
        "e_val = y_val[y_val==1].shape[0]  # Enfermos entrenamiento\n",
        "pctj_n_val = n_val/(n_val+e_val)\n",
        "pctj_e_val = 1 - pctj_n_val\n",
        "\n",
        "print(f'Entrenamiento: {100*pctj_n_train:.0f}% normales, {100*pctj_e_train:.0f}% enfermos')\n",
        "print(f'Prueba: {100*pctj_n_test:.0f}% normales, {100*pctj_e_test:.0f}% enfermos')\n",
        "print(f'Validación: {100*pctj_n_val:.0f}% normales, {100*pctj_e_val:.0f}% enfermos')"
      ],
      "execution_count": null,
      "outputs": [
        {
          "output_type": "stream",
          "text": [
            "Entrenamiento: 66% normales, 34% enfermos\n",
            "Prueba: 65% normales, 35% enfermos\n",
            "Validación: 58% normales, 42% enfermos\n"
          ],
          "name": "stdout"
        }
      ]
    },
    {
      "cell_type": "markdown",
      "metadata": {
        "id": "Q11JQ4bFkNDH"
      },
      "source": [
        "- Para entrenamiento y prueba se tienen prácticamente las mismas proporciones, pero en la validación son diferentes (hay más enfermos que en los casos anteriores)\n",
        "- Esto afecta la validación final con cada modelo\n",
        "- Es decir que el desempeño del modelo no dependerá del modelo mismo, sino más bien de los datos con los que está siendo entrenado (que son muy pocos)\n",
        "\n",
        "¿Qué alternativa existe para una validación más robusta?"
      ]
    },
    {
      "cell_type": "markdown",
      "metadata": {
        "id": "ZMAL-ikOUn1N"
      },
      "source": [
        "##9 - Cross-validation\n",
        "\n",
        "Cuando se tienen pocos datos de entrenamiento se sugiere NO dividirlos en entrenamiento-prueba-validación (usualmente 80-10-10), pues de hacerlo los sets de prueba y validación no serán una muestra representativa.\n",
        "\n",
        "Con *k-fold cross-validation* se evita este sesgo y se tiene una validación más robusta.\n",
        "\n",
        "La idea general es:\n",
        "- Generar *k* particiones del set de datos\n",
        "- Entrenar *k* veces cada modelo. En cada entrenamiento:\n",
        "  - *k-1* particiones se usan para entrenamiento y la partición restante para prueba. No hay validación\n",
        "  - La partición de prueba cambia en cada entrenamiento\n",
        "\n",
        "![](https://drive.google.com/uc?export=view&id=1hW-LZcm1Avzo69Nm3QKEEQU_HlVdjkTG)\n",
        "\n",
        "Al final del entrenamiento se calcula el promedio y la desviación de las métricas de desempeño (*accuracy*) para los *k* entrenamientos, y se escoge el modelo con el mejor desempeño promedio.\n",
        "\n",
        "Finalmente se entrena este modelo escogido con **la totalidad** del set de datos."
      ]
    },
    {
      "cell_type": "code",
      "metadata": {
        "id": "jwSQ6aCbeW4S"
      },
      "source": [
        "from sklearn.model_selection import KFold, StratifiedKFold\n",
        "\n",
        "def kfold_crossvalidation(capas, nfolds, X, Y):\n",
        "\n",
        "  kfold = StratifiedKFold(n_splits=nfolds, shuffle=True)\n",
        "\n",
        "  nfold = 1\n",
        "  acc_fold = []\n",
        "\n",
        "  opt = SGD(learning_rate=0.5)\n",
        "  NEPOCHS = 1000\n",
        "  for train, test in kfold.split(X,Y):\n",
        "\n",
        "    # Crear el modelo\n",
        "    modelo = crear_modelo(DIM_ENTRADA, DIM_SALIDA, capas, flag_print=False)\n",
        "\n",
        "    # Compilar y entrenar\n",
        "    print('-------------------------------------------------------------------')\n",
        "    print(f'Entrenando fold {nfold}...')\n",
        "\n",
        "    modelo.compile(optimizer=opt, loss='binary_crossentropy', metrics=['accuracy'])\n",
        "\n",
        "    hist = modelo.fit(\n",
        "        X[train], Y[train], epochs=NEPOCHS, batch_size = X[train].shape[0], verbose=0\n",
        "        )\n",
        "    \n",
        "    # Calcular 'accuracy' para entrenamiento y prueba para cada modelo entrenado\n",
        "    acc_train = modelo.evaluate(X[train],Y[train],verbose=0)\n",
        "    acc_test = modelo.evaluate(X[test],Y[test],verbose=0)\n",
        "\n",
        "    print(f'{modelo.name} - Exactitud (accuracy) entrenamiento/prueba: {100*acc_train[1]:.2f}%/{100*acc_test[1]:.2f}%')\n",
        "\n",
        "    acc_fold.append(acc_test[1] * 100)\n",
        "\n",
        "    nfold += 1\n",
        "\n",
        "  print('-------------------------------------------------------------------')\n",
        "  print(f'Exactitud promedio set de prueba para {nfolds} folds: {np.mean(acc_fold):.2f} +- {np.std(acc_fold):.2f}')"
      ],
      "execution_count": null,
      "outputs": []
    },
    {
      "cell_type": "code",
      "metadata": {
        "id": "5oxogEQGh6Cc",
        "colab": {
          "base_uri": "https://localhost:8080/"
        },
        "outputId": "63297dde-9355-44fa-91a9-fc83f988fe80"
      },
      "source": [
        "kfold_crossvalidation([4], 5, X, Y)"
      ],
      "execution_count": null,
      "outputs": [
        {
          "output_type": "stream",
          "text": [
            "-------------------------------------------------------------------\n",
            "Entrenando fold 1...\n",
            " - Exactitud (accuracy) entrenamiento/prueba: 80.29%/75.97%\n",
            "-------------------------------------------------------------------\n",
            "Entrenando fold 2...\n",
            " - Exactitud (accuracy) entrenamiento/prueba: 79.32%/79.87%\n",
            "-------------------------------------------------------------------\n",
            "Entrenando fold 3...\n",
            " - Exactitud (accuracy) entrenamiento/prueba: 81.11%/77.92%\n",
            "-------------------------------------------------------------------\n",
            "Entrenando fold 4...\n",
            " - Exactitud (accuracy) entrenamiento/prueba: 80.81%/75.82%\n",
            "-------------------------------------------------------------------\n",
            "Entrenando fold 5...\n",
            " - Exactitud (accuracy) entrenamiento/prueba: 81.63%/75.16%\n",
            "-------------------------------------------------------------------\n",
            "Exactitud promedio set de prueba para 5 folds: 76.95 +- 1.73\n"
          ],
          "name": "stdout"
        }
      ]
    },
    {
      "cell_type": "code",
      "metadata": {
        "id": "_sJgUazDiJ9s",
        "colab": {
          "base_uri": "https://localhost:8080/"
        },
        "outputId": "78120143-5cd2-48ae-d819-76766d3dacdf"
      },
      "source": [
        "kfold_crossvalidation([5, 2], 5, X, Y)"
      ],
      "execution_count": null,
      "outputs": [
        {
          "output_type": "stream",
          "text": [
            "-------------------------------------------------------------------\n",
            "Entrenando fold 1...\n",
            " - Exactitud (accuracy) entrenamiento/prueba: 83.55%/71.43%\n",
            "-------------------------------------------------------------------\n",
            "Entrenando fold 2...\n",
            " - Exactitud (accuracy) entrenamiento/prueba: 83.06%/75.97%\n",
            "-------------------------------------------------------------------\n",
            "Entrenando fold 3...\n",
            " - Exactitud (accuracy) entrenamiento/prueba: 77.85%/81.17%\n",
            "-------------------------------------------------------------------\n",
            "Entrenando fold 4...\n",
            " - Exactitud (accuracy) entrenamiento/prueba: 82.28%/77.78%\n",
            "-------------------------------------------------------------------\n",
            "Entrenando fold 5...\n",
            " - Exactitud (accuracy) entrenamiento/prueba: 79.35%/73.20%\n",
            "-------------------------------------------------------------------\n",
            "Exactitud promedio set de prueba para 5 folds: 75.91 +- 3.42\n"
          ],
          "name": "stdout"
        }
      ]
    },
    {
      "cell_type": "markdown",
      "metadata": {
        "id": "wcYkA7W0EjFZ"
      },
      "source": [
        "El modelo 1 es ligeramente mejor que el modelo 2 (mayor promedio de exactitud y menor varianza).\n",
        "\n",
        "Finalmente, el modelo definitivo se entrena con la totalidad del dataset y puede ser almacenado en un archivo para posteriores predicciones:"
      ]
    },
    {
      "cell_type": "code",
      "metadata": {
        "id": "Ujj1BXEpcobP"
      },
      "source": [
        "modelo = crear_modelo(DIM_ENTRADA, DIM_SALIDA, [4], 'modelo_final')\n",
        "opt = SGD(learning_rate=0.5)\n",
        "modelo.compile(optimizer=opt, loss='binary_crossentropy', metrics=['accuracy'])\n",
        "hist = modelo.fit(X, Y, epochs=1000, batch_size=X.shape[0], verbose=1)\n",
        "#modelo.save('/gdrive/MyDrive/Colab Notebooks/01_2021-07-FundamentosDL/1.23/modelo.h5')\n",
        "#modelo = modelo.load(ruta)\n"
      ],
      "execution_count": null,
      "outputs": []
    },
    {
      "cell_type": "markdown",
      "metadata": {
        "id": "btB9IEOqKlDL"
      },
      "source": [
        "## 10 - Conclusiones y sugerencias finales\n",
        "\n",
        "- Siempre al inicio de un proyecto de Deep Learning es esencial realizar al menos tres etapas: análisis exploratorio, manejo de datos faltantes (si aplica) y normalización/estandarización de los datos\n",
        "- Cuando se tienen pocos datos de entrenamiento se sugiere usar validación cruzada (*k-fold cross-validation*)\n",
        "\n",
        "Sugerencias:\n",
        "- Intentar mejorar el modelo final, modificando diferentes hiperparámetros (número de neuronas, tasa de aprendizaje, tamaño de lote, número de iteraciones) y en cada caso hacer validación cruzada."
      ]
    }
  ]
}