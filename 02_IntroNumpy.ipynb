{
  "nbformat": 4,
  "nbformat_minor": 5,
  "metadata": {
    "kernelspec": {
      "display_name": "Python 3",
      "language": "python",
      "name": "python3"
    },
    "language_info": {
      "codemirror_mode": {
        "name": "ipython",
        "version": 3
      },
      "file_extension": ".py",
      "mimetype": "text/x-python",
      "name": "python",
      "nbconvert_exporter": "python",
      "pygments_lexer": "ipython3",
      "version": "3.8.5"
    },
    "colab": {
      "name": "02-IntroNumpy.ipynb",
      "provenance": [],
      "collapsed_sections": [],
      "include_colab_link": true
    }
  },
  "cells": [
    {
      "cell_type": "markdown",
      "metadata": {
        "id": "view-in-github",
        "colab_type": "text"
      },
      "source": [
        "<a href=\"https://colab.research.google.com/github/irahanjose/Aprendizaje-de-M-quina-con-Python/blob/main/02_IntroNumpy.ipynb\" target=\"_parent\"><img src=\"https://colab.research.google.com/assets/colab-badge.svg\" alt=\"Open In Colab\"/></a>"
      ]
    },
    {
      "cell_type": "markdown",
      "metadata": {
        "id": "038d9def"
      },
      "source": [
        "# Lo esencial de Numpy para Deep Learning"
      ],
      "id": "038d9def"
    },
    {
      "cell_type": "code",
      "metadata": {
        "id": "f7qoS1SmRXGQ"
      },
      "source": [
        "import numpy as np"
      ],
      "id": "f7qoS1SmRXGQ",
      "execution_count": null,
      "outputs": []
    },
    {
      "cell_type": "markdown",
      "metadata": {
        "heading_collapsed": true,
        "id": "caff8c65"
      },
      "source": [
        "## 1. Vectores"
      ],
      "id": "caff8c65"
    },
    {
      "cell_type": "code",
      "metadata": {
        "hidden": true,
        "id": "bbf66775",
        "colab": {
          "base_uri": "https://localhost:8080/"
        },
        "outputId": "2779c617-624e-43a3-ec88-676a50f79143"
      },
      "source": [
        "# Vector fila de 1x20\n",
        "vector_fila = np.arange(0,20)\n",
        "print(vector_fila)\n",
        "type(vector_fila)"
      ],
      "id": "bbf66775",
      "execution_count": null,
      "outputs": [
        {
          "output_type": "stream",
          "text": [
            "[ 0  1  2  3  4  5  6  7  8  9 10 11 12 13 14 15 16 17 18 19]\n"
          ],
          "name": "stdout"
        },
        {
          "output_type": "execute_result",
          "data": {
            "text/plain": [
              "numpy.ndarray"
            ]
          },
          "metadata": {
            "tags": []
          },
          "execution_count": 3
        }
      ]
    },
    {
      "cell_type": "code",
      "metadata": {
        "hidden": true,
        "id": "eb9d889b",
        "colab": {
          "base_uri": "https://localhost:8080/"
        },
        "outputId": "5c137bd8-921b-477e-90a1-e49ee36bfb17"
      },
      "source": [
        "# Características (tamaño, tipo de datos)\n",
        "print(vector_fila.shape)\n",
        "print(type(vector_fila))\n",
        "print(vector_fila.dtype) # Se puede acceder a las opciones de \"vector\" escribiendo vector. y oprimiendo \"Tab\""
      ],
      "id": "eb9d889b",
      "execution_count": null,
      "outputs": [
        {
          "output_type": "stream",
          "text": [
            "(20,)\n",
            "<class 'numpy.ndarray'>\n",
            "int64\n"
          ],
          "name": "stdout"
        }
      ]
    },
    {
      "cell_type": "code",
      "metadata": {
        "hidden": true,
        "id": "d2c1c551",
        "colab": {
          "base_uri": "https://localhost:8080/"
        },
        "outputId": "e602d4e0-f0a3-4dad-b512-a58839f4e9cd"
      },
      "source": [
        "# Funciones útiles\n",
        "print(vector_fila.mean())\n",
        "print(vector_fila.max())"
      ],
      "id": "d2c1c551",
      "execution_count": null,
      "outputs": [
        {
          "output_type": "stream",
          "text": [
            "9.5\n",
            "19\n"
          ],
          "name": "stdout"
        }
      ]
    },
    {
      "cell_type": "code",
      "metadata": {
        "hidden": true,
        "id": "2842ff86",
        "colab": {
          "base_uri": "https://localhost:8080/"
        },
        "outputId": "d682628a-f27e-4581-d2fe-d1abbcd3184d"
      },
      "source": [
        "# Convertirlo en vector columna (reshape)\n",
        "vector_columna = vector_fila.reshape(20,1)\n",
        "print(vector_columna)\n",
        "print(vector_columna.shape)"
      ],
      "id": "2842ff86",
      "execution_count": null,
      "outputs": [
        {
          "output_type": "stream",
          "text": [
            "[[ 0]\n",
            " [ 1]\n",
            " [ 2]\n",
            " [ 3]\n",
            " [ 4]\n",
            " [ 5]\n",
            " [ 6]\n",
            " [ 7]\n",
            " [ 8]\n",
            " [ 9]\n",
            " [10]\n",
            " [11]\n",
            " [12]\n",
            " [13]\n",
            " [14]\n",
            " [15]\n",
            " [16]\n",
            " [17]\n",
            " [18]\n",
            " [19]]\n",
            "(20, 1)\n"
          ],
          "name": "stdout"
        }
      ]
    },
    {
      "cell_type": "markdown",
      "metadata": {
        "id": "cf21668c"
      },
      "source": [
        "## 2. Matrices"
      ],
      "id": "cf21668c"
    },
    {
      "cell_type": "code",
      "metadata": {
        "id": "edbe2087",
        "colab": {
          "base_uri": "https://localhost:8080/"
        },
        "outputId": "363d6ac7-2f57-443d-d31b-63d027d672ee"
      },
      "source": [
        "# Matrix de 5 filas x 4 columnas con números aleatorios\n",
        "matriz = np.random.randn(5,4)\n",
        "print(matriz)"
      ],
      "id": "edbe2087",
      "execution_count": null,
      "outputs": [
        {
          "output_type": "stream",
          "name": "stdout",
          "text": [
            "[[ 1.20882452  1.08504046 -0.5063634  -0.7442248 ]\n",
            " [-0.4557556   0.12779684  1.69176772 -1.64302223]\n",
            " [-1.1302146   0.06707312  1.62445974  0.46378129]\n",
            " [-0.45895427 -0.44021354  0.66630988 -1.30696795]\n",
            " [ 1.28186455 -1.16914498 -0.570579   -1.25359861]]\n"
          ]
        }
      ]
    },
    {
      "cell_type": "code",
      "metadata": {
        "id": "bf177426",
        "colab": {
          "base_uri": "https://localhost:8080/"
        },
        "outputId": "73130242-10f8-408d-f687-15ef821863ca"
      },
      "source": [
        "print(matriz.shape)\n",
        "print(type(matriz))\n",
        "print(matriz.dtype)"
      ],
      "id": "bf177426",
      "execution_count": null,
      "outputs": [
        {
          "output_type": "stream",
          "text": [
            "(5, 4)\n",
            "<class 'numpy.ndarray'>\n",
            "float64\n"
          ],
          "name": "stdout"
        }
      ]
    },
    {
      "cell_type": "code",
      "metadata": {
        "id": "b6bb54d9"
      },
      "source": [
        "# Al igual que con los vectores se pueden calcular parámetros como mean, std, max, min. Pero en este caso\n",
        "# se debe especificar si es por filas, por columnas o el cálculo sobre todo el arreglo\n",
        "matriz.mean?"
      ],
      "id": "b6bb54d9",
      "execution_count": null,
      "outputs": []
    },
    {
      "cell_type": "code",
      "metadata": {
        "id": "48f8db7b",
        "colab": {
          "base_uri": "https://localhost:8080/"
        },
        "outputId": "bbc1aa20-b991-44a3-916b-be949124dd11"
      },
      "source": [
        "print(matriz.mean(axis=0)) # Promedio de cada columna"
      ],
      "id": "48f8db7b",
      "execution_count": null,
      "outputs": [
        {
          "output_type": "stream",
          "text": [
            "[-0.11488058  0.02554805 -0.26765019  0.22906841]\n"
          ],
          "name": "stdout"
        }
      ]
    },
    {
      "cell_type": "code",
      "metadata": {
        "id": "6e0613b6",
        "colab": {
          "base_uri": "https://localhost:8080/"
        },
        "outputId": "afcb2040-09eb-4460-fadd-4fabe8dcc551"
      },
      "source": [
        "print(matriz.mean(axis=1)) # Promedio de cada fila"
      ],
      "id": "6e0613b6",
      "execution_count": null,
      "outputs": [
        {
          "output_type": "stream",
          "text": [
            "[-0.11287971  0.62793144 -0.4620235  -0.2577885   0.04486739]\n"
          ],
          "name": "stdout"
        }
      ]
    },
    {
      "cell_type": "code",
      "metadata": {
        "id": "01e6a0ec",
        "colab": {
          "base_uri": "https://localhost:8080/"
        },
        "outputId": "578fc7ff-1b9c-47ed-aa66-d1768b6ecb7a"
      },
      "source": [
        "print(matriz.mean()) # Convertir la matriz en un vector (matriz[:]) y calcular la media"
      ],
      "id": "01e6a0ec",
      "execution_count": null,
      "outputs": [
        {
          "output_type": "stream",
          "name": "stdout",
          "text": [
            "-0.07310604247735171\n"
          ]
        }
      ]
    },
    {
      "cell_type": "code",
      "metadata": {
        "id": "2e75705b",
        "colab": {
          "base_uri": "https://localhost:8080/"
        },
        "outputId": "46401a04-d78c-4970-a9a4-ac1f38feb36b"
      },
      "source": [
        "# Transpuesta de una matriz: (5,4) -> (4,5)\n",
        "matriz_T = matriz.T\n",
        "print(matriz)\n",
        "print(matriz_T)"
      ],
      "id": "2e75705b",
      "execution_count": null,
      "outputs": [
        {
          "output_type": "stream",
          "text": [
            "[[ 0.33236584  0.28144676 -1.13466725  0.06933583]\n",
            " [ 0.94538246  1.32099067 -0.45666187  0.70201449]\n",
            " [-1.41586204  0.35916566 -0.01862525 -0.77277237]\n",
            " [-0.28121434 -0.54329848 -0.51251452  0.30587335]\n",
            " [-0.15507481 -1.29056435  0.78421796  0.84089076]]\n",
            "[[ 0.33236584  0.94538246 -1.41586204 -0.28121434 -0.15507481]\n",
            " [ 0.28144676  1.32099067  0.35916566 -0.54329848 -1.29056435]\n",
            " [-1.13466725 -0.45666187 -0.01862525 -0.51251452  0.78421796]\n",
            " [ 0.06933583  0.70201449 -0.77277237  0.30587335  0.84089076]]\n"
          ],
          "name": "stdout"
        }
      ]
    },
    {
      "cell_type": "code",
      "metadata": {
        "id": "T69lY3JWyvYP"
      },
      "source": [
        ""
      ],
      "id": "T69lY3JWyvYP",
      "execution_count": null,
      "outputs": []
    }
  ]
}